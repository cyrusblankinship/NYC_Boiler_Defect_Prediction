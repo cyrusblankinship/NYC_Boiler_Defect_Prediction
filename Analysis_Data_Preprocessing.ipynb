{
 "cells": [
  {
   "cell_type": "markdown",
   "metadata": {},
   "source": [
    "# Data Preprocessing\n",
    "This notebook includes all the steps we took to prepare our data for our three models (i.e. Naive Bayes, Random Forest Classification, and Bayesian Networks). "
   ]
  },
  {
   "cell_type": "code",
   "execution_count": 179,
   "metadata": {},
   "outputs": [],
   "source": [
    "import numpy as np\n",
    "import pandas as pd\n",
    "import matplotlib.pyplot as plt"
   ]
  },
  {
   "cell_type": "code",
   "execution_count": 180,
   "metadata": {},
   "outputs": [
    {
     "name": "stderr",
     "output_type": "stream",
     "text": [
      "/usr/local/Anaconda3-5.0.0-Linux-x86_64/envs/PUI2016_Python3/lib/python3.5/site-packages/IPython/core/interactiveshell.py:2717: DtypeWarning: Columns (16,20,30,33,35,36,37,69,70) have mixed types. Specify dtype option on import or set low_memory=False.\n",
      "  interactivity=interactivity, compiler=compiler, result=result)\n"
     ]
    },
    {
     "name": "stdout",
     "output_type": "stream",
     "text": [
      "(1632518, 95)\n"
     ]
    },
    {
     "data": {
      "text/html": [
       "<div>\n",
       "<table border=\"1\" class=\"dataframe\">\n",
       "  <thead>\n",
       "    <tr style=\"text-align: right;\">\n",
       "      <th></th>\n",
       "      <th>bin_number</th>\n",
       "      <th>boiler_id</th>\n",
       "      <th>defects_exist</th>\n",
       "      <th>inspection_year</th>\n",
       "      <th>first_inspection</th>\n",
       "      <th>boiler_age</th>\n",
       "      <th>years_since_last_defects</th>\n",
       "      <th>boiler_make</th>\n",
       "      <th>boiler_model</th>\n",
       "      <th>boiler_pressure_type</th>\n",
       "      <th>...</th>\n",
       "      <th>total_population</th>\n",
       "      <th>white_population</th>\n",
       "      <th>median_household_income</th>\n",
       "      <th>state</th>\n",
       "      <th>county</th>\n",
       "      <th>tract</th>\n",
       "      <th>boro</th>\n",
       "      <th>over_65_pct</th>\n",
       "      <th>over_white_pct</th>\n",
       "      <th>tract2</th>\n",
       "    </tr>\n",
       "  </thead>\n",
       "  <tbody>\n",
       "    <tr>\n",
       "      <th>0</th>\n",
       "      <td>1080776</td>\n",
       "      <td>10000000027N0001</td>\n",
       "      <td>0</td>\n",
       "      <td>1993</td>\n",
       "      <td>1993</td>\n",
       "      <td>0</td>\n",
       "      <td>NaN</td>\n",
       "      <td>SLANTFIN</td>\n",
       "      <td>GG-399</td>\n",
       "      <td>Low Pressure</td>\n",
       "      <td>...</td>\n",
       "      <td>3803.0</td>\n",
       "      <td>2978.0</td>\n",
       "      <td>135588.0</td>\n",
       "      <td>36.0</td>\n",
       "      <td>61.0</td>\n",
       "      <td>7400.0</td>\n",
       "      <td>1.0</td>\n",
       "      <td>0.14173</td>\n",
       "      <td>0.783066</td>\n",
       "      <td>7400.0</td>\n",
       "    </tr>\n",
       "    <tr>\n",
       "      <th>1</th>\n",
       "      <td>1080776</td>\n",
       "      <td>10000000027N0001</td>\n",
       "      <td>0</td>\n",
       "      <td>1994</td>\n",
       "      <td>1993</td>\n",
       "      <td>1</td>\n",
       "      <td>NaN</td>\n",
       "      <td>SLANTFIN</td>\n",
       "      <td>GG-399</td>\n",
       "      <td>Low Pressure</td>\n",
       "      <td>...</td>\n",
       "      <td>3803.0</td>\n",
       "      <td>2978.0</td>\n",
       "      <td>135588.0</td>\n",
       "      <td>36.0</td>\n",
       "      <td>61.0</td>\n",
       "      <td>7400.0</td>\n",
       "      <td>1.0</td>\n",
       "      <td>0.14173</td>\n",
       "      <td>0.783066</td>\n",
       "      <td>7400.0</td>\n",
       "    </tr>\n",
       "    <tr>\n",
       "      <th>2</th>\n",
       "      <td>1080776</td>\n",
       "      <td>10000000027N0001</td>\n",
       "      <td>0</td>\n",
       "      <td>1995</td>\n",
       "      <td>1993</td>\n",
       "      <td>2</td>\n",
       "      <td>NaN</td>\n",
       "      <td>SLANTFIN</td>\n",
       "      <td>GG-399</td>\n",
       "      <td>Low Pressure</td>\n",
       "      <td>...</td>\n",
       "      <td>3803.0</td>\n",
       "      <td>2978.0</td>\n",
       "      <td>135588.0</td>\n",
       "      <td>36.0</td>\n",
       "      <td>61.0</td>\n",
       "      <td>7400.0</td>\n",
       "      <td>1.0</td>\n",
       "      <td>0.14173</td>\n",
       "      <td>0.783066</td>\n",
       "      <td>7400.0</td>\n",
       "    </tr>\n",
       "    <tr>\n",
       "      <th>3</th>\n",
       "      <td>1080776</td>\n",
       "      <td>10000000027N0001</td>\n",
       "      <td>0</td>\n",
       "      <td>1996</td>\n",
       "      <td>1993</td>\n",
       "      <td>3</td>\n",
       "      <td>NaN</td>\n",
       "      <td>SLANTFIN</td>\n",
       "      <td>GG-399</td>\n",
       "      <td>Low Pressure</td>\n",
       "      <td>...</td>\n",
       "      <td>3803.0</td>\n",
       "      <td>2978.0</td>\n",
       "      <td>135588.0</td>\n",
       "      <td>36.0</td>\n",
       "      <td>61.0</td>\n",
       "      <td>7400.0</td>\n",
       "      <td>1.0</td>\n",
       "      <td>0.14173</td>\n",
       "      <td>0.783066</td>\n",
       "      <td>7400.0</td>\n",
       "    </tr>\n",
       "    <tr>\n",
       "      <th>4</th>\n",
       "      <td>1080776</td>\n",
       "      <td>10000000027N0001</td>\n",
       "      <td>0</td>\n",
       "      <td>1997</td>\n",
       "      <td>1993</td>\n",
       "      <td>4</td>\n",
       "      <td>NaN</td>\n",
       "      <td>SLANTFIN</td>\n",
       "      <td>GG-399</td>\n",
       "      <td>Low Pressure</td>\n",
       "      <td>...</td>\n",
       "      <td>3803.0</td>\n",
       "      <td>2978.0</td>\n",
       "      <td>135588.0</td>\n",
       "      <td>36.0</td>\n",
       "      <td>61.0</td>\n",
       "      <td>7400.0</td>\n",
       "      <td>1.0</td>\n",
       "      <td>0.14173</td>\n",
       "      <td>0.783066</td>\n",
       "      <td>7400.0</td>\n",
       "    </tr>\n",
       "  </tbody>\n",
       "</table>\n",
       "<p>5 rows × 95 columns</p>\n",
       "</div>"
      ],
      "text/plain": [
       "   bin_number         boiler_id  defects_exist  inspection_year  \\\n",
       "0     1080776  10000000027N0001              0             1993   \n",
       "1     1080776  10000000027N0001              0             1994   \n",
       "2     1080776  10000000027N0001              0             1995   \n",
       "3     1080776  10000000027N0001              0             1996   \n",
       "4     1080776  10000000027N0001              0             1997   \n",
       "\n",
       "   first_inspection  boiler_age  years_since_last_defects boiler_make  \\\n",
       "0              1993           0                       NaN    SLANTFIN   \n",
       "1              1993           1                       NaN    SLANTFIN   \n",
       "2              1993           2                       NaN    SLANTFIN   \n",
       "3              1993           3                       NaN    SLANTFIN   \n",
       "4              1993           4                       NaN    SLANTFIN   \n",
       "\n",
       "  boiler_model boiler_pressure_type   ...    total_population  \\\n",
       "0       GG-399         Low Pressure   ...              3803.0   \n",
       "1       GG-399         Low Pressure   ...              3803.0   \n",
       "2       GG-399         Low Pressure   ...              3803.0   \n",
       "3       GG-399         Low Pressure   ...              3803.0   \n",
       "4       GG-399         Low Pressure   ...              3803.0   \n",
       "\n",
       "   white_population  median_household_income  state  county   tract boro  \\\n",
       "0            2978.0                 135588.0   36.0    61.0  7400.0  1.0   \n",
       "1            2978.0                 135588.0   36.0    61.0  7400.0  1.0   \n",
       "2            2978.0                 135588.0   36.0    61.0  7400.0  1.0   \n",
       "3            2978.0                 135588.0   36.0    61.0  7400.0  1.0   \n",
       "4            2978.0                 135588.0   36.0    61.0  7400.0  1.0   \n",
       "\n",
       "  over_65_pct over_white_pct  tract2  \n",
       "0     0.14173       0.783066  7400.0  \n",
       "1     0.14173       0.783066  7400.0  \n",
       "2     0.14173       0.783066  7400.0  \n",
       "3     0.14173       0.783066  7400.0  \n",
       "4     0.14173       0.783066  7400.0  \n",
       "\n",
       "[5 rows x 95 columns]"
      ]
     },
     "execution_count": 180,
     "metadata": {},
     "output_type": "execute_result"
    }
   ],
   "source": [
    "# import file\n",
    "dbn = pd.read_csv('data/all_boilder_year_data_w_ACS.csv')\n",
    "dbn.drop('Unnamed: 0', axis=1, inplace=True)\n",
    "print(dbn.shape)\n",
    "dbn.head()"
   ]
  },
  {
   "cell_type": "markdown",
   "metadata": {},
   "source": [
    "## Step 1: Create Dummy Variables"
   ]
  },
  {
   "cell_type": "markdown",
   "metadata": {},
   "source": [
    "List of variables we want to include from dataset (italics are features we need to create dummy variable for):\n",
    "* **Defects exist** (what our model will predict)\n",
    "* Years since last failure (if any)\n",
    "* Boiler Age\n",
    "* *Boiler Pressure Type* - turn to 0/1\n",
    "* *Boiler Make/Model*\n",
    "* *Census tract*\n",
    "* Pct White\n",
    "* Median Income\n",
    "* *Building Owner*\n",
    "* Building Area\n",
    "* Res Units\n",
    "* Number Floors\n",
    "* *Land Use (11 discrete values)*"
   ]
  },
  {
   "cell_type": "code",
   "execution_count": 181,
   "metadata": {},
   "outputs": [
    {
     "data": {
      "text/plain": [
       "boiler_id                       10000000027N0001\n",
       "defects_exist                                  0\n",
       "ct_bc_comb                                107400\n",
       "boiler_age                                    15\n",
       "years_since_last_defects                       3\n",
       "boiler_make                             SLANTFIN\n",
       "boiler_model                              GG-399\n",
       "boiler_pressure_type                Low Pressure\n",
       "ownername                   88 MADISON HOTEL FEE\n",
       "landuse                                        5\n",
       "bldgarea                                  185785\n",
       "unitstotal                                     8\n",
       "builtfar                                   10.38\n",
       "median_household_income                   135588\n",
       "over_65_pct                              0.14173\n",
       "over_white_pct                          0.783066\n",
       "Name: 13, dtype: object"
      ]
     },
     "execution_count": 181,
     "metadata": {},
     "output_type": "execute_result"
    }
   ],
   "source": [
    "dbn_cropped = dbn[['boiler_id','defects_exist','ct_bc_comb','boiler_age',\n",
    "                  'years_since_last_defects', 'boiler_make', 'boiler_model', \n",
    "                   'boiler_pressure_type','ownername','landuse','bldgarea',\n",
    "                   'unitstotal','builtfar','median_household_income',\n",
    "                   'over_65_pct', 'over_white_pct'\n",
    "                  ]].copy()\n",
    "dbn_cropped.iloc[13]"
   ]
  },
  {
   "cell_type": "markdown",
   "metadata": {},
   "source": [
    "#### 1. Pressure Type"
   ]
  },
  {
   "cell_type": "code",
   "execution_count": 182,
   "metadata": {},
   "outputs": [
    {
     "data": {
      "text/plain": [
       "0    1\n",
       "1    1\n",
       "2    1\n",
       "3    1\n",
       "4    1\n",
       "Name: dummy_pressure_type, dtype: int8"
      ]
     },
     "execution_count": 182,
     "metadata": {},
     "output_type": "execute_result"
    }
   ],
   "source": [
    "dbn_cropped.boiler_pressure_type = pd.Categorical(dbn_cropped.boiler_pressure_type)\n",
    "dbn_cropped['dummy_pressure_type'] = dbn_cropped.boiler_pressure_type.cat.codes\n",
    "dbn_cropped.dummy_pressure_type.head()"
   ]
  },
  {
   "cell_type": "markdown",
   "metadata": {},
   "source": [
    "low pressure = 1, high pressure = 0"
   ]
  },
  {
   "cell_type": "markdown",
   "metadata": {},
   "source": [
    "#### 2. Boiler Make/Model\n",
    "find worst performers and combine into a binary variable?"
   ]
  },
  {
   "cell_type": "code",
   "execution_count": 183,
   "metadata": {},
   "outputs": [
    {
     "data": {
      "text/plain": [
       "((191806, 95), (1632518, 95))"
      ]
     },
     "execution_count": 183,
     "metadata": {},
     "output_type": "execute_result"
    }
   ],
   "source": [
    "defects = dbn[dbn.defects_exist == 1]\n",
    "defects.shape, dbn.shape"
   ]
  },
  {
   "cell_type": "code",
   "execution_count": 184,
   "metadata": {},
   "outputs": [],
   "source": [
    "def RateFunc(field):\n",
    "    '''\n",
    "    this function is used to determine what classes for a given field \n",
    "    have the highest rate of failure\n",
    "    '''\n",
    "    gb_defects = defects.groupby(field)['bin_number'].count().reset_index()\n",
    "    gb_all = dbn.groupby(field)['bin_number'].count().reset_index()\n",
    "    summary = gb_defects.merge(gb_all, on=field)\n",
    "    summary = summary.rename(columns={'bin_number_x':'CountFailed', 'bin_number_y':'CountTotal'})\n",
    "    summary['FailureRate'] = (summary.CountFailed/summary.CountTotal)*100\n",
    "    summary = summary.sort_values(by='FailureRate',ascending=False).reset_index(drop=True)\n",
    "    return summary"
   ]
  },
  {
   "cell_type": "code",
   "execution_count": 185,
   "metadata": {},
   "outputs": [
    {
     "data": {
      "text/plain": [
       "1851"
      ]
     },
     "execution_count": 185,
     "metadata": {},
     "output_type": "execute_result"
    }
   ],
   "source": [
    "dbn_cropped.boiler_make.nunique()"
   ]
  },
  {
   "cell_type": "code",
   "execution_count": 186,
   "metadata": {},
   "outputs": [
    {
     "data": {
      "text/plain": [
       "12659"
      ]
     },
     "execution_count": 186,
     "metadata": {},
     "output_type": "execute_result"
    }
   ],
   "source": [
    "dbn_cropped.boiler_model.nunique()"
   ]
  },
  {
   "cell_type": "markdown",
   "metadata": {},
   "source": [
    "*Obviously can't search over 1,851 makes and 12,659 models. Instead, create dummy variables for worst performing model/make combinations*"
   ]
  },
  {
   "cell_type": "code",
   "execution_count": 187,
   "metadata": {},
   "outputs": [
    {
     "data": {
      "text/plain": [
       "1632518"
      ]
     },
     "execution_count": 187,
     "metadata": {},
     "output_type": "execute_result"
    }
   ],
   "source": [
    "dbn_cropped.shape[0]"
   ]
  },
  {
   "cell_type": "code",
   "execution_count": 188,
   "metadata": {},
   "outputs": [
    {
     "data": {
      "text/html": [
       "<div>\n",
       "<table border=\"1\" class=\"dataframe\">\n",
       "  <thead>\n",
       "    <tr style=\"text-align: right;\">\n",
       "      <th></th>\n",
       "      <th>boiler_make</th>\n",
       "      <th>CountFailed</th>\n",
       "      <th>CountTotal</th>\n",
       "      <th>FailureRate</th>\n",
       "    </tr>\n",
       "  </thead>\n",
       "  <tbody>\n",
       "    <tr>\n",
       "      <th>116</th>\n",
       "      <td>BRYAN</td>\n",
       "      <td>295</td>\n",
       "      <td>1041</td>\n",
       "      <td>28.338136</td>\n",
       "    </tr>\n",
       "    <tr>\n",
       "      <th>120</th>\n",
       "      <td>NATIONAL RADIATOR</td>\n",
       "      <td>80</td>\n",
       "      <td>289</td>\n",
       "      <td>27.681661</td>\n",
       "    </tr>\n",
       "    <tr>\n",
       "      <th>145</th>\n",
       "      <td>GIBRALTOR</td>\n",
       "      <td>93</td>\n",
       "      <td>369</td>\n",
       "      <td>25.203252</td>\n",
       "    </tr>\n",
       "    <tr>\n",
       "      <th>168</th>\n",
       "      <td>LCHINVAR</td>\n",
       "      <td>59</td>\n",
       "      <td>238</td>\n",
       "      <td>24.789916</td>\n",
       "    </tr>\n",
       "    <tr>\n",
       "      <th>188</th>\n",
       "      <td>HAMILTON</td>\n",
       "      <td>100</td>\n",
       "      <td>437</td>\n",
       "      <td>22.883295</td>\n",
       "    </tr>\n",
       "  </tbody>\n",
       "</table>\n",
       "</div>"
      ],
      "text/plain": [
       "           boiler_make  CountFailed  CountTotal  FailureRate\n",
       "116              BRYAN          295        1041    28.338136\n",
       "120  NATIONAL RADIATOR           80         289    27.681661\n",
       "145          GIBRALTOR           93         369    25.203252\n",
       "168           LCHINVAR           59         238    24.789916\n",
       "188           HAMILTON          100         437    22.883295"
      ]
     },
     "execution_count": 188,
     "metadata": {},
     "output_type": "execute_result"
    }
   ],
   "source": [
    "make = RateFunc(['boiler_make'])\n",
    "make[make.CountTotal > 200].head()"
   ]
  },
  {
   "cell_type": "code",
   "execution_count": 189,
   "metadata": {},
   "outputs": [],
   "source": [
    "bad_makes = set()\n",
    "sum_counts = 0\n",
    "num_records = dbn_cropped.shape[0]\n",
    "\n",
    "for i, row in make.iterrows():\n",
    "    if sum_counts>(num_records/10):\n",
    "        break\n",
    "    # only bad makes that account for 10%?\n",
    "    bad_makes.add(row['boiler_make'])\n",
    "    sum_counts+=row['CountTotal']\n",
    "        \n",
    "bad_makes = list(bad_makes)"
   ]
  },
  {
   "cell_type": "code",
   "execution_count": 190,
   "metadata": {},
   "outputs": [
    {
     "data": {
      "text/plain": [
       "(401, 227782, 1632518)"
      ]
     },
     "execution_count": 190,
     "metadata": {},
     "output_type": "execute_result"
    }
   ],
   "source": [
    "len(bad_makes), sum_counts, num_records"
   ]
  },
  {
   "cell_type": "code",
   "execution_count": 191,
   "metadata": {},
   "outputs": [
    {
     "data": {
      "text/plain": [
       "0    True\n",
       "1    True\n",
       "2    True\n",
       "3    True\n",
       "4    True\n",
       "Name: dummy_make, dtype: bool"
      ]
     },
     "execution_count": 191,
     "metadata": {},
     "output_type": "execute_result"
    }
   ],
   "source": [
    "dbn_cropped['dummy_make'] = dbn_cropped.boiler_make.apply(lambda x: x in bad_makes)\n",
    "dbn_cropped.dummy_make.head()"
   ]
  },
  {
   "cell_type": "markdown",
   "metadata": {},
   "source": [
    "#### Now for boiler model types"
   ]
  },
  {
   "cell_type": "code",
   "execution_count": 192,
   "metadata": {},
   "outputs": [
    {
     "data": {
      "text/plain": [
       "3642"
      ]
     },
     "execution_count": 192,
     "metadata": {},
     "output_type": "execute_result"
    }
   ],
   "source": [
    "models = RateFunc(['boiler_model'])\n",
    "bad_models = set()\n",
    "sum_counts = 0\n",
    "\n",
    "for i, row in models.iterrows():\n",
    "    if sum_counts>(num_records/10):\n",
    "        break\n",
    "    # only bad models that account for 10%?\n",
    "    bad_models.add(row['boiler_model'])\n",
    "    sum_counts+=row['CountTotal']\n",
    "        \n",
    "bad_models = list(bad_models)\n",
    "len(bad_models)"
   ]
  },
  {
   "cell_type": "code",
   "execution_count": 193,
   "metadata": {},
   "outputs": [
    {
     "data": {
      "text/plain": [
       "0    True\n",
       "1    True\n",
       "2    True\n",
       "3    True\n",
       "4    True\n",
       "Name: dummy_model, dtype: bool"
      ]
     },
     "execution_count": 193,
     "metadata": {},
     "output_type": "execute_result"
    }
   ],
   "source": [
    "dbn_cropped['dummy_model'] = dbn_cropped.boiler_model.apply(lambda x: x in bad_models)\n",
    "dbn_cropped.dummy_model.head()"
   ]
  },
  {
   "cell_type": "markdown",
   "metadata": {},
   "source": [
    "#### 3. Census Tracts\n",
    "isolate poor performing census tracts"
   ]
  },
  {
   "cell_type": "code",
   "execution_count": 194,
   "metadata": {},
   "outputs": [
    {
     "data": {
      "text/plain": [
       "317"
      ]
     },
     "execution_count": 194,
     "metadata": {},
     "output_type": "execute_result"
    }
   ],
   "source": [
    "tracts = RateFunc(['ct_bc_comb'])\n",
    "bad_tracts = set()\n",
    "sum_counts = 0\n",
    "\n",
    "for i, row in tracts.iterrows():\n",
    "    if sum_counts>(num_records/10):\n",
    "        break\n",
    "    # only bad models that account for 10%?\n",
    "    bad_tracts.add(row['ct_bc_comb'])\n",
    "    sum_counts+=row['CountTotal']\n",
    "        \n",
    "bad_tracts = list(bad_tracts)\n",
    "len(bad_tracts)"
   ]
  },
  {
   "cell_type": "code",
   "execution_count": 195,
   "metadata": {},
   "outputs": [
    {
     "data": {
      "text/plain": [
       "0    False\n",
       "1    False\n",
       "2    False\n",
       "3    False\n",
       "4    False\n",
       "Name: dummy_tract, dtype: bool"
      ]
     },
     "execution_count": 195,
     "metadata": {},
     "output_type": "execute_result"
    }
   ],
   "source": [
    "dbn_cropped['dummy_tract'] = dbn_cropped.ct_bc_comb.apply(lambda x: x in bad_tracts)\n",
    "dbn_cropped.dummy_tract.head()"
   ]
  },
  {
   "cell_type": "markdown",
   "metadata": {},
   "source": [
    "#### 4. Building Owner"
   ]
  },
  {
   "cell_type": "code",
   "execution_count": 196,
   "metadata": {},
   "outputs": [
    {
     "data": {
      "text/plain": [
       "5928"
      ]
     },
     "execution_count": 196,
     "metadata": {},
     "output_type": "execute_result"
    }
   ],
   "source": [
    "owners = RateFunc(['ownername'])\n",
    "bad_owners = set()\n",
    "sum_counts = 0\n",
    "\n",
    "for i, row in owners.iterrows():\n",
    "    if sum_counts>(num_records/10):\n",
    "        break\n",
    "    # only bad models that account for 10%?\n",
    "    bad_owners.add(row['ownername'])\n",
    "    sum_counts+=row['CountTotal']\n",
    "        \n",
    "bad_owners = list(bad_owners)\n",
    "len(bad_owners)"
   ]
  },
  {
   "cell_type": "code",
   "execution_count": 197,
   "metadata": {},
   "outputs": [
    {
     "data": {
      "text/plain": [
       "0    True\n",
       "1    True\n",
       "2    True\n",
       "3    True\n",
       "4    True\n",
       "Name: dummy_owner, dtype: bool"
      ]
     },
     "execution_count": 197,
     "metadata": {},
     "output_type": "execute_result"
    }
   ],
   "source": [
    "dbn_cropped['dummy_owner'] = dbn_cropped.ownername.apply(lambda x: x in bad_owners)\n",
    "dbn_cropped.dummy_owner.head()"
   ]
  },
  {
   "cell_type": "markdown",
   "metadata": {},
   "source": [
    "#### 5. Years since last defects"
   ]
  },
  {
   "cell_type": "markdown",
   "metadata": {},
   "source": [
    "What to do about nans in years_since_last_defects field?"
   ]
  },
  {
   "cell_type": "code",
   "execution_count": 198,
   "metadata": {},
   "outputs": [
    {
     "name": "stdout",
     "output_type": "stream",
     "text": [
      "(987465, 21) (645053, 21)\n"
     ]
    }
   ],
   "source": [
    "# more nan values than not, cannot just drop them from table\n",
    "print(dbn_cropped[dbn_cropped.years_since_last_defects.isnull()].shape,\n",
    "dbn_cropped[~dbn_cropped.years_since_last_defects.isnull()].shape)"
   ]
  },
  {
   "cell_type": "code",
   "execution_count": 199,
   "metadata": {},
   "outputs": [],
   "source": [
    "# test below code on subsample of dataset (it takes a long time)\n",
    "# subsam = dbn_cropped.iloc[:100000].copy()\n",
    "# dbn_cropped = dbn_cropped.copy()"
   ]
  },
  {
   "cell_type": "code",
   "execution_count": 200,
   "metadata": {},
   "outputs": [
    {
     "data": {
      "text/html": [
       "<div>\n",
       "<table border=\"1\" class=\"dataframe\">\n",
       "  <thead>\n",
       "    <tr style=\"text-align: right;\">\n",
       "      <th></th>\n",
       "      <th>boiler_id</th>\n",
       "      <th>defects_exist</th>\n",
       "      <th>ct_bc_comb</th>\n",
       "      <th>boiler_age</th>\n",
       "      <th>years_since_last_defects</th>\n",
       "      <th>boiler_make</th>\n",
       "      <th>boiler_model</th>\n",
       "      <th>boiler_pressure_type</th>\n",
       "      <th>ownername</th>\n",
       "      <th>landuse</th>\n",
       "      <th>...</th>\n",
       "      <th>builtfar</th>\n",
       "      <th>median_household_income</th>\n",
       "      <th>over_65_pct</th>\n",
       "      <th>over_white_pct</th>\n",
       "      <th>dummy_pressure_type</th>\n",
       "      <th>dummy_make</th>\n",
       "      <th>dummy_model</th>\n",
       "      <th>dummy_tract</th>\n",
       "      <th>dummy_owner</th>\n",
       "      <th>defects_history</th>\n",
       "    </tr>\n",
       "  </thead>\n",
       "  <tbody>\n",
       "    <tr>\n",
       "      <th>15</th>\n",
       "      <td>10000000027N0001</td>\n",
       "      <td>0</td>\n",
       "      <td>107400</td>\n",
       "      <td>17</td>\n",
       "      <td>1.0</td>\n",
       "      <td>SLANTFIN</td>\n",
       "      <td>GG-399</td>\n",
       "      <td>Low Pressure</td>\n",
       "      <td>88 MADISON HOTEL FEE</td>\n",
       "      <td>5.0</td>\n",
       "      <td>...</td>\n",
       "      <td>10.38</td>\n",
       "      <td>135588.0</td>\n",
       "      <td>0.14173</td>\n",
       "      <td>0.783066</td>\n",
       "      <td>1</td>\n",
       "      <td>True</td>\n",
       "      <td>True</td>\n",
       "      <td>False</td>\n",
       "      <td>True</td>\n",
       "      <td>2</td>\n",
       "    </tr>\n",
       "    <tr>\n",
       "      <th>16</th>\n",
       "      <td>10000000027N0001</td>\n",
       "      <td>0</td>\n",
       "      <td>107400</td>\n",
       "      <td>19</td>\n",
       "      <td>3.0</td>\n",
       "      <td>SLANTFIN</td>\n",
       "      <td>GG-399</td>\n",
       "      <td>Low Pressure</td>\n",
       "      <td>88 MADISON HOTEL FEE</td>\n",
       "      <td>5.0</td>\n",
       "      <td>...</td>\n",
       "      <td>10.38</td>\n",
       "      <td>135588.0</td>\n",
       "      <td>0.14173</td>\n",
       "      <td>0.783066</td>\n",
       "      <td>1</td>\n",
       "      <td>True</td>\n",
       "      <td>True</td>\n",
       "      <td>False</td>\n",
       "      <td>True</td>\n",
       "      <td>2</td>\n",
       "    </tr>\n",
       "    <tr>\n",
       "      <th>17</th>\n",
       "      <td>10000000027N0001</td>\n",
       "      <td>1</td>\n",
       "      <td>107400</td>\n",
       "      <td>20</td>\n",
       "      <td>4.0</td>\n",
       "      <td>SLANTFIN</td>\n",
       "      <td>GG-399</td>\n",
       "      <td>Low Pressure</td>\n",
       "      <td>88 MADISON HOTEL FEE</td>\n",
       "      <td>5.0</td>\n",
       "      <td>...</td>\n",
       "      <td>10.38</td>\n",
       "      <td>135588.0</td>\n",
       "      <td>0.14173</td>\n",
       "      <td>0.783066</td>\n",
       "      <td>1</td>\n",
       "      <td>True</td>\n",
       "      <td>True</td>\n",
       "      <td>False</td>\n",
       "      <td>True</td>\n",
       "      <td>2</td>\n",
       "    </tr>\n",
       "    <tr>\n",
       "      <th>18</th>\n",
       "      <td>10000000027N0001</td>\n",
       "      <td>1</td>\n",
       "      <td>107400</td>\n",
       "      <td>21</td>\n",
       "      <td>1.0</td>\n",
       "      <td>SLANTFIN</td>\n",
       "      <td>GG-399</td>\n",
       "      <td>Low Pressure</td>\n",
       "      <td>88 MADISON HOTEL FEE</td>\n",
       "      <td>5.0</td>\n",
       "      <td>...</td>\n",
       "      <td>10.38</td>\n",
       "      <td>135588.0</td>\n",
       "      <td>0.14173</td>\n",
       "      <td>0.783066</td>\n",
       "      <td>1</td>\n",
       "      <td>True</td>\n",
       "      <td>True</td>\n",
       "      <td>False</td>\n",
       "      <td>True</td>\n",
       "      <td>3</td>\n",
       "    </tr>\n",
       "    <tr>\n",
       "      <th>19</th>\n",
       "      <td>10000000027N0001</td>\n",
       "      <td>0</td>\n",
       "      <td>107400</td>\n",
       "      <td>23</td>\n",
       "      <td>2.0</td>\n",
       "      <td>SLANTFIN</td>\n",
       "      <td>GG-399</td>\n",
       "      <td>Low Pressure</td>\n",
       "      <td>88 MADISON HOTEL FEE</td>\n",
       "      <td>5.0</td>\n",
       "      <td>...</td>\n",
       "      <td>10.38</td>\n",
       "      <td>135588.0</td>\n",
       "      <td>0.14173</td>\n",
       "      <td>0.783066</td>\n",
       "      <td>1</td>\n",
       "      <td>True</td>\n",
       "      <td>True</td>\n",
       "      <td>False</td>\n",
       "      <td>True</td>\n",
       "      <td>4</td>\n",
       "    </tr>\n",
       "    <tr>\n",
       "      <th>20</th>\n",
       "      <td>10000000027N0001</td>\n",
       "      <td>0</td>\n",
       "      <td>107400</td>\n",
       "      <td>24</td>\n",
       "      <td>3.0</td>\n",
       "      <td>SLANTFIN</td>\n",
       "      <td>GG-399</td>\n",
       "      <td>Low Pressure</td>\n",
       "      <td>88 MADISON HOTEL FEE</td>\n",
       "      <td>5.0</td>\n",
       "      <td>...</td>\n",
       "      <td>10.38</td>\n",
       "      <td>135588.0</td>\n",
       "      <td>0.14173</td>\n",
       "      <td>0.783066</td>\n",
       "      <td>1</td>\n",
       "      <td>True</td>\n",
       "      <td>True</td>\n",
       "      <td>False</td>\n",
       "      <td>True</td>\n",
       "      <td>4</td>\n",
       "    </tr>\n",
       "    <tr>\n",
       "      <th>21</th>\n",
       "      <td>10000000027N0001</td>\n",
       "      <td>0</td>\n",
       "      <td>107400</td>\n",
       "      <td>25</td>\n",
       "      <td>4.0</td>\n",
       "      <td>SLANTFIN</td>\n",
       "      <td>GG-399</td>\n",
       "      <td>Low Pressure</td>\n",
       "      <td>88 MADISON HOTEL FEE</td>\n",
       "      <td>5.0</td>\n",
       "      <td>...</td>\n",
       "      <td>10.38</td>\n",
       "      <td>135588.0</td>\n",
       "      <td>0.14173</td>\n",
       "      <td>0.783066</td>\n",
       "      <td>1</td>\n",
       "      <td>True</td>\n",
       "      <td>True</td>\n",
       "      <td>False</td>\n",
       "      <td>True</td>\n",
       "      <td>4</td>\n",
       "    </tr>\n",
       "  </tbody>\n",
       "</table>\n",
       "<p>7 rows × 22 columns</p>\n",
       "</div>"
      ],
      "text/plain": [
       "           boiler_id  defects_exist  ct_bc_comb  boiler_age  \\\n",
       "15  10000000027N0001              0      107400          17   \n",
       "16  10000000027N0001              0      107400          19   \n",
       "17  10000000027N0001              1      107400          20   \n",
       "18  10000000027N0001              1      107400          21   \n",
       "19  10000000027N0001              0      107400          23   \n",
       "20  10000000027N0001              0      107400          24   \n",
       "21  10000000027N0001              0      107400          25   \n",
       "\n",
       "    years_since_last_defects boiler_make boiler_model boiler_pressure_type  \\\n",
       "15                       1.0    SLANTFIN       GG-399         Low Pressure   \n",
       "16                       3.0    SLANTFIN       GG-399         Low Pressure   \n",
       "17                       4.0    SLANTFIN       GG-399         Low Pressure   \n",
       "18                       1.0    SLANTFIN       GG-399         Low Pressure   \n",
       "19                       2.0    SLANTFIN       GG-399         Low Pressure   \n",
       "20                       3.0    SLANTFIN       GG-399         Low Pressure   \n",
       "21                       4.0    SLANTFIN       GG-399         Low Pressure   \n",
       "\n",
       "               ownername  landuse       ...        builtfar  \\\n",
       "15  88 MADISON HOTEL FEE      5.0       ...           10.38   \n",
       "16  88 MADISON HOTEL FEE      5.0       ...           10.38   \n",
       "17  88 MADISON HOTEL FEE      5.0       ...           10.38   \n",
       "18  88 MADISON HOTEL FEE      5.0       ...           10.38   \n",
       "19  88 MADISON HOTEL FEE      5.0       ...           10.38   \n",
       "20  88 MADISON HOTEL FEE      5.0       ...           10.38   \n",
       "21  88 MADISON HOTEL FEE      5.0       ...           10.38   \n",
       "\n",
       "    median_household_income  over_65_pct  over_white_pct  dummy_pressure_type  \\\n",
       "15                 135588.0      0.14173        0.783066                    1   \n",
       "16                 135588.0      0.14173        0.783066                    1   \n",
       "17                 135588.0      0.14173        0.783066                    1   \n",
       "18                 135588.0      0.14173        0.783066                    1   \n",
       "19                 135588.0      0.14173        0.783066                    1   \n",
       "20                 135588.0      0.14173        0.783066                    1   \n",
       "21                 135588.0      0.14173        0.783066                    1   \n",
       "\n",
       "    dummy_make  dummy_model dummy_tract dummy_owner defects_history  \n",
       "15        True         True       False        True               2  \n",
       "16        True         True       False        True               2  \n",
       "17        True         True       False        True               2  \n",
       "18        True         True       False        True               3  \n",
       "19        True         True       False        True               4  \n",
       "20        True         True       False        True               4  \n",
       "21        True         True       False        True               4  \n",
       "\n",
       "[7 rows x 22 columns]"
      ]
     },
     "execution_count": 200,
     "metadata": {},
     "output_type": "execute_result"
    }
   ],
   "source": [
    "# create dummy variable for defects history\n",
    "# track number of defects for given boiler ID\n",
    "\n",
    "dbn_cropped['defects_history'] = dbn_cropped.groupby('boiler_id')['defects_exist'].cumsum().shift(1).fillna(0).astype(int)\n",
    "dbn_cropped.iloc[15:22]"
   ]
  },
  {
   "cell_type": "code",
   "execution_count": 201,
   "metadata": {},
   "outputs": [],
   "source": [
    "# dbn_cropped['boiler_age'] = dbn.boiler_age\n",
    "# subsam = dbn_cropped.iloc[:100000].copy()"
   ]
  },
  {
   "cell_type": "code",
   "execution_count": 202,
   "metadata": {},
   "outputs": [],
   "source": [
    "# subsam.head()"
   ]
  },
  {
   "cell_type": "code",
   "execution_count": 203,
   "metadata": {},
   "outputs": [],
   "source": [
    "# dbn_cropped.drop('boiler_age', axis=1, inplace=True)"
   ]
  },
  {
   "cell_type": "code",
   "execution_count": 204,
   "metadata": {},
   "outputs": [
    {
     "data": {
      "text/html": [
       "<div>\n",
       "<table border=\"1\" class=\"dataframe\">\n",
       "  <thead>\n",
       "    <tr style=\"text-align: right;\">\n",
       "      <th></th>\n",
       "      <th>boiler_id</th>\n",
       "      <th>defects_exist</th>\n",
       "      <th>ct_bc_comb</th>\n",
       "      <th>boiler_age</th>\n",
       "      <th>years_since_last_defects</th>\n",
       "      <th>boiler_make</th>\n",
       "      <th>boiler_model</th>\n",
       "      <th>boiler_pressure_type</th>\n",
       "      <th>ownername</th>\n",
       "      <th>landuse</th>\n",
       "      <th>...</th>\n",
       "      <th>builtfar</th>\n",
       "      <th>median_household_income</th>\n",
       "      <th>over_65_pct</th>\n",
       "      <th>over_white_pct</th>\n",
       "      <th>dummy_pressure_type</th>\n",
       "      <th>dummy_make</th>\n",
       "      <th>dummy_model</th>\n",
       "      <th>dummy_tract</th>\n",
       "      <th>dummy_owner</th>\n",
       "      <th>defects_history</th>\n",
       "    </tr>\n",
       "  </thead>\n",
       "  <tbody>\n",
       "    <tr>\n",
       "      <th>15</th>\n",
       "      <td>10000000027N0001</td>\n",
       "      <td>0</td>\n",
       "      <td>107400</td>\n",
       "      <td>17</td>\n",
       "      <td>1</td>\n",
       "      <td>SLANTFIN</td>\n",
       "      <td>GG-399</td>\n",
       "      <td>Low Pressure</td>\n",
       "      <td>88 MADISON HOTEL FEE</td>\n",
       "      <td>5.0</td>\n",
       "      <td>...</td>\n",
       "      <td>10.38</td>\n",
       "      <td>135588.0</td>\n",
       "      <td>0.14173</td>\n",
       "      <td>0.783066</td>\n",
       "      <td>1</td>\n",
       "      <td>True</td>\n",
       "      <td>True</td>\n",
       "      <td>False</td>\n",
       "      <td>True</td>\n",
       "      <td>2</td>\n",
       "    </tr>\n",
       "    <tr>\n",
       "      <th>16</th>\n",
       "      <td>10000000027N0001</td>\n",
       "      <td>0</td>\n",
       "      <td>107400</td>\n",
       "      <td>19</td>\n",
       "      <td>3</td>\n",
       "      <td>SLANTFIN</td>\n",
       "      <td>GG-399</td>\n",
       "      <td>Low Pressure</td>\n",
       "      <td>88 MADISON HOTEL FEE</td>\n",
       "      <td>5.0</td>\n",
       "      <td>...</td>\n",
       "      <td>10.38</td>\n",
       "      <td>135588.0</td>\n",
       "      <td>0.14173</td>\n",
       "      <td>0.783066</td>\n",
       "      <td>1</td>\n",
       "      <td>True</td>\n",
       "      <td>True</td>\n",
       "      <td>False</td>\n",
       "      <td>True</td>\n",
       "      <td>2</td>\n",
       "    </tr>\n",
       "    <tr>\n",
       "      <th>17</th>\n",
       "      <td>10000000027N0001</td>\n",
       "      <td>1</td>\n",
       "      <td>107400</td>\n",
       "      <td>20</td>\n",
       "      <td>4</td>\n",
       "      <td>SLANTFIN</td>\n",
       "      <td>GG-399</td>\n",
       "      <td>Low Pressure</td>\n",
       "      <td>88 MADISON HOTEL FEE</td>\n",
       "      <td>5.0</td>\n",
       "      <td>...</td>\n",
       "      <td>10.38</td>\n",
       "      <td>135588.0</td>\n",
       "      <td>0.14173</td>\n",
       "      <td>0.783066</td>\n",
       "      <td>1</td>\n",
       "      <td>True</td>\n",
       "      <td>True</td>\n",
       "      <td>False</td>\n",
       "      <td>True</td>\n",
       "      <td>2</td>\n",
       "    </tr>\n",
       "    <tr>\n",
       "      <th>18</th>\n",
       "      <td>10000000027N0001</td>\n",
       "      <td>1</td>\n",
       "      <td>107400</td>\n",
       "      <td>21</td>\n",
       "      <td>1</td>\n",
       "      <td>SLANTFIN</td>\n",
       "      <td>GG-399</td>\n",
       "      <td>Low Pressure</td>\n",
       "      <td>88 MADISON HOTEL FEE</td>\n",
       "      <td>5.0</td>\n",
       "      <td>...</td>\n",
       "      <td>10.38</td>\n",
       "      <td>135588.0</td>\n",
       "      <td>0.14173</td>\n",
       "      <td>0.783066</td>\n",
       "      <td>1</td>\n",
       "      <td>True</td>\n",
       "      <td>True</td>\n",
       "      <td>False</td>\n",
       "      <td>True</td>\n",
       "      <td>3</td>\n",
       "    </tr>\n",
       "    <tr>\n",
       "      <th>19</th>\n",
       "      <td>10000000027N0001</td>\n",
       "      <td>0</td>\n",
       "      <td>107400</td>\n",
       "      <td>23</td>\n",
       "      <td>2</td>\n",
       "      <td>SLANTFIN</td>\n",
       "      <td>GG-399</td>\n",
       "      <td>Low Pressure</td>\n",
       "      <td>88 MADISON HOTEL FEE</td>\n",
       "      <td>5.0</td>\n",
       "      <td>...</td>\n",
       "      <td>10.38</td>\n",
       "      <td>135588.0</td>\n",
       "      <td>0.14173</td>\n",
       "      <td>0.783066</td>\n",
       "      <td>1</td>\n",
       "      <td>True</td>\n",
       "      <td>True</td>\n",
       "      <td>False</td>\n",
       "      <td>True</td>\n",
       "      <td>4</td>\n",
       "    </tr>\n",
       "    <tr>\n",
       "      <th>20</th>\n",
       "      <td>10000000027N0001</td>\n",
       "      <td>0</td>\n",
       "      <td>107400</td>\n",
       "      <td>24</td>\n",
       "      <td>3</td>\n",
       "      <td>SLANTFIN</td>\n",
       "      <td>GG-399</td>\n",
       "      <td>Low Pressure</td>\n",
       "      <td>88 MADISON HOTEL FEE</td>\n",
       "      <td>5.0</td>\n",
       "      <td>...</td>\n",
       "      <td>10.38</td>\n",
       "      <td>135588.0</td>\n",
       "      <td>0.14173</td>\n",
       "      <td>0.783066</td>\n",
       "      <td>1</td>\n",
       "      <td>True</td>\n",
       "      <td>True</td>\n",
       "      <td>False</td>\n",
       "      <td>True</td>\n",
       "      <td>4</td>\n",
       "    </tr>\n",
       "    <tr>\n",
       "      <th>21</th>\n",
       "      <td>10000000027N0001</td>\n",
       "      <td>0</td>\n",
       "      <td>107400</td>\n",
       "      <td>25</td>\n",
       "      <td>4</td>\n",
       "      <td>SLANTFIN</td>\n",
       "      <td>GG-399</td>\n",
       "      <td>Low Pressure</td>\n",
       "      <td>88 MADISON HOTEL FEE</td>\n",
       "      <td>5.0</td>\n",
       "      <td>...</td>\n",
       "      <td>10.38</td>\n",
       "      <td>135588.0</td>\n",
       "      <td>0.14173</td>\n",
       "      <td>0.783066</td>\n",
       "      <td>1</td>\n",
       "      <td>True</td>\n",
       "      <td>True</td>\n",
       "      <td>False</td>\n",
       "      <td>True</td>\n",
       "      <td>4</td>\n",
       "    </tr>\n",
       "    <tr>\n",
       "      <th>22</th>\n",
       "      <td>10000000027N0002</td>\n",
       "      <td>0</td>\n",
       "      <td>107400</td>\n",
       "      <td>0</td>\n",
       "      <td>0</td>\n",
       "      <td>SLANTFIN</td>\n",
       "      <td>GG-399</td>\n",
       "      <td>Low Pressure</td>\n",
       "      <td>88 MADISON HOTEL FEE</td>\n",
       "      <td>5.0</td>\n",
       "      <td>...</td>\n",
       "      <td>10.38</td>\n",
       "      <td>135588.0</td>\n",
       "      <td>0.14173</td>\n",
       "      <td>0.783066</td>\n",
       "      <td>1</td>\n",
       "      <td>True</td>\n",
       "      <td>True</td>\n",
       "      <td>False</td>\n",
       "      <td>True</td>\n",
       "      <td>4</td>\n",
       "    </tr>\n",
       "    <tr>\n",
       "      <th>23</th>\n",
       "      <td>10000000027N0002</td>\n",
       "      <td>0</td>\n",
       "      <td>107400</td>\n",
       "      <td>1</td>\n",
       "      <td>1</td>\n",
       "      <td>SLANTFIN</td>\n",
       "      <td>GG-399</td>\n",
       "      <td>Low Pressure</td>\n",
       "      <td>88 MADISON HOTEL FEE</td>\n",
       "      <td>5.0</td>\n",
       "      <td>...</td>\n",
       "      <td>10.38</td>\n",
       "      <td>135588.0</td>\n",
       "      <td>0.14173</td>\n",
       "      <td>0.783066</td>\n",
       "      <td>1</td>\n",
       "      <td>True</td>\n",
       "      <td>True</td>\n",
       "      <td>False</td>\n",
       "      <td>True</td>\n",
       "      <td>0</td>\n",
       "    </tr>\n",
       "    <tr>\n",
       "      <th>24</th>\n",
       "      <td>10000000027N0002</td>\n",
       "      <td>0</td>\n",
       "      <td>107400</td>\n",
       "      <td>2</td>\n",
       "      <td>2</td>\n",
       "      <td>SLANTFIN</td>\n",
       "      <td>GG-399</td>\n",
       "      <td>Low Pressure</td>\n",
       "      <td>88 MADISON HOTEL FEE</td>\n",
       "      <td>5.0</td>\n",
       "      <td>...</td>\n",
       "      <td>10.38</td>\n",
       "      <td>135588.0</td>\n",
       "      <td>0.14173</td>\n",
       "      <td>0.783066</td>\n",
       "      <td>1</td>\n",
       "      <td>True</td>\n",
       "      <td>True</td>\n",
       "      <td>False</td>\n",
       "      <td>True</td>\n",
       "      <td>0</td>\n",
       "    </tr>\n",
       "  </tbody>\n",
       "</table>\n",
       "<p>10 rows × 22 columns</p>\n",
       "</div>"
      ],
      "text/plain": [
       "           boiler_id  defects_exist  ct_bc_comb  boiler_age  \\\n",
       "15  10000000027N0001              0      107400          17   \n",
       "16  10000000027N0001              0      107400          19   \n",
       "17  10000000027N0001              1      107400          20   \n",
       "18  10000000027N0001              1      107400          21   \n",
       "19  10000000027N0001              0      107400          23   \n",
       "20  10000000027N0001              0      107400          24   \n",
       "21  10000000027N0001              0      107400          25   \n",
       "22  10000000027N0002              0      107400           0   \n",
       "23  10000000027N0002              0      107400           1   \n",
       "24  10000000027N0002              0      107400           2   \n",
       "\n",
       "    years_since_last_defects boiler_make boiler_model boiler_pressure_type  \\\n",
       "15                         1    SLANTFIN       GG-399         Low Pressure   \n",
       "16                         3    SLANTFIN       GG-399         Low Pressure   \n",
       "17                         4    SLANTFIN       GG-399         Low Pressure   \n",
       "18                         1    SLANTFIN       GG-399         Low Pressure   \n",
       "19                         2    SLANTFIN       GG-399         Low Pressure   \n",
       "20                         3    SLANTFIN       GG-399         Low Pressure   \n",
       "21                         4    SLANTFIN       GG-399         Low Pressure   \n",
       "22                         0    SLANTFIN       GG-399         Low Pressure   \n",
       "23                         1    SLANTFIN       GG-399         Low Pressure   \n",
       "24                         2    SLANTFIN       GG-399         Low Pressure   \n",
       "\n",
       "               ownername  landuse       ...        builtfar  \\\n",
       "15  88 MADISON HOTEL FEE      5.0       ...           10.38   \n",
       "16  88 MADISON HOTEL FEE      5.0       ...           10.38   \n",
       "17  88 MADISON HOTEL FEE      5.0       ...           10.38   \n",
       "18  88 MADISON HOTEL FEE      5.0       ...           10.38   \n",
       "19  88 MADISON HOTEL FEE      5.0       ...           10.38   \n",
       "20  88 MADISON HOTEL FEE      5.0       ...           10.38   \n",
       "21  88 MADISON HOTEL FEE      5.0       ...           10.38   \n",
       "22  88 MADISON HOTEL FEE      5.0       ...           10.38   \n",
       "23  88 MADISON HOTEL FEE      5.0       ...           10.38   \n",
       "24  88 MADISON HOTEL FEE      5.0       ...           10.38   \n",
       "\n",
       "    median_household_income  over_65_pct  over_white_pct  dummy_pressure_type  \\\n",
       "15                 135588.0      0.14173        0.783066                    1   \n",
       "16                 135588.0      0.14173        0.783066                    1   \n",
       "17                 135588.0      0.14173        0.783066                    1   \n",
       "18                 135588.0      0.14173        0.783066                    1   \n",
       "19                 135588.0      0.14173        0.783066                    1   \n",
       "20                 135588.0      0.14173        0.783066                    1   \n",
       "21                 135588.0      0.14173        0.783066                    1   \n",
       "22                 135588.0      0.14173        0.783066                    1   \n",
       "23                 135588.0      0.14173        0.783066                    1   \n",
       "24                 135588.0      0.14173        0.783066                    1   \n",
       "\n",
       "    dummy_make  dummy_model dummy_tract dummy_owner defects_history  \n",
       "15        True         True       False        True               2  \n",
       "16        True         True       False        True               2  \n",
       "17        True         True       False        True               2  \n",
       "18        True         True       False        True               3  \n",
       "19        True         True       False        True               4  \n",
       "20        True         True       False        True               4  \n",
       "21        True         True       False        True               4  \n",
       "22        True         True       False        True               4  \n",
       "23        True         True       False        True               0  \n",
       "24        True         True       False        True               0  \n",
       "\n",
       "[10 rows x 22 columns]"
      ]
     },
     "execution_count": 204,
     "metadata": {},
     "output_type": "execute_result"
    }
   ],
   "source": [
    "# increasing values for nans, until defects seen\n",
    "dbn_cropped.years_since_last_defects = dbn_cropped.years_since_last_defects.fillna(dbn_cropped.boiler_age).astype(int)\n",
    "dbn_cropped.iloc[15:25]"
   ]
  },
  {
   "cell_type": "markdown",
   "metadata": {},
   "source": [
    "#### Landuse _> convert to dummies"
   ]
  },
  {
   "cell_type": "code",
   "execution_count": 205,
   "metadata": {},
   "outputs": [
    {
     "data": {
      "text/plain": [
       "Index(['boiler_id', 'defects_exist', 'ct_bc_comb', 'boiler_age',\n",
       "       'years_since_last_defects', 'boiler_make', 'boiler_model',\n",
       "       'boiler_pressure_type', 'ownername', 'bldgarea', 'unitstotal',\n",
       "       'builtfar', 'median_household_income', 'over_65_pct', 'over_white_pct',\n",
       "       'dummy_pressure_type', 'dummy_make', 'dummy_model', 'dummy_tract',\n",
       "       'dummy_owner', 'defects_history', 'landuse_1.0', 'landuse_2.0',\n",
       "       'landuse_3.0', 'landuse_4.0', 'landuse_5.0', 'landuse_6.0',\n",
       "       'landuse_7.0', 'landuse_8.0', 'landuse_9.0', 'landuse_10.0',\n",
       "       'landuse_11.0'],\n",
       "      dtype='object')"
      ]
     },
     "execution_count": 205,
     "metadata": {},
     "output_type": "execute_result"
    }
   ],
   "source": [
    "dbn_cropped = pd.get_dummies(dbn_cropped, columns=['landuse'])\n",
    "dbn_cropped.columns"
   ]
  },
  {
   "cell_type": "markdown",
   "metadata": {},
   "source": [
    "#### Cleanup table (get rid of non continuous/discrete features)"
   ]
  },
  {
   "cell_type": "code",
   "execution_count": 206,
   "metadata": {},
   "outputs": [
    {
     "name": "stdout",
     "output_type": "stream",
     "text": [
      "boiler_pressure_type\n",
      "High Pressure       5546\n",
      "Low Pressure     1537503\n",
      "Name: boiler_id, dtype: int64\n",
      "dummy_pressure_type\n",
      "-1      89469\n",
      " 0       5546\n",
      " 1    1537503\n",
      "Name: defects_exist, dtype: int64\n"
     ]
    }
   ],
   "source": [
    "print(dbn.groupby('boiler_pressure_type')['boiler_id'].count())\n",
    "print(dbn_cropped.groupby('dummy_pressure_type')['defects_exist'].count())"
   ]
  },
  {
   "cell_type": "code",
   "execution_count": 207,
   "metadata": {},
   "outputs": [],
   "source": [
    "# drop where no pressure type existed\n",
    "dbn_cropped = dbn_cropped[dbn_cropped.dummy_pressure_type > -1].reset_index(drop=True)"
   ]
  },
  {
   "cell_type": "code",
   "execution_count": 208,
   "metadata": {},
   "outputs": [
    {
     "data": {
      "text/html": [
       "<div>\n",
       "<table border=\"1\" class=\"dataframe\">\n",
       "  <thead>\n",
       "    <tr style=\"text-align: right;\">\n",
       "      <th></th>\n",
       "      <th>defects_exist</th>\n",
       "      <th>years_since_last_defects</th>\n",
       "      <th>bldgarea</th>\n",
       "      <th>unitstotal</th>\n",
       "      <th>builtfar</th>\n",
       "      <th>median_household_income</th>\n",
       "      <th>over_65_pct</th>\n",
       "      <th>over_white_pct</th>\n",
       "      <th>dummy_pressure_type</th>\n",
       "      <th>dummy_make</th>\n",
       "      <th>...</th>\n",
       "      <th>landuse_2.0</th>\n",
       "      <th>landuse_3.0</th>\n",
       "      <th>landuse_4.0</th>\n",
       "      <th>landuse_5.0</th>\n",
       "      <th>landuse_6.0</th>\n",
       "      <th>landuse_7.0</th>\n",
       "      <th>landuse_8.0</th>\n",
       "      <th>landuse_9.0</th>\n",
       "      <th>landuse_10.0</th>\n",
       "      <th>landuse_11.0</th>\n",
       "    </tr>\n",
       "  </thead>\n",
       "  <tbody>\n",
       "    <tr>\n",
       "      <th>0</th>\n",
       "      <td>0</td>\n",
       "      <td>0</td>\n",
       "      <td>185785.0</td>\n",
       "      <td>8.0</td>\n",
       "      <td>10.38</td>\n",
       "      <td>135588.0</td>\n",
       "      <td>0.14173</td>\n",
       "      <td>0.783066</td>\n",
       "      <td>1</td>\n",
       "      <td>True</td>\n",
       "      <td>...</td>\n",
       "      <td>0.0</td>\n",
       "      <td>0.0</td>\n",
       "      <td>0.0</td>\n",
       "      <td>1.0</td>\n",
       "      <td>0.0</td>\n",
       "      <td>0.0</td>\n",
       "      <td>0.0</td>\n",
       "      <td>0.0</td>\n",
       "      <td>0.0</td>\n",
       "      <td>0.0</td>\n",
       "    </tr>\n",
       "    <tr>\n",
       "      <th>1</th>\n",
       "      <td>0</td>\n",
       "      <td>1</td>\n",
       "      <td>185785.0</td>\n",
       "      <td>8.0</td>\n",
       "      <td>10.38</td>\n",
       "      <td>135588.0</td>\n",
       "      <td>0.14173</td>\n",
       "      <td>0.783066</td>\n",
       "      <td>1</td>\n",
       "      <td>True</td>\n",
       "      <td>...</td>\n",
       "      <td>0.0</td>\n",
       "      <td>0.0</td>\n",
       "      <td>0.0</td>\n",
       "      <td>1.0</td>\n",
       "      <td>0.0</td>\n",
       "      <td>0.0</td>\n",
       "      <td>0.0</td>\n",
       "      <td>0.0</td>\n",
       "      <td>0.0</td>\n",
       "      <td>0.0</td>\n",
       "    </tr>\n",
       "    <tr>\n",
       "      <th>2</th>\n",
       "      <td>0</td>\n",
       "      <td>2</td>\n",
       "      <td>185785.0</td>\n",
       "      <td>8.0</td>\n",
       "      <td>10.38</td>\n",
       "      <td>135588.0</td>\n",
       "      <td>0.14173</td>\n",
       "      <td>0.783066</td>\n",
       "      <td>1</td>\n",
       "      <td>True</td>\n",
       "      <td>...</td>\n",
       "      <td>0.0</td>\n",
       "      <td>0.0</td>\n",
       "      <td>0.0</td>\n",
       "      <td>1.0</td>\n",
       "      <td>0.0</td>\n",
       "      <td>0.0</td>\n",
       "      <td>0.0</td>\n",
       "      <td>0.0</td>\n",
       "      <td>0.0</td>\n",
       "      <td>0.0</td>\n",
       "    </tr>\n",
       "    <tr>\n",
       "      <th>3</th>\n",
       "      <td>0</td>\n",
       "      <td>3</td>\n",
       "      <td>185785.0</td>\n",
       "      <td>8.0</td>\n",
       "      <td>10.38</td>\n",
       "      <td>135588.0</td>\n",
       "      <td>0.14173</td>\n",
       "      <td>0.783066</td>\n",
       "      <td>1</td>\n",
       "      <td>True</td>\n",
       "      <td>...</td>\n",
       "      <td>0.0</td>\n",
       "      <td>0.0</td>\n",
       "      <td>0.0</td>\n",
       "      <td>1.0</td>\n",
       "      <td>0.0</td>\n",
       "      <td>0.0</td>\n",
       "      <td>0.0</td>\n",
       "      <td>0.0</td>\n",
       "      <td>0.0</td>\n",
       "      <td>0.0</td>\n",
       "    </tr>\n",
       "    <tr>\n",
       "      <th>4</th>\n",
       "      <td>0</td>\n",
       "      <td>4</td>\n",
       "      <td>185785.0</td>\n",
       "      <td>8.0</td>\n",
       "      <td>10.38</td>\n",
       "      <td>135588.0</td>\n",
       "      <td>0.14173</td>\n",
       "      <td>0.783066</td>\n",
       "      <td>1</td>\n",
       "      <td>True</td>\n",
       "      <td>...</td>\n",
       "      <td>0.0</td>\n",
       "      <td>0.0</td>\n",
       "      <td>0.0</td>\n",
       "      <td>1.0</td>\n",
       "      <td>0.0</td>\n",
       "      <td>0.0</td>\n",
       "      <td>0.0</td>\n",
       "      <td>0.0</td>\n",
       "      <td>0.0</td>\n",
       "      <td>0.0</td>\n",
       "    </tr>\n",
       "  </tbody>\n",
       "</table>\n",
       "<p>5 rows × 25 columns</p>\n",
       "</div>"
      ],
      "text/plain": [
       "   defects_exist  years_since_last_defects  bldgarea  unitstotal  builtfar  \\\n",
       "0              0                         0  185785.0         8.0     10.38   \n",
       "1              0                         1  185785.0         8.0     10.38   \n",
       "2              0                         2  185785.0         8.0     10.38   \n",
       "3              0                         3  185785.0         8.0     10.38   \n",
       "4              0                         4  185785.0         8.0     10.38   \n",
       "\n",
       "   median_household_income  over_65_pct  over_white_pct  dummy_pressure_type  \\\n",
       "0                 135588.0      0.14173        0.783066                    1   \n",
       "1                 135588.0      0.14173        0.783066                    1   \n",
       "2                 135588.0      0.14173        0.783066                    1   \n",
       "3                 135588.0      0.14173        0.783066                    1   \n",
       "4                 135588.0      0.14173        0.783066                    1   \n",
       "\n",
       "  dummy_make      ...      landuse_2.0 landuse_3.0 landuse_4.0  landuse_5.0  \\\n",
       "0       True      ...              0.0         0.0         0.0          1.0   \n",
       "1       True      ...              0.0         0.0         0.0          1.0   \n",
       "2       True      ...              0.0         0.0         0.0          1.0   \n",
       "3       True      ...              0.0         0.0         0.0          1.0   \n",
       "4       True      ...              0.0         0.0         0.0          1.0   \n",
       "\n",
       "   landuse_6.0  landuse_7.0  landuse_8.0  landuse_9.0  landuse_10.0  \\\n",
       "0          0.0          0.0          0.0          0.0           0.0   \n",
       "1          0.0          0.0          0.0          0.0           0.0   \n",
       "2          0.0          0.0          0.0          0.0           0.0   \n",
       "3          0.0          0.0          0.0          0.0           0.0   \n",
       "4          0.0          0.0          0.0          0.0           0.0   \n",
       "\n",
       "   landuse_11.0  \n",
       "0           0.0  \n",
       "1           0.0  \n",
       "2           0.0  \n",
       "3           0.0  \n",
       "4           0.0  \n",
       "\n",
       "[5 rows x 25 columns]"
      ]
     },
     "execution_count": 208,
     "metadata": {},
     "output_type": "execute_result"
    }
   ],
   "source": [
    "# Drop variables replaced by dummy variables\n",
    "dbn_cropped = dbn_cropped.drop(labels=['boiler_id','boiler_age','ct_bc_comb','boiler_make', 'boiler_model',\n",
    "                        'boiler_pressure_type', 'ownername'], axis=1)\n",
    "dbn_cropped.head()"
   ]
  },
  {
   "cell_type": "markdown",
   "metadata": {},
   "source": [
    "#### Get rid of leftover nan values"
   ]
  },
  {
   "cell_type": "code",
   "execution_count": 210,
   "metadata": {},
   "outputs": [
    {
     "name": "stdout",
     "output_type": "stream",
     "text": [
      "1543049 --> 1535994: lost 7055 records\n"
     ]
    }
   ],
   "source": [
    "before = dbn_cropped.shape[0] \n",
    "dbn_cropped = dbn_cropped.dropna(axis=0)\n",
    "after = dbn_cropped.shape[0]\n",
    "print('{} --> {}: lost {} records'.format(before, after, before-after))"
   ]
  },
  {
   "cell_type": "code",
   "execution_count": 211,
   "metadata": {},
   "outputs": [],
   "source": [
    "# dbn_cropped.to_csv('data/dbn_for_models.csv', index=False)"
   ]
  }
 ],
 "metadata": {
  "kernelspec": {
   "display_name": "PUI2016_Python3",
   "language": "python",
   "name": "pui2016_python3"
  },
  "language_info": {
   "codemirror_mode": {
    "name": "ipython",
    "version": 3
   },
   "file_extension": ".py",
   "mimetype": "text/x-python",
   "name": "python",
   "nbconvert_exporter": "python",
   "pygments_lexer": "ipython3",
   "version": "3.5.4"
  }
 },
 "nbformat": 4,
 "nbformat_minor": 2
}
