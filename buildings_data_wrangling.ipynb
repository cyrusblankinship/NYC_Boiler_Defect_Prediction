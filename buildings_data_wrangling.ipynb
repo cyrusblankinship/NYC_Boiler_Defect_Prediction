{
 "cells": [
  {
   "cell_type": "code",
   "execution_count": 39,
   "metadata": {},
   "outputs": [],
   "source": [
    "import pandas as pd\n",
    "import numpy as np\n",
    "\n",
    "import matplotlib.pyplot as plt\n",
    "%matplotlib inline"
   ]
  },
  {
   "cell_type": "markdown",
   "metadata": {},
   "source": [
    "## CATS permits"
   ]
  },
  {
   "cell_type": "markdown",
   "metadata": {},
   "source": [
    "Contains information on current boiler and industrial operation permits in New York City registered with DEP.\n",
    "* Looking for ways to join boiler info to records from inspections, both have BIN numbers, but many bins have more than one boiler"
   ]
  },
  {
   "cell_type": "code",
   "execution_count": null,
   "metadata": {},
   "outputs": [],
   "source": [
    "df_CATS = pd.read_csv('data/CATS_Permits.csv', \n",
    "                      parse_dates=['ExpirationDate', 'IssueDate'])"
   ]
  },
  {
   "cell_type": "code",
   "execution_count": 1,
   "metadata": {},
   "outputs": [
    {
     "ename": "NameError",
     "evalue": "name 'df_CATS' is not defined",
     "output_type": "error",
     "traceback": [
      "\u001b[0;31m---------------------------------------------------------------------------\u001b[0m",
      "\u001b[0;31mNameError\u001b[0m                                 Traceback (most recent call last)",
      "\u001b[0;32m<ipython-input-1-2d1129d57f28>\u001b[0m in \u001b[0;36m<module>\u001b[0;34m()\u001b[0m\n\u001b[0;32m----> 1\u001b[0;31m \u001b[0mdf_CATS\u001b[0m\u001b[0;34m.\u001b[0m\u001b[0mhead\u001b[0m\u001b[0;34m(\u001b[0m\u001b[0;36m20\u001b[0m\u001b[0;34m)\u001b[0m\u001b[0;34m\u001b[0m\u001b[0m\n\u001b[0m",
      "\u001b[0;31mNameError\u001b[0m: name 'df_CATS' is not defined"
     ]
    }
   ],
   "source": [
    "df_CATS.head(20)"
   ]
  },
  {
   "cell_type": "code",
   "execution_count": 22,
   "metadata": {},
   "outputs": [
    {
     "data": {
      "text/plain": [
       "RequestID                                             256924\n",
       "ApplicationID                                       CA000898\n",
       "RequestType                                     REGISTRATION\n",
       "House                                                    420\n",
       "Street                                       RIVERSIDE DRIVE\n",
       "Borough                                            MANHATTAN\n",
       "Bin                                                    57365\n",
       "Block                                                   1896\n",
       "Lot                                                        1\n",
       "OwnerName         420 RIVERSIDE OWNERS CORP-ATT:HOFFMAN MGMT\n",
       "ExpirationDate                           2022-01-22 00:00:00\n",
       "Make                                                   LAARS\n",
       "Model                                                PW-1200\n",
       "BurnerMake                                             LAARS\n",
       "BurnerModel                                          PW-1200\n",
       "PrimaryFuel                                       NATURALGAS\n",
       "SecondaryFuel                                           NONE\n",
       "Quantity                                                   1\n",
       "IssueDate                                2019-01-31 10:46:31\n",
       "status                                       CURRENT        \n",
       "PremiseName                         420 RIVERSIDE DRIVE CORP\n",
       "Name: 0, dtype: object"
      ]
     },
     "execution_count": 22,
     "metadata": {},
     "output_type": "execute_result"
    }
   ],
   "source": [
    "df_CATS.iloc[0]"
   ]
  },
  {
   "cell_type": "code",
   "execution_count": 33,
   "metadata": {},
   "outputs": [
    {
     "data": {
      "text/plain": [
       "Bin Number\n",
       "3347532    70\n",
       "3071219    45\n",
       "4112321    40\n",
       "4092120    39\n",
       "2005898    37\n",
       "Name: Boiler ID, dtype: int64"
      ]
     },
     "execution_count": 33,
     "metadata": {},
     "output_type": "execute_result"
    }
   ],
   "source": [
    "df_safety_boiler.groupby(['Bin Number'])['Boiler ID'].nunique().sort_values(ascending=False).head()"
   ]
  },
  {
   "cell_type": "markdown",
   "metadata": {},
   "source": [
    "#### Bin 3347532 is Brooklyn Army Terminal, made up of 16 buildings"
   ]
  },
  {
   "cell_type": "code",
   "execution_count": 47,
   "metadata": {},
   "outputs": [
    {
     "data": {
      "text/plain": [
       "Tracking Number             2017-10000008199Y0001-24915\n",
       "Boiler ID                              10000008199Y0001\n",
       "Report Type                                     Initial\n",
       "ApplicantFirst Name                                DREW\n",
       "Applicant Last Name                              THOMAS\n",
       "Applicant License Type                               BB\n",
       "Applicant License Number                           5468\n",
       "Owner First Name                                BARBARA\n",
       "Owner Last Name                                KAMMERER\n",
       "Boiler Make                               ROCKMILLS STE\n",
       "Boiler Model                                        NaN\n",
       "Pressure Type                              Low Pressure\n",
       "Inspection Type                                External\n",
       "Inspection Date                     11/17/2017 00:00:00\n",
       "Defects Exist                                        No\n",
       "LFF (45 Days)                                         0\n",
       "LFF (180 Days)                                        0\n",
       "Filing Fee                                           30\n",
       "Total Amount Paid                                    30\n",
       "Report Status                                  Accepted\n",
       "Bin Number                                      1059945\n",
       "Name: 0, dtype: object"
      ]
     },
     "execution_count": 47,
     "metadata": {},
     "output_type": "execute_result"
    }
   ],
   "source": [
    "df_safety_boiler.iloc[0]"
   ]
  },
  {
   "cell_type": "markdown",
   "metadata": {},
   "source": [
    "## Joining building information to Boiler\n",
    "First join Bin to pluto through PAD"
   ]
  },
  {
   "cell_type": "code",
   "execution_count": 48,
   "metadata": {},
   "outputs": [
    {
     "name": "stderr",
     "output_type": "stream",
     "text": [
      "/usr/local/Anaconda3-5.0.0-Linux-x86_64/envs/PUI2016_Python3/lib/python3.5/site-packages/IPython/core/interactiveshell.py:2717: DtypeWarning: Columns (22) have mixed types. Specify dtype option on import or set low_memory=False.\n",
      "  interactivity=interactivity, compiler=compiler, result=result)\n"
     ]
    },
    {
     "data": {
      "text/plain": [
       "boro                                          1\n",
       "block                                         1\n",
       "lot                                          10\n",
       "bin                                     1089249\n",
       "lhnd                                           \n",
       "lhns                                           \n",
       "lcontpar                                       \n",
       "lsos                                          L\n",
       "hhnd                                           \n",
       "hhns                                           \n",
       "hcontpar                                       \n",
       "hsos                                          L\n",
       "scboro                                        1\n",
       "sc5                                          74\n",
       "sclgc                                         1\n",
       "stname         HUGH CAREY TNNL VENTILATOR BLDG \n",
       "addrtype                                      N\n",
       "realb7sc                                       \n",
       "validlgcs                              01      \n",
       "dapsflag                                       \n",
       "naubflag                                       \n",
       "parity                                        0\n",
       "b10sc                               10007401010\n",
       "segid                                   0132761\n",
       "zipcode                                   10004\n",
       "physical_id                                    \n",
       "Name: 0, dtype: object"
      ]
     },
     "execution_count": 48,
     "metadata": {},
     "output_type": "execute_result"
    }
   ],
   "source": [
    "pad = pd.read_csv('data/pad/bobaadr.txt')\n",
    "pad.iloc[0]"
   ]
  },
  {
   "cell_type": "code",
   "execution_count": 49,
   "metadata": {},
   "outputs": [
    {
     "name": "stderr",
     "output_type": "stream",
     "text": [
      "/usr/local/Anaconda3-5.0.0-Linux-x86_64/envs/PUI2016_Python3/lib/python3.5/site-packages/IPython/core/interactiveshell.py:2717: DtypeWarning: Columns (16,17,18,20,22,77) have mixed types. Specify dtype option on import or set low_memory=False.\n",
      "  interactivity=interactivity, compiler=compiler, result=result)\n"
     ]
    },
    {
     "data": {
      "text/plain": [
       "borough                                   BX\n",
       "block                                   5641\n",
       "lot                                      670\n",
       "cd                                       210\n",
       "ct2010                                   516\n",
       "cb2010                                     2\n",
       "schooldist                               NaN\n",
       "council                                   13\n",
       "zipcode                                  NaN\n",
       "firecomp                                 NaN\n",
       "policeprct                               NaN\n",
       "healtharea                               NaN\n",
       "sanitboro                                NaN\n",
       "sanitsub                                    \n",
       "address                   CITY ISLAND AVENUE\n",
       "zonedist1                                NaN\n",
       "zonedist2                                NaN\n",
       "zonedist3                                NaN\n",
       "zonedist4                                NaN\n",
       "overlay1                                 NaN\n",
       "overlay2                                 NaN\n",
       "spdist1                                  NaN\n",
       "spdist2                                  NaN\n",
       "spdist3                                  NaN\n",
       "ltdheight                                NaN\n",
       "splitzone                                NaN\n",
       "bldgclass                                 T2\n",
       "landuse                                    7\n",
       "easements                                  0\n",
       "ownertype                                NaN\n",
       "                                ...         \n",
       "commfar                                    0\n",
       "facilfar                                   0\n",
       "borocode                                   2\n",
       "bbl                              2.05641e+09\n",
       "condono                                    0\n",
       "tract2010                                516\n",
       "xcoord                           1.04451e+06\n",
       "ycoord                                246734\n",
       "zonemap                                   4d\n",
       "zmcode                                   NaN\n",
       "sanborn                              218 068\n",
       "taxmap                                 21810\n",
       "edesignum                                NaN\n",
       "appbbl                           2.05641e+09\n",
       "appdate                             1/5/2005\n",
       "mappluto_f                               NaN\n",
       "plutomapid                                 4\n",
       "version                               18v2.1\n",
       "sanitdistrict                            NaN\n",
       "healthcenterdistrict                     NaN\n",
       "firm07_flag                                1\n",
       "pfirm15_flag                               1\n",
       "rpaddate                           12/6/2018\n",
       "dcasdate                          12/20/2018\n",
       "zoningdate                        12/21/2018\n",
       "landmkdate                        12/20/2018\n",
       "basempdate                        12/21/2018\n",
       "masdate                                  NaN\n",
       "polidate                                 NaN\n",
       "edesigdate                        12/20/2018\n",
       "Name: 0, dtype: object"
      ]
     },
     "execution_count": 49,
     "metadata": {},
     "output_type": "execute_result"
    }
   ],
   "source": [
    "pluto = pd.read_csv('data/pluto/pluto_18v2_1.csv', usecols=usecols)\n",
    "pluto.iloc[0]"
   ]
  },
  {
   "cell_type": "code",
   "execution_count": 42,
   "metadata": {},
   "outputs": [
    {
     "data": {
      "text/plain": [
       "Index(['borough', 'block', 'lot', 'cd', 'ct2010', 'cb2010', 'schooldist',\n",
       "       'council', 'zipcode', 'firecomp', 'policeprct', 'healtharea',\n",
       "       'sanitboro', 'sanitsub', 'address', 'zonedist1', 'zonedist2',\n",
       "       'zonedist3', 'zonedist4', 'overlay1', 'overlay2', 'spdist1', 'spdist2',\n",
       "       'spdist3', 'ltdheight', 'splitzone', 'bldgclass', 'landuse',\n",
       "       'easements', 'ownertype', 'ownername', 'lotarea', 'bldgarea', 'comarea',\n",
       "       'resarea', 'officearea', 'retailarea', 'garagearea', 'strgearea',\n",
       "       'factryarea', 'otherarea', 'areasource', 'numbldgs', 'numfloors',\n",
       "       'unitsres', 'unitstotal', 'lotfront', 'lotdepth', 'bldgfront',\n",
       "       'bldgdepth', 'ext', 'proxcode', 'irrlotcode', 'lottype', 'bsmtcode',\n",
       "       'assessland', 'assesstot', 'exemptland', 'exempttot', 'yearbuilt',\n",
       "       'yearalter1', 'yearalter2', 'histdist', 'landmark', 'builtfar',\n",
       "       'residfar', 'commfar', 'facilfar', 'borocode', 'bbl', 'condono',\n",
       "       'tract2010', 'xcoord', 'ycoord', 'zonemap', 'zmcode', 'sanborn',\n",
       "       'taxmap', 'edesignum', 'appbbl', 'appdate', 'mappluto_f', 'plutomapid',\n",
       "       'version', 'sanitdistrict', 'healthcenterdistrict', 'firm07_flag',\n",
       "       'pfirm15_flag', 'rpaddate', 'dcasdate', 'zoningdate', 'landmkdate',\n",
       "       'basempdate', 'masdate', 'polidate', 'edesigdate'],\n",
       "      dtype='object')"
      ]
     },
     "execution_count": 42,
     "metadata": {},
     "output_type": "execute_result"
    }
   ],
   "source": [
    "pluto.columns"
   ]
  },
  {
   "cell_type": "code",
   "execution_count": 46,
   "metadata": {},
   "outputs": [
    {
     "data": {
      "text/plain": [
       "Index(['boro', 'block', 'lot', 'bin', 'lhnd', 'lhns', 'lcontpar', 'lsos',\n",
       "       'hhnd', 'hhns', 'hcontpar', 'hsos', 'scboro', 'sc5', 'sclgc', 'stname',\n",
       "       'addrtype', 'realb7sc', 'validlgcs', 'dapsflag', 'naubflag', 'parity',\n",
       "       'b10sc', 'segid', 'zipcode', 'physical_id'],\n",
       "      dtype='object')"
      ]
     },
     "execution_count": 46,
     "metadata": {},
     "output_type": "execute_result"
    }
   ],
   "source": [
    "pad.columns"
   ]
  },
  {
   "cell_type": "code",
   "execution_count": 45,
   "metadata": {},
   "outputs": [
    {
     "data": {
      "text/plain": [
       "['block', 'lot', 'zipcode']"
      ]
     },
     "execution_count": 45,
     "metadata": {},
     "output_type": "execute_result"
    }
   ],
   "source": [
    "[x for x in pluto.columns.values if x in pad.columns.values]"
   ]
  },
  {
   "cell_type": "markdown",
   "metadata": {},
   "source": [
    "### need to create a new bbl to join two dataframes"
   ]
  },
  {
   "cell_type": "code",
   "execution_count": 55,
   "metadata": {},
   "outputs": [],
   "source": [
    "# – 1 (Manhattan), 2 (Bronx),\n",
    "# 3 (Brooklyn), 4 (Queens), or 5 (Staten Island). The second and third characters are the\n",
    "# Section Number and the fourth and fifth characters are the Volume Numb\n",
    "borodict = {'BX': 2, 'QN': 4, 'SI': 5, 'MN': 1, 'BK': 3}"
   ]
  },
  {
   "cell_type": "code",
   "execution_count": 75,
   "metadata": {},
   "outputs": [
    {
     "data": {
      "text/plain": [
       "0    2.0\n",
       "1    4.0\n",
       "2    2.0\n",
       "3    2.0\n",
       "4    5.0\n",
       "Name: boro, dtype: float64"
      ]
     },
     "execution_count": 75,
     "metadata": {},
     "output_type": "execute_result"
    }
   ],
   "source": [
    "pluto['boro'] = pluto.borough.map(borodict).dropna(axis=0)\n",
    "# pluto['boro'] = pluto[pluto.boro < 6].reset_index(drop=True)\n",
    "# pluto['boro'] = pluto.boro.astype(int)\n",
    "pluto.boro.head()"
   ]
  },
  {
   "cell_type": "code",
   "execution_count": 78,
   "metadata": {},
   "outputs": [],
   "source": [
    "pluto = pluto[pluto.boro < 6].reset_index(drop=True)"
   ]
  },
  {
   "cell_type": "code",
   "execution_count": 87,
   "metadata": {},
   "outputs": [],
   "source": [
    "pluto['boro'] = pluto.boro.astype(int)\n",
    "pluto['block'] = pluto.block.astype(int)\n",
    "pluto['lot'] = pluto.lot.astype(int)"
   ]
  },
  {
   "cell_type": "code",
   "execution_count": 88,
   "metadata": {},
   "outputs": [],
   "source": [
    "pluto['joinbbl'] = pluto.boro.astype(str) + pluto.block.astype(str) + pluto.lot.astype(str)"
   ]
  },
  {
   "cell_type": "code",
   "execution_count": 89,
   "metadata": {},
   "outputs": [
    {
     "data": {
      "text/plain": [
       "0    25641670\n",
       "1      439353\n",
       "2     2420541\n",
       "3     2240214\n",
       "4       56383\n",
       "Name: joinbbl, dtype: object"
      ]
     },
     "execution_count": 89,
     "metadata": {},
     "output_type": "execute_result"
    }
   ],
   "source": [
    "pluto.joinbbl.head()"
   ]
  },
  {
   "cell_type": "code",
   "execution_count": null,
   "metadata": {},
   "outputs": [],
   "source": [
    "pad['joinbbl'] = pad.boro.astype(str) + pad.block.astype(str) + pad.lot.astype(str)"
   ]
  },
  {
   "cell_type": "code",
   "execution_count": 96,
   "metadata": {},
   "outputs": [],
   "source": [
    "usecols = ['borough', 'block', 'lot', 'cd', 'ct2010', 'cb2010', 'zipcode', 'healtharea',\n",
    "       'address', 'bldgclass', 'landuse', 'ownertype', 'ownername', 'bldgarea', 'comarea',\n",
    "       'resarea', 'officearea', 'retailarea', 'garagearea', 'strgearea',\n",
    "       'factryarea', 'otherarea', 'numbldgs', 'numfloors',\n",
    "       'unitsres', 'unitstotal', 'lottype', 'yearbuilt',\n",
    "       'yearalter1', 'yearalter2', 'histdist', 'landmark', 'builtfar',\n",
    "       'residfar', 'commfar', 'facilfar', 'borocode', 'bbl', 'condono',\n",
    "       'tract2010', 'xcoord', 'ycoord', 'taxmap', 'boro', 'joinbbl']"
   ]
  },
  {
   "cell_type": "code",
   "execution_count": 98,
   "metadata": {},
   "outputs": [],
   "source": [
    "pluto = pluto[usecols]"
   ]
  },
  {
   "cell_type": "code",
   "execution_count": 99,
   "metadata": {},
   "outputs": [
    {
     "data": {
      "text/plain": [
       "boro                                          1\n",
       "block                                         1\n",
       "lot                                          10\n",
       "bin                                     1089249\n",
       "lhnd                                           \n",
       "lhns                                           \n",
       "lcontpar                                       \n",
       "lsos                                          L\n",
       "hhnd                                           \n",
       "hhns                                           \n",
       "hcontpar                                       \n",
       "hsos                                          L\n",
       "scboro                                        1\n",
       "sc5                                          74\n",
       "sclgc                                         1\n",
       "stname         HUGH CAREY TNNL VENTILATOR BLDG \n",
       "addrtype                                      N\n",
       "realb7sc                                       \n",
       "validlgcs                              01      \n",
       "dapsflag                                       \n",
       "naubflag                                       \n",
       "parity                                        0\n",
       "b10sc                               10007401010\n",
       "segid                                   0132761\n",
       "zipcode                                   10004\n",
       "physical_id                                    \n",
       "joinbbl                                    1110\n",
       "Name: 0, dtype: object"
      ]
     },
     "execution_count": 99,
     "metadata": {},
     "output_type": "execute_result"
    }
   ],
   "source": [
    "pad.iloc[0]"
   ]
  },
  {
   "cell_type": "code",
   "execution_count": 100,
   "metadata": {},
   "outputs": [
    {
     "data": {
      "text/html": [
       "<div>\n",
       "<table border=\"1\" class=\"dataframe\">\n",
       "  <thead>\n",
       "    <tr style=\"text-align: right;\">\n",
       "      <th></th>\n",
       "      <th>boro_x</th>\n",
       "      <th>block_x</th>\n",
       "      <th>lot_x</th>\n",
       "      <th>bin</th>\n",
       "      <th>lhnd</th>\n",
       "      <th>lhns</th>\n",
       "      <th>lcontpar</th>\n",
       "      <th>lsos</th>\n",
       "      <th>hhnd</th>\n",
       "      <th>hhns</th>\n",
       "      <th>...</th>\n",
       "      <th>commfar</th>\n",
       "      <th>facilfar</th>\n",
       "      <th>borocode</th>\n",
       "      <th>bbl</th>\n",
       "      <th>condono</th>\n",
       "      <th>tract2010</th>\n",
       "      <th>xcoord</th>\n",
       "      <th>ycoord</th>\n",
       "      <th>taxmap</th>\n",
       "      <th>boro_y</th>\n",
       "    </tr>\n",
       "  </thead>\n",
       "  <tbody>\n",
       "    <tr>\n",
       "      <th>0</th>\n",
       "      <td>1</td>\n",
       "      <td>1</td>\n",
       "      <td>10</td>\n",
       "      <td>1089249</td>\n",
       "      <td></td>\n",
       "      <td></td>\n",
       "      <td></td>\n",
       "      <td>L</td>\n",
       "      <td></td>\n",
       "      <td></td>\n",
       "      <td>...</td>\n",
       "      <td>0.0</td>\n",
       "      <td>1.0</td>\n",
       "      <td>1.0</td>\n",
       "      <td>1.000010e+09</td>\n",
       "      <td>0.0</td>\n",
       "      <td>5.0</td>\n",
       "      <td>979071.0</td>\n",
       "      <td>190225.0</td>\n",
       "      <td>10101</td>\n",
       "      <td>1</td>\n",
       "    </tr>\n",
       "    <tr>\n",
       "      <th>1</th>\n",
       "      <td>1</td>\n",
       "      <td>1</td>\n",
       "      <td>10</td>\n",
       "      <td>1000000</td>\n",
       "      <td></td>\n",
       "      <td></td>\n",
       "      <td></td>\n",
       "      <td>R</td>\n",
       "      <td></td>\n",
       "      <td></td>\n",
       "      <td>...</td>\n",
       "      <td>0.0</td>\n",
       "      <td>1.0</td>\n",
       "      <td>1.0</td>\n",
       "      <td>1.000010e+09</td>\n",
       "      <td>0.0</td>\n",
       "      <td>5.0</td>\n",
       "      <td>979071.0</td>\n",
       "      <td>190225.0</td>\n",
       "      <td>10101</td>\n",
       "      <td>1</td>\n",
       "    </tr>\n",
       "    <tr>\n",
       "      <th>2</th>\n",
       "      <td>1</td>\n",
       "      <td>1</td>\n",
       "      <td>10</td>\n",
       "      <td>1000000</td>\n",
       "      <td></td>\n",
       "      <td></td>\n",
       "      <td></td>\n",
       "      <td>R</td>\n",
       "      <td></td>\n",
       "      <td></td>\n",
       "      <td>...</td>\n",
       "      <td>0.0</td>\n",
       "      <td>1.0</td>\n",
       "      <td>1.0</td>\n",
       "      <td>1.000010e+09</td>\n",
       "      <td>0.0</td>\n",
       "      <td>5.0</td>\n",
       "      <td>979071.0</td>\n",
       "      <td>190225.0</td>\n",
       "      <td>10101</td>\n",
       "      <td>1</td>\n",
       "    </tr>\n",
       "    <tr>\n",
       "      <th>3</th>\n",
       "      <td>1</td>\n",
       "      <td>1</td>\n",
       "      <td>10</td>\n",
       "      <td>1000000</td>\n",
       "      <td></td>\n",
       "      <td></td>\n",
       "      <td></td>\n",
       "      <td>R</td>\n",
       "      <td></td>\n",
       "      <td></td>\n",
       "      <td>...</td>\n",
       "      <td>0.0</td>\n",
       "      <td>1.0</td>\n",
       "      <td>1.0</td>\n",
       "      <td>1.000010e+09</td>\n",
       "      <td>0.0</td>\n",
       "      <td>5.0</td>\n",
       "      <td>979071.0</td>\n",
       "      <td>190225.0</td>\n",
       "      <td>10101</td>\n",
       "      <td>1</td>\n",
       "    </tr>\n",
       "    <tr>\n",
       "      <th>4</th>\n",
       "      <td>1</td>\n",
       "      <td>1</td>\n",
       "      <td>10</td>\n",
       "      <td>1000000</td>\n",
       "      <td></td>\n",
       "      <td></td>\n",
       "      <td></td>\n",
       "      <td>R</td>\n",
       "      <td></td>\n",
       "      <td></td>\n",
       "      <td>...</td>\n",
       "      <td>0.0</td>\n",
       "      <td>1.0</td>\n",
       "      <td>1.0</td>\n",
       "      <td>1.000010e+09</td>\n",
       "      <td>0.0</td>\n",
       "      <td>5.0</td>\n",
       "      <td>979071.0</td>\n",
       "      <td>190225.0</td>\n",
       "      <td>10101</td>\n",
       "      <td>1</td>\n",
       "    </tr>\n",
       "  </tbody>\n",
       "</table>\n",
       "<p>5 rows × 71 columns</p>\n",
       "</div>"
      ],
      "text/plain": [
       "   boro_x  block_x  lot_x      bin          lhnd         lhns lcontpar lsos  \\\n",
       "0       1        1     10  1089249                                        L   \n",
       "1       1        1     10  1000000                                        R   \n",
       "2       1        1     10  1000000                                        R   \n",
       "3       1        1     10  1000000                                        R   \n",
       "4       1        1     10  1000000                                        R   \n",
       "\n",
       "           hhnd         hhns  ...   commfar facilfar  borocode           bbl  \\\n",
       "0                             ...       0.0      1.0       1.0  1.000010e+09   \n",
       "1                             ...       0.0      1.0       1.0  1.000010e+09   \n",
       "2                             ...       0.0      1.0       1.0  1.000010e+09   \n",
       "3                             ...       0.0      1.0       1.0  1.000010e+09   \n",
       "4                             ...       0.0      1.0       1.0  1.000010e+09   \n",
       "\n",
       "   condono tract2010    xcoord    ycoord taxmap boro_y  \n",
       "0      0.0       5.0  979071.0  190225.0  10101      1  \n",
       "1      0.0       5.0  979071.0  190225.0  10101      1  \n",
       "2      0.0       5.0  979071.0  190225.0  10101      1  \n",
       "3      0.0       5.0  979071.0  190225.0  10101      1  \n",
       "4      0.0       5.0  979071.0  190225.0  10101      1  \n",
       "\n",
       "[5 rows x 71 columns]"
      ]
     },
     "execution_count": 100,
     "metadata": {},
     "output_type": "execute_result"
    }
   ],
   "source": [
    "test = pad.merge(pluto, left_on='joinbbl', right_on='joinbbl')\n",
    "test.head()"
   ]
  },
  {
   "cell_type": "code",
   "execution_count": 101,
   "metadata": {},
   "outputs": [],
   "source": [
    "test.to_csv('data/Buildings_w_Pluto.csv')"
   ]
  },
  {
   "cell_type": "code",
   "execution_count": null,
   "metadata": {},
   "outputs": [],
   "source": []
  }
 ],
 "metadata": {
  "kernelspec": {
   "display_name": "PUI2016_Python3",
   "language": "python",
   "name": "pui2016_python3"
  },
  "language_info": {
   "codemirror_mode": {
    "name": "ipython",
    "version": 3
   },
   "file_extension": ".py",
   "mimetype": "text/x-python",
   "name": "python",
   "nbconvert_exporter": "python",
   "pygments_lexer": "ipython3",
   "version": "3.5.4"
  }
 },
 "nbformat": 4,
 "nbformat_minor": 2
}
