{
 "cells": [
  {
   "cell_type": "markdown",
   "metadata": {},
   "source": [
    "# Naive Bayes\n",
    "This notebook is the first steps we took for analysis. We begin by performing a simple naive bayes after standardizing our continuous variables. We then attempt to correct for the inherent imbalance in our dataset, using both stratification and sampling techniques.\n",
    "\n",
    "source: https://towardsdatascience.com/practical-tips-for-class-imbalance-in-binary-classification-6ee29bcdb8a7"
   ]
  },
  {
   "cell_type": "code",
   "execution_count": 1,
   "metadata": {},
   "outputs": [],
   "source": [
    "import numpy as np\n",
    "import pandas as pd\n",
    "import matplotlib.pyplot as plt\n",
    "# from sklearn.cross_validation import train_test_split\n",
    "from sklearn.naive_bayes import GaussianNB\n",
    "from sklearn.model_selection import StratifiedShuffleSplit, train_test_split\n",
    "from sklearn import metrics"
   ]
  },
  {
   "cell_type": "code",
   "execution_count": 2,
   "metadata": {},
   "outputs": [
    {
     "data": {
      "text/plain": [
       "defects_exist                      0\n",
       "years_since_last_defects           0\n",
       "bldgarea                      185785\n",
       "unitstotal                         8\n",
       "builtfar                       10.38\n",
       "median_household_income       135588\n",
       "over_65_pct                  0.14173\n",
       "over_white_pct              0.783066\n",
       "dummy_pressure_type                1\n",
       "dummy_make                      True\n",
       "dummy_model                     True\n",
       "dummy_tract                    False\n",
       "dummy_owner                     True\n",
       "defects_history                    0\n",
       "landuse_1.0                        0\n",
       "landuse_2.0                        0\n",
       "landuse_3.0                        0\n",
       "landuse_4.0                        0\n",
       "landuse_5.0                        1\n",
       "landuse_6.0                        0\n",
       "landuse_7.0                        0\n",
       "landuse_8.0                        0\n",
       "landuse_9.0                        0\n",
       "landuse_10.0                       0\n",
       "landuse_11.0                       0\n",
       "Name: 0, dtype: object"
      ]
     },
     "execution_count": 2,
     "metadata": {},
     "output_type": "execute_result"
    }
   ],
   "source": [
    "df = pd.read_csv('data/dbn_for_models.csv')\n",
    "df.iloc[0]"
   ]
  },
  {
   "cell_type": "code",
   "execution_count": 4,
   "metadata": {},
   "outputs": [
    {
     "data": {
      "text/html": [
       "<div>\n",
       "<style scoped>\n",
       "    .dataframe tbody tr th:only-of-type {\n",
       "        vertical-align: middle;\n",
       "    }\n",
       "\n",
       "    .dataframe tbody tr th {\n",
       "        vertical-align: top;\n",
       "    }\n",
       "\n",
       "    .dataframe thead th {\n",
       "        text-align: right;\n",
       "    }\n",
       "</style>\n",
       "<table border=\"1\" class=\"dataframe\">\n",
       "  <thead>\n",
       "    <tr style=\"text-align: right;\">\n",
       "      <th></th>\n",
       "      <th>defects_exist</th>\n",
       "      <th>years_since_last_defects</th>\n",
       "      <th>bldgarea</th>\n",
       "      <th>unitstotal</th>\n",
       "      <th>builtfar</th>\n",
       "      <th>median_household_income</th>\n",
       "      <th>over_65_pct</th>\n",
       "      <th>over_white_pct</th>\n",
       "      <th>dummy_pressure_type</th>\n",
       "      <th>defects_history</th>\n",
       "      <th>...</th>\n",
       "      <th>landuse_2.0</th>\n",
       "      <th>landuse_3.0</th>\n",
       "      <th>landuse_4.0</th>\n",
       "      <th>landuse_5.0</th>\n",
       "      <th>landuse_6.0</th>\n",
       "      <th>landuse_7.0</th>\n",
       "      <th>landuse_8.0</th>\n",
       "      <th>landuse_9.0</th>\n",
       "      <th>landuse_10.0</th>\n",
       "      <th>landuse_11.0</th>\n",
       "    </tr>\n",
       "  </thead>\n",
       "  <tbody>\n",
       "    <tr>\n",
       "      <th>count</th>\n",
       "      <td>1.535994e+06</td>\n",
       "      <td>1.535994e+06</td>\n",
       "      <td>1.535994e+06</td>\n",
       "      <td>1.535994e+06</td>\n",
       "      <td>1.535994e+06</td>\n",
       "      <td>1.535994e+06</td>\n",
       "      <td>1.535994e+06</td>\n",
       "      <td>1.535994e+06</td>\n",
       "      <td>1.535994e+06</td>\n",
       "      <td>1.535994e+06</td>\n",
       "      <td>...</td>\n",
       "      <td>1.535994e+06</td>\n",
       "      <td>1.535994e+06</td>\n",
       "      <td>1.535994e+06</td>\n",
       "      <td>1.535994e+06</td>\n",
       "      <td>1.535994e+06</td>\n",
       "      <td>1.535994e+06</td>\n",
       "      <td>1.535994e+06</td>\n",
       "      <td>1.535994e+06</td>\n",
       "      <td>1.535994e+06</td>\n",
       "      <td>1.535994e+06</td>\n",
       "    </tr>\n",
       "    <tr>\n",
       "      <th>mean</th>\n",
       "      <td>1.158045e-01</td>\n",
       "      <td>7.038729e+00</td>\n",
       "      <td>9.233391e-18</td>\n",
       "      <td>5.884205e-18</td>\n",
       "      <td>9.710789e-17</td>\n",
       "      <td>2.077976e-17</td>\n",
       "      <td>1.266336e-01</td>\n",
       "      <td>5.031791e-01</td>\n",
       "      <td>9.965631e-01</td>\n",
       "      <td>1.168581e+00</td>\n",
       "      <td>...</td>\n",
       "      <td>3.511863e-01</td>\n",
       "      <td>1.586966e-01</td>\n",
       "      <td>2.827518e-01</td>\n",
       "      <td>6.232056e-02</td>\n",
       "      <td>1.799226e-02</td>\n",
       "      <td>3.470717e-03</td>\n",
       "      <td>1.035349e-01</td>\n",
       "      <td>1.285161e-03</td>\n",
       "      <td>1.314458e-03</td>\n",
       "      <td>6.145857e-04</td>\n",
       "    </tr>\n",
       "    <tr>\n",
       "      <th>std</th>\n",
       "      <td>3.199904e-01</td>\n",
       "      <td>6.136811e+00</td>\n",
       "      <td>1.000000e+00</td>\n",
       "      <td>1.000000e+00</td>\n",
       "      <td>1.000000e+00</td>\n",
       "      <td>1.000000e+00</td>\n",
       "      <td>6.000739e-02</td>\n",
       "      <td>2.831000e-01</td>\n",
       "      <td>5.852395e-02</td>\n",
       "      <td>1.892900e+00</td>\n",
       "      <td>...</td>\n",
       "      <td>4.773412e-01</td>\n",
       "      <td>3.653930e-01</td>\n",
       "      <td>4.503369e-01</td>\n",
       "      <td>2.417369e-01</td>\n",
       "      <td>1.329231e-01</td>\n",
       "      <td>5.881048e-02</td>\n",
       "      <td>3.046564e-01</td>\n",
       "      <td>3.582611e-02</td>\n",
       "      <td>3.623163e-02</td>\n",
       "      <td>2.478323e-02</td>\n",
       "    </tr>\n",
       "    <tr>\n",
       "      <th>min</th>\n",
       "      <td>0.000000e+00</td>\n",
       "      <td>0.000000e+00</td>\n",
       "      <td>-3.394371e-01</td>\n",
       "      <td>-2.044870e-01</td>\n",
       "      <td>-1.196623e+00</td>\n",
       "      <td>-1.587783e+00</td>\n",
       "      <td>0.000000e+00</td>\n",
       "      <td>0.000000e+00</td>\n",
       "      <td>0.000000e+00</td>\n",
       "      <td>0.000000e+00</td>\n",
       "      <td>...</td>\n",
       "      <td>0.000000e+00</td>\n",
       "      <td>0.000000e+00</td>\n",
       "      <td>0.000000e+00</td>\n",
       "      <td>0.000000e+00</td>\n",
       "      <td>0.000000e+00</td>\n",
       "      <td>0.000000e+00</td>\n",
       "      <td>0.000000e+00</td>\n",
       "      <td>0.000000e+00</td>\n",
       "      <td>0.000000e+00</td>\n",
       "      <td>0.000000e+00</td>\n",
       "    </tr>\n",
       "    <tr>\n",
       "      <th>25%</th>\n",
       "      <td>0.000000e+00</td>\n",
       "      <td>2.000000e+00</td>\n",
       "      <td>-3.049673e-01</td>\n",
       "      <td>-1.889301e-01</td>\n",
       "      <td>-5.630175e-01</td>\n",
       "      <td>-7.283546e-01</td>\n",
       "      <td>8.644256e-02</td>\n",
       "      <td>2.342017e-01</td>\n",
       "      <td>1.000000e+00</td>\n",
       "      <td>0.000000e+00</td>\n",
       "      <td>...</td>\n",
       "      <td>0.000000e+00</td>\n",
       "      <td>0.000000e+00</td>\n",
       "      <td>0.000000e+00</td>\n",
       "      <td>0.000000e+00</td>\n",
       "      <td>0.000000e+00</td>\n",
       "      <td>0.000000e+00</td>\n",
       "      <td>0.000000e+00</td>\n",
       "      <td>0.000000e+00</td>\n",
       "      <td>0.000000e+00</td>\n",
       "      <td>0.000000e+00</td>\n",
       "    </tr>\n",
       "    <tr>\n",
       "      <th>50%</th>\n",
       "      <td>0.000000e+00</td>\n",
       "      <td>5.000000e+00</td>\n",
       "      <td>-2.682348e-01</td>\n",
       "      <td>-1.630019e-01</td>\n",
       "      <td>-2.063773e-01</td>\n",
       "      <td>-2.493209e-01</td>\n",
       "      <td>1.177924e-01</td>\n",
       "      <td>5.311271e-01</td>\n",
       "      <td>1.000000e+00</td>\n",
       "      <td>0.000000e+00</td>\n",
       "      <td>...</td>\n",
       "      <td>0.000000e+00</td>\n",
       "      <td>0.000000e+00</td>\n",
       "      <td>0.000000e+00</td>\n",
       "      <td>0.000000e+00</td>\n",
       "      <td>0.000000e+00</td>\n",
       "      <td>0.000000e+00</td>\n",
       "      <td>0.000000e+00</td>\n",
       "      <td>0.000000e+00</td>\n",
       "      <td>0.000000e+00</td>\n",
       "      <td>0.000000e+00</td>\n",
       "    </tr>\n",
       "    <tr>\n",
       "      <th>75%</th>\n",
       "      <td>0.000000e+00</td>\n",
       "      <td>1.000000e+01</td>\n",
       "      <td>-4.763509e-02</td>\n",
       "      <td>-5.410344e-02</td>\n",
       "      <td>2.792605e-01</td>\n",
       "      <td>4.537128e-01</td>\n",
       "      <td>1.557648e-01</td>\n",
       "      <td>7.664161e-01</td>\n",
       "      <td>1.000000e+00</td>\n",
       "      <td>2.000000e+00</td>\n",
       "      <td>...</td>\n",
       "      <td>1.000000e+00</td>\n",
       "      <td>0.000000e+00</td>\n",
       "      <td>1.000000e+00</td>\n",
       "      <td>0.000000e+00</td>\n",
       "      <td>0.000000e+00</td>\n",
       "      <td>0.000000e+00</td>\n",
       "      <td>0.000000e+00</td>\n",
       "      <td>0.000000e+00</td>\n",
       "      <td>0.000000e+00</td>\n",
       "      <td>0.000000e+00</td>\n",
       "    </tr>\n",
       "    <tr>\n",
       "      <th>max</th>\n",
       "      <td>1.000000e+00</td>\n",
       "      <td>2.700000e+01</td>\n",
       "      <td>9.465637e+01</td>\n",
       "      <td>4.993548e+01</td>\n",
       "      <td>1.694650e+01</td>\n",
       "      <td>4.706371e+00</td>\n",
       "      <td>8.933031e-01</td>\n",
       "      <td>1.000000e+00</td>\n",
       "      <td>1.000000e+00</td>\n",
       "      <td>1.900000e+01</td>\n",
       "      <td>...</td>\n",
       "      <td>1.000000e+00</td>\n",
       "      <td>1.000000e+00</td>\n",
       "      <td>1.000000e+00</td>\n",
       "      <td>1.000000e+00</td>\n",
       "      <td>1.000000e+00</td>\n",
       "      <td>1.000000e+00</td>\n",
       "      <td>1.000000e+00</td>\n",
       "      <td>1.000000e+00</td>\n",
       "      <td>1.000000e+00</td>\n",
       "      <td>1.000000e+00</td>\n",
       "    </tr>\n",
       "  </tbody>\n",
       "</table>\n",
       "<p>8 rows × 21 columns</p>\n",
       "</div>"
      ],
      "text/plain": [
       "       defects_exist  years_since_last_defects      bldgarea    unitstotal  \\\n",
       "count   1.535994e+06              1.535994e+06  1.535994e+06  1.535994e+06   \n",
       "mean    1.158045e-01              7.038729e+00  9.233391e-18  5.884205e-18   \n",
       "std     3.199904e-01              6.136811e+00  1.000000e+00  1.000000e+00   \n",
       "min     0.000000e+00              0.000000e+00 -3.394371e-01 -2.044870e-01   \n",
       "25%     0.000000e+00              2.000000e+00 -3.049673e-01 -1.889301e-01   \n",
       "50%     0.000000e+00              5.000000e+00 -2.682348e-01 -1.630019e-01   \n",
       "75%     0.000000e+00              1.000000e+01 -4.763509e-02 -5.410344e-02   \n",
       "max     1.000000e+00              2.700000e+01  9.465637e+01  4.993548e+01   \n",
       "\n",
       "           builtfar  median_household_income   over_65_pct  over_white_pct  \\\n",
       "count  1.535994e+06             1.535994e+06  1.535994e+06    1.535994e+06   \n",
       "mean   9.710789e-17             2.077976e-17  1.266336e-01    5.031791e-01   \n",
       "std    1.000000e+00             1.000000e+00  6.000739e-02    2.831000e-01   \n",
       "min   -1.196623e+00            -1.587783e+00  0.000000e+00    0.000000e+00   \n",
       "25%   -5.630175e-01            -7.283546e-01  8.644256e-02    2.342017e-01   \n",
       "50%   -2.063773e-01            -2.493209e-01  1.177924e-01    5.311271e-01   \n",
       "75%    2.792605e-01             4.537128e-01  1.557648e-01    7.664161e-01   \n",
       "max    1.694650e+01             4.706371e+00  8.933031e-01    1.000000e+00   \n",
       "\n",
       "       dummy_pressure_type  defects_history      ...        landuse_2.0  \\\n",
       "count         1.535994e+06     1.535994e+06      ...       1.535994e+06   \n",
       "mean          9.965631e-01     1.168581e+00      ...       3.511863e-01   \n",
       "std           5.852395e-02     1.892900e+00      ...       4.773412e-01   \n",
       "min           0.000000e+00     0.000000e+00      ...       0.000000e+00   \n",
       "25%           1.000000e+00     0.000000e+00      ...       0.000000e+00   \n",
       "50%           1.000000e+00     0.000000e+00      ...       0.000000e+00   \n",
       "75%           1.000000e+00     2.000000e+00      ...       1.000000e+00   \n",
       "max           1.000000e+00     1.900000e+01      ...       1.000000e+00   \n",
       "\n",
       "        landuse_3.0   landuse_4.0   landuse_5.0   landuse_6.0   landuse_7.0  \\\n",
       "count  1.535994e+06  1.535994e+06  1.535994e+06  1.535994e+06  1.535994e+06   \n",
       "mean   1.586966e-01  2.827518e-01  6.232056e-02  1.799226e-02  3.470717e-03   \n",
       "std    3.653930e-01  4.503369e-01  2.417369e-01  1.329231e-01  5.881048e-02   \n",
       "min    0.000000e+00  0.000000e+00  0.000000e+00  0.000000e+00  0.000000e+00   \n",
       "25%    0.000000e+00  0.000000e+00  0.000000e+00  0.000000e+00  0.000000e+00   \n",
       "50%    0.000000e+00  0.000000e+00  0.000000e+00  0.000000e+00  0.000000e+00   \n",
       "75%    0.000000e+00  1.000000e+00  0.000000e+00  0.000000e+00  0.000000e+00   \n",
       "max    1.000000e+00  1.000000e+00  1.000000e+00  1.000000e+00  1.000000e+00   \n",
       "\n",
       "        landuse_8.0   landuse_9.0  landuse_10.0  landuse_11.0  \n",
       "count  1.535994e+06  1.535994e+06  1.535994e+06  1.535994e+06  \n",
       "mean   1.035349e-01  1.285161e-03  1.314458e-03  6.145857e-04  \n",
       "std    3.046564e-01  3.582611e-02  3.623163e-02  2.478323e-02  \n",
       "min    0.000000e+00  0.000000e+00  0.000000e+00  0.000000e+00  \n",
       "25%    0.000000e+00  0.000000e+00  0.000000e+00  0.000000e+00  \n",
       "50%    0.000000e+00  0.000000e+00  0.000000e+00  0.000000e+00  \n",
       "75%    0.000000e+00  0.000000e+00  0.000000e+00  0.000000e+00  \n",
       "max    1.000000e+00  1.000000e+00  1.000000e+00  1.000000e+00  \n",
       "\n",
       "[8 rows x 21 columns]"
      ]
     },
     "execution_count": 4,
     "metadata": {},
     "output_type": "execute_result"
    }
   ],
   "source": [
    "# normalize some of the fields\n",
    "cols = ['bldgarea', 'unitstotal', 'builtfar','median_household_income']\n",
    "\n",
    "for col in cols:\n",
    "    df[col] = (df[col]-df[col].mean())/df[col].std()\n",
    "    \n",
    "df.describe()"
   ]
  },
  {
   "cell_type": "code",
   "execution_count": 5,
   "metadata": {},
   "outputs": [],
   "source": [
    "# separate dependent variable (defects_exist)\n",
    "X, y = df.iloc[:,1:].values, df.iloc[:,0].values"
   ]
  },
  {
   "cell_type": "markdown",
   "metadata": {},
   "source": [
    "### I. No Method of Imbalance Correction.."
   ]
  },
  {
   "cell_type": "code",
   "execution_count": 56,
   "metadata": {},
   "outputs": [],
   "source": [
    "# train/test split\n",
    "X_train, X_test, y_train, y_test = train_test_split(X, y, test_size=0.2, random_state=2015)\n",
    "\n",
    "#for reproducability\n",
    "np.random.seed(2015)\n",
    "\n",
    "# gaussian naive bayes with default parameters\n",
    "gnb = GaussianNB()\n",
    "trained_model = gnb.fit(X_train,y_train)\n",
    "y_pred_test = trained_model.predict_proba(X_test)[:,1]"
   ]
  },
  {
   "cell_type": "code",
   "execution_count": 57,
   "metadata": {},
   "outputs": [
    {
     "name": "stdout",
     "output_type": "stream",
     "text": [
      "Out of sample prediction accuracy: 0.7961256384298125\n",
      "\n",
      "\n",
      "Confusion Matrix\n",
      "[[228978  42822]\n",
      " [ 19808  15591]]\n",
      "\n",
      "\n",
      "              precision    recall  f1-score   support\n",
      "\n",
      "           0       0.92      0.84      0.88    271800\n",
      "           1       0.27      0.44      0.33     35399\n",
      "\n",
      "   micro avg       0.80      0.80      0.80    307199\n",
      "   macro avg       0.59      0.64      0.61    307199\n",
      "weighted avg       0.85      0.80      0.82    307199\n",
      "\n"
     ]
    }
   ],
   "source": [
    "def evaluation(trained_model, y_pred_test, y_test):\n",
    "    '''Evaluate model accuracy, precision, and recall'''\n",
    "    print ('Out of sample prediction accuracy:',1.0*sum((y_pred_test>0.5)==y_test)/len(y_test))\n",
    "    print('\\n')\n",
    "    pred_classes = y_pred_test>0.5\n",
    "    print('Confusion Matrix')\n",
    "    print(metrics.confusion_matrix(y_test, pred_classes))\n",
    "    print('\\n')\n",
    "    print(metrics.classification_report(y_test, pred_classes, labels=[0,1]))\n",
    "\n",
    "def plot_tresholds(y_test, y_test_pred):    \n",
    "    res = pd.DataFrame()    \n",
    "    for t in np.linspace(0,0.5,11):\n",
    "        y_test_pred_class = (y_test_pred > t)        \n",
    "        data = {\n",
    "            'Threshold':t,\n",
    "            'Recall': metrics.recall_score(y_test, y_test_pred_class)*100,\n",
    "            'Precision': metrics.precision_score(y_test, y_test_pred_class)*100,\n",
    "            'F1 score': metrics.f1_score(y_test, y_test_pred_class)*100,\n",
    "            'Accuracy (OS)': metrics.accuracy_score(y_test, y_test_pred_class)*100\n",
    "        }        \n",
    "        res = res.append(data, ignore_index=True)        \n",
    "    res.set_index('Threshold', inplace=True)        \n",
    "    res.plot()          \n",
    "    return res\n",
    "\n",
    "evaluation(trained_model, y_pred_test, y_test)"
   ]
  },
  {
   "cell_type": "code",
   "execution_count": 58,
   "metadata": {},
   "outputs": [
    {
     "data": {
      "image/png": "[encoded data removed]",
      "text/plain": [
       "<Figure size 432x288 with 1 Axes>"
      ]
     },
     "metadata": {
      "needs_background": "light"
     },
     "output_type": "display_data"
    }
   ],
   "source": [
    "first = plot_tresholds(y_test, y_pred_test)"
   ]
  },
  {
   "cell_type": "markdown",
   "metadata": {},
   "source": [
    "### II. Stratify data on train/test split"
   ]
  },
  {
   "cell_type": "code",
   "execution_count": 59,
   "metadata": {},
   "outputs": [
    {
     "name": "stdout",
     "output_type": "stream",
     "text": [
      "TRAIN: [1077326  235207  249800 ...  123244  913106 1403406] TEST: [ 549606  636383  463286 ... 1012207 1486320 1396327]\n",
      "TRAIN: [1519425  807549 1204880 ...  352581  816252   39087] TEST: [1151644  256630 1274336 ...  363435  345794  949393]\n"
     ]
    }
   ],
   "source": [
    "sss = StratifiedShuffleSplit(n_splits=2, test_size=0.3, random_state=1002)\n",
    "\n",
    "for train_index, test_index in sss.split(X, y):\n",
    "    print(\"TRAIN:\", train_index, \"TEST:\", test_index)\n",
    "    X_train, X_test = X[train_index], X[test_index]\n",
    "    y_train, y_test = y[train_index], y[test_index]"
   ]
  },
  {
   "cell_type": "code",
   "execution_count": 44,
   "metadata": {},
   "outputs": [
    {
     "data": {
      "text/plain": [
       "((1075195, 24), (1075195,), (460799, 24), (460799,))"
      ]
     },
     "execution_count": 44,
     "metadata": {},
     "output_type": "execute_result"
    }
   ],
   "source": [
    "X_train.shape, y_train.shape, X_test.shape, y_test.shape"
   ]
  },
  {
   "cell_type": "code",
   "execution_count": 45,
   "metadata": {},
   "outputs": [
    {
     "data": {
      "text/plain": [
       "(0.11580410995214821, 0.11580537284152093)"
      ]
     },
     "execution_count": 45,
     "metadata": {},
     "output_type": "execute_result"
    }
   ],
   "source": [
    "# Stratified enables equally dispersed dataset\n",
    "len(y_train[y_train > 0]) / len(y_train), len(y_test[y_test > 0]) / len(y_test)"
   ]
  },
  {
   "cell_type": "code",
   "execution_count": 60,
   "metadata": {},
   "outputs": [
    {
     "name": "stdout",
     "output_type": "stream",
     "text": [
      "Out of sample prediction accuracy: 0.7955030284353916\n",
      "\n",
      "\n",
      "Confusion Matrix\n",
      "[[343149  64287]\n",
      " [ 29945  23418]]\n",
      "\n",
      "\n",
      "              precision    recall  f1-score   support\n",
      "\n",
      "           0       0.92      0.84      0.88    407436\n",
      "           1       0.27      0.44      0.33     53363\n",
      "\n",
      "   micro avg       0.80      0.80      0.80    460799\n",
      "   macro avg       0.59      0.64      0.61    460799\n",
      "weighted avg       0.84      0.80      0.82    460799\n",
      "\n"
     ]
    }
   ],
   "source": [
    "np.random.seed(2015)\n",
    "gnb = GaussianNB()\n",
    "trained_model = gnb.fit(X_train,y_train)\n",
    "y_pred_test = trained_model.predict_proba(X_test)[:,1]\n",
    "\n",
    "evaluation(trained_model, y_pred_test, y_test)"
   ]
  },
  {
   "cell_type": "code",
   "execution_count": 61,
   "metadata": {},
   "outputs": [
    {
     "data": {
      "image/png": "[encoded data removed]",
      "text/plain": [
       "<Figure size 432x288 with 1 Axes>"
      ]
     },
     "metadata": {
      "needs_background": "light"
     },
     "output_type": "display_data"
    }
   ],
   "source": [
    "second = plot_tresholds(y_test, y_pred_test)"
   ]
  },
  {
   "cell_type": "markdown",
   "metadata": {},
   "source": [
    "### III. Resampling to get balanced data\n",
    "Will try down-sampling the majority class, and up-sampling the minority class, and using more advanced SMOTE technique"
   ]
  },
  {
   "cell_type": "markdown",
   "metadata": {},
   "source": [
    "#### 1. Under Sampling"
   ]
  },
  {
   "cell_type": "code",
   "execution_count": 34,
   "metadata": {},
   "outputs": [],
   "source": [
    "from imblearn.under_sampling import RandomUnderSampler as UnderSampler\n",
    "from imblearn.over_sampling import RandomOverSampler as OverSampler"
   ]
  },
  {
   "cell_type": "code",
   "execution_count": 62,
   "metadata": {},
   "outputs": [
    {
     "data": {
      "text/plain": [
       "((284952, 24), (1228795, 24), (307199, 24))"
      ]
     },
     "execution_count": 62,
     "metadata": {},
     "output_type": "execute_result"
    }
   ],
   "source": [
    "X_train, X_test, y_train, y_test = train_test_split(X, y, test_size=0.2, random_state=2015)\n",
    "\n",
    "sampler = UnderSampler(random_state=1992)\n",
    "X_train_under, y_train_under = sampler.fit_resample(X_train, y_train)\n",
    "X_train_under.shape, X_train.shape, X_test.shape"
   ]
  },
  {
   "cell_type": "code",
   "execution_count": 63,
   "metadata": {},
   "outputs": [
    {
     "name": "stdout",
     "output_type": "stream",
     "text": [
      "Out of sample prediction accuracy: 0.7063076377201749\n",
      "\n",
      "\n",
      "Confusion Matrix\n",
      "[[197123  74677]\n",
      " [ 15545  19854]]\n",
      "\n",
      "\n",
      "              precision    recall  f1-score   support\n",
      "\n",
      "           0       0.93      0.73      0.81    271800\n",
      "           1       0.21      0.56      0.31     35399\n",
      "\n",
      "   micro avg       0.71      0.71      0.71    307199\n",
      "   macro avg       0.57      0.64      0.56    307199\n",
      "weighted avg       0.84      0.71      0.76    307199\n",
      "\n"
     ]
    }
   ],
   "source": [
    "np.random.seed(2015)\n",
    "gnb = GaussianNB()\n",
    "trained_model = gnb.fit(X_train_under, y_train_under)\n",
    "y_pred_test = trained_model.predict_proba(X_test)[:,1]\n",
    "\n",
    "evaluation(trained_model, y_pred_test, y_test)"
   ]
  },
  {
   "cell_type": "code",
   "execution_count": 64,
   "metadata": {},
   "outputs": [
    {
     "data": {
      "image/png": "[encoded data removed]",
      "text/plain": [
       "<Figure size 432x288 with 1 Axes>"
      ]
     },
     "metadata": {
      "needs_background": "light"
     },
     "output_type": "display_data"
    }
   ],
   "source": [
    "third = plot_tresholds(y_test, y_pred_test)"
   ]
  },
  {
   "cell_type": "markdown",
   "metadata": {},
   "source": [
    "#### 2. Over Sampling"
   ]
  },
  {
   "cell_type": "code",
   "execution_count": 65,
   "metadata": {},
   "outputs": [
    {
     "data": {
      "text/plain": [
       "((2172638, 24), (1228795, 24), (307199, 24))"
      ]
     },
     "execution_count": 65,
     "metadata": {},
     "output_type": "execute_result"
    }
   ],
   "source": [
    "sampler = OverSampler(random_state=1992)\n",
    "X_train_over, y_train_over = sampler.fit_resample(X_train, y_train)\n",
    "X_train_over.shape, X_train.shape, X_test.shape"
   ]
  },
  {
   "cell_type": "code",
   "execution_count": 66,
   "metadata": {},
   "outputs": [
    {
     "name": "stdout",
     "output_type": "stream",
     "text": [
      "Out of sample prediction accuracy: 0.6896246407052107\n",
      "\n",
      "\n",
      "Confusion Matrix\n",
      "[[191248  80552]\n",
      " [ 14795  20604]]\n",
      "\n",
      "\n",
      "              precision    recall  f1-score   support\n",
      "\n",
      "           0       0.93      0.70      0.80    271800\n",
      "           1       0.20      0.58      0.30     35399\n",
      "\n",
      "   micro avg       0.69      0.69      0.69    307199\n",
      "   macro avg       0.57      0.64      0.55    307199\n",
      "weighted avg       0.84      0.69      0.74    307199\n",
      "\n"
     ]
    }
   ],
   "source": [
    "np.random.seed(2015)\n",
    "gnb = GaussianNB()\n",
    "trained_model = gnb.fit(X_train_over,y_train_over)\n",
    "y_pred_test = trained_model.predict_proba(X_test)[:,1]\n",
    "\n",
    "evaluation(trained_model, y_pred_test, y_test)"
   ]
  },
  {
   "cell_type": "code",
   "execution_count": 67,
   "metadata": {},
   "outputs": [
    {
     "data": {
      "image/png": "[encoded data removed]",
      "text/plain": [
       "<Figure size 432x288 with 1 Axes>"
      ]
     },
     "metadata": {
      "needs_background": "light"
     },
     "output_type": "display_data"
    }
   ],
   "source": [
    "fourth = plot_tresholds(y_test, y_pred_test)"
   ]
  },
  {
   "cell_type": "markdown",
   "metadata": {},
   "source": [
    "#### 3. SMOTE - synthetic minority over-sampling technique"
   ]
  },
  {
   "cell_type": "code",
   "execution_count": 18,
   "metadata": {},
   "outputs": [],
   "source": [
    "from imblearn.over_sampling import SMOTE"
   ]
  },
  {
   "cell_type": "code",
   "execution_count": 68,
   "metadata": {},
   "outputs": [
    {
     "data": {
      "text/plain": [
       "((2172638, 24), (1228795, 24), (1228795,))"
      ]
     },
     "execution_count": 68,
     "metadata": {},
     "output_type": "execute_result"
    }
   ],
   "source": [
    "sampler = SMOTE(random_state=1992)\n",
    "X_train_smote, y_train_smote = sampler.fit_resample(X_train, y_train)\n",
    "X_train_smote.shape, X_train.shape, y_train.shape"
   ]
  },
  {
   "cell_type": "code",
   "execution_count": 69,
   "metadata": {},
   "outputs": [
    {
     "name": "stdout",
     "output_type": "stream",
     "text": [
      "Out of sample prediction accuracy: 0.5541098766597548\n",
      "\n",
      "\n",
      "Confusion Matrix\n",
      "[[144481 127319]\n",
      " [  9658  25741]]\n",
      "\n",
      "\n",
      "              precision    recall  f1-score   support\n",
      "\n",
      "           0       0.94      0.53      0.68    271800\n",
      "           1       0.17      0.73      0.27     35399\n",
      "\n",
      "   micro avg       0.55      0.55      0.55    307199\n",
      "   macro avg       0.55      0.63      0.48    307199\n",
      "weighted avg       0.85      0.55      0.63    307199\n",
      "\n"
     ]
    }
   ],
   "source": [
    "np.random.seed(2015)\n",
    "gnb = GaussianNB()\n",
    "trained_model = gnb.fit(X_train_smote,y_train_smote)\n",
    "y_pred_test = trained_model.predict_proba(X_test)[:,1]\n",
    "\n",
    "evaluation(trained_model, y_pred_test, y_test)"
   ]
  },
  {
   "cell_type": "code",
   "execution_count": 70,
   "metadata": {},
   "outputs": [
    {
     "data": {
      "image/png": "[encoded data removed]",
      "text/plain": [
       "<Figure size 432x288 with 1 Axes>"
      ]
     },
     "metadata": {
      "needs_background": "light"
     },
     "output_type": "display_data"
    }
   ],
   "source": [
    "fifth = plot_tresholds(y_test, y_pred_test)"
   ]
  },
  {
   "cell_type": "code",
   "execution_count": 53,
   "metadata": {},
   "outputs": [],
   "source": []
  }
 ],
 "metadata": {
  "kernelspec": {
   "display_name": "kaggleEnv",
   "language": "python",
   "name": "kaggleenv"
  },
  "language_info": {
   "codemirror_mode": {
    "name": "ipython",
    "version": 3
   },
   "file_extension": ".py",
   "mimetype": "text/x-python",
   "name": "python",
   "nbconvert_exporter": "python",
   "pygments_lexer": "ipython3",
   "version": "3.6.7"
  }
 },
 "nbformat": 4,
 "nbformat_minor": 2
}
