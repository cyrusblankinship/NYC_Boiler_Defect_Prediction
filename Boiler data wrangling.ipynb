{
 "cells": [
  {
   "cell_type": "code",
   "execution_count": 2,
   "metadata": {},
   "outputs": [],
   "source": [
    "import pandas as pd\n",
    "import numpy as np\n",
    "\n",
    "from matplotlib import pyplot as plt\n",
    "%matplotlib inline"
   ]
  },
  {
   "cell_type": "markdown",
   "metadata": {},
   "source": [
    "### Old Boiler Inspections"
   ]
  },
  {
   "cell_type": "code",
   "execution_count": 3,
   "metadata": {},
   "outputs": [
    {
     "data": {
      "text/html": [
       "<div>\n",
       "<table border=\"1\" class=\"dataframe\">\n",
       "  <thead>\n",
       "    <tr style=\"text-align: right;\">\n",
       "      <th></th>\n",
       "      <th>ENTRYDATE</th>\n",
       "      <th>INSP-DATE</th>\n",
       "      <th>Int/Ext</th>\n",
       "      <th>NAME</th>\n",
       "      <th>NYSCERTIFICATE</th>\n",
       "      <th>REC-DATE</th>\n",
       "      <th>RESULTS</th>\n",
       "      <th>bin_number</th>\n",
       "      <th>boiler_id</th>\n",
       "    </tr>\n",
       "  </thead>\n",
       "  <tbody>\n",
       "    <tr>\n",
       "      <th>0</th>\n",
       "      <td>05/31/2016</td>\n",
       "      <td>10/23/2015</td>\n",
       "      <td>NaN</td>\n",
       "      <td>TRAVELERS INSURANCE CO</td>\n",
       "      <td>3012</td>\n",
       "      <td>10/30/2015</td>\n",
       "      <td>DEFECTS CORRECTED</td>\n",
       "      <td>1059945.0</td>\n",
       "      <td>10000008199Y0001</td>\n",
       "    </tr>\n",
       "    <tr>\n",
       "      <th>1</th>\n",
       "      <td>03/10/2016</td>\n",
       "      <td>02/04/2016</td>\n",
       "      <td>NaN</td>\n",
       "      <td>THE HARTFORD STEAM BLR INSP INS</td>\n",
       "      <td>5240</td>\n",
       "      <td>03/08/2016</td>\n",
       "      <td>NO DEFECTS</td>\n",
       "      <td>1059945.0</td>\n",
       "      <td>10000008199Y0001</td>\n",
       "    </tr>\n",
       "    <tr>\n",
       "      <th>2</th>\n",
       "      <td>09/22/2015</td>\n",
       "      <td>07/21/2015</td>\n",
       "      <td>NaN</td>\n",
       "      <td>TRAVELERS INSURANCE CO</td>\n",
       "      <td>5499</td>\n",
       "      <td>08/13/2015</td>\n",
       "      <td>DEFECTS EXIST</td>\n",
       "      <td>1059945.0</td>\n",
       "      <td>10000008199Y0001</td>\n",
       "    </tr>\n",
       "    <tr>\n",
       "      <th>3</th>\n",
       "      <td>12/24/2014</td>\n",
       "      <td>09/18/2014</td>\n",
       "      <td>NaN</td>\n",
       "      <td>TRAVELERS INSURANCE CO</td>\n",
       "      <td>3012</td>\n",
       "      <td>10/01/2014</td>\n",
       "      <td>NO DEFECTS</td>\n",
       "      <td>1059945.0</td>\n",
       "      <td>10000008199Y0001</td>\n",
       "    </tr>\n",
       "    <tr>\n",
       "      <th>4</th>\n",
       "      <td>04/11/2013</td>\n",
       "      <td>03/13/2013</td>\n",
       "      <td>NaN</td>\n",
       "      <td>TRAVELERS INSURANCE CO</td>\n",
       "      <td>3012</td>\n",
       "      <td>03/27/2013</td>\n",
       "      <td>NO DEFECTS</td>\n",
       "      <td>1059945.0</td>\n",
       "      <td>10000008199Y0001</td>\n",
       "    </tr>\n",
       "  </tbody>\n",
       "</table>\n",
       "</div>"
      ],
      "text/plain": [
       "    ENTRYDATE   INSP-DATE Int/Ext                             NAME  \\\n",
       "0  05/31/2016  10/23/2015     NaN           TRAVELERS INSURANCE CO   \n",
       "1  03/10/2016  02/04/2016     NaN  THE HARTFORD STEAM BLR INSP INS   \n",
       "2  09/22/2015  07/21/2015     NaN           TRAVELERS INSURANCE CO   \n",
       "3  12/24/2014  09/18/2014     NaN           TRAVELERS INSURANCE CO   \n",
       "4  04/11/2013  03/13/2013     NaN           TRAVELERS INSURANCE CO   \n",
       "\n",
       "  NYSCERTIFICATE    REC-DATE            RESULTS  bin_number         boiler_id  \n",
       "0           3012  10/30/2015  DEFECTS CORRECTED   1059945.0  10000008199Y0001  \n",
       "1           5240  03/08/2016         NO DEFECTS   1059945.0  10000008199Y0001  \n",
       "2           5499  08/13/2015      DEFECTS EXIST   1059945.0  10000008199Y0001  \n",
       "3           3012  10/01/2014         NO DEFECTS   1059945.0  10000008199Y0001  \n",
       "4           3012  03/27/2013         NO DEFECTS   1059945.0  10000008199Y0001  "
      ]
     },
     "execution_count": 3,
     "metadata": {},
     "output_type": "execute_result"
    }
   ],
   "source": [
    "df = pd.read_csv('data/bis_boiler_final.csv')\n",
    "df.head()"
   ]
  },
  {
   "cell_type": "code",
   "execution_count": 4,
   "metadata": {},
   "outputs": [
    {
     "data": {
      "text/plain": [
       "(1930647, 9)"
      ]
     },
     "execution_count": 4,
     "metadata": {},
     "output_type": "execute_result"
    }
   ],
   "source": [
    "df.shape"
   ]
  },
  {
   "cell_type": "code",
   "execution_count": 5,
   "metadata": {},
   "outputs": [
    {
     "data": {
      "text/plain": [
       "95708"
      ]
     },
     "execution_count": 5,
     "metadata": {},
     "output_type": "execute_result"
    }
   ],
   "source": [
    "df.boiler_id.nunique()"
   ]
  },
  {
   "cell_type": "code",
   "execution_count": 6,
   "metadata": {},
   "outputs": [],
   "source": [
    "date_fmt = '%m/%d/%Y'\n",
    "for col in ['ENTRYDATE','INSP-DATE','REC-DATE']:\n",
    "    df[col] = pd.to_datetime(df[col], errors='coerce', format=date_fmt)"
   ]
  },
  {
   "cell_type": "code",
   "execution_count": 7,
   "metadata": {},
   "outputs": [
    {
     "data": {
      "text/plain": [
       "ENTRYDATE          171629\n",
       "INSP-DATE            3214\n",
       "Int/Ext           1741883\n",
       "NAME                 2720\n",
       "NYSCERTIFICATE     171627\n",
       "REC-DATE           251203\n",
       "RESULTS            171636\n",
       "bin_number           1448\n",
       "boiler_id               0\n",
       "dtype: int64"
      ]
     },
     "execution_count": 7,
     "metadata": {},
     "output_type": "execute_result"
    }
   ],
   "source": [
    "df.isnull().sum()"
   ]
  },
  {
   "cell_type": "code",
   "execution_count": 8,
   "metadata": {},
   "outputs": [
    {
     "data": {
      "text/html": [
       "<div>\n",
       "<table border=\"1\" class=\"dataframe\">\n",
       "  <thead>\n",
       "    <tr style=\"text-align: right;\">\n",
       "      <th></th>\n",
       "      <th>ENTRYDATE</th>\n",
       "      <th>INSP-DATE</th>\n",
       "      <th>Int/Ext</th>\n",
       "      <th>NAME</th>\n",
       "      <th>NYSCERTIFICATE</th>\n",
       "      <th>REC-DATE</th>\n",
       "      <th>RESULTS</th>\n",
       "      <th>bin_number</th>\n",
       "      <th>boiler_id</th>\n",
       "    </tr>\n",
       "  </thead>\n",
       "  <tbody>\n",
       "    <tr>\n",
       "      <th>3694</th>\n",
       "      <td>NaT</td>\n",
       "      <td>NaT</td>\n",
       "      <td>V#32051675R</td>\n",
       "      <td>NaN</td>\n",
       "      <td>NaN</td>\n",
       "      <td>NaT</td>\n",
       "      <td>NaN</td>\n",
       "      <td>1041857.0</td>\n",
       "      <td>10000045096Y0001</td>\n",
       "    </tr>\n",
       "    <tr>\n",
       "      <th>4764</th>\n",
       "      <td>NaT</td>\n",
       "      <td>NaT</td>\n",
       "      <td>V#32056489X/HT STORE</td>\n",
       "      <td>NaN</td>\n",
       "      <td>NaN</td>\n",
       "      <td>NaT</td>\n",
       "      <td>NaN</td>\n",
       "      <td>3038707.0</td>\n",
       "      <td>30000114129N0001</td>\n",
       "    </tr>\n",
       "    <tr>\n",
       "      <th>6905</th>\n",
       "      <td>1999-03-04</td>\n",
       "      <td>NaT</td>\n",
       "      <td>NaN</td>\n",
       "      <td>LOSQUADRO ANTHONY</td>\n",
       "      <td>O 4247</td>\n",
       "      <td>NaT</td>\n",
       "      <td>NO DEFECTS</td>\n",
       "      <td>3031852.0</td>\n",
       "      <td>30000070334Y0001</td>\n",
       "    </tr>\n",
       "    <tr>\n",
       "      <th>7863</th>\n",
       "      <td>NaT</td>\n",
       "      <td>NaT</td>\n",
       "      <td>BLR NOT REGISTERED</td>\n",
       "      <td>NaN</td>\n",
       "      <td>NaN</td>\n",
       "      <td>NaT</td>\n",
       "      <td>NaN</td>\n",
       "      <td>1078847.0</td>\n",
       "      <td>10000078298Y0002</td>\n",
       "    </tr>\n",
       "    <tr>\n",
       "      <th>8468</th>\n",
       "      <td>NaT</td>\n",
       "      <td>NaT</td>\n",
       "      <td>110362937</td>\n",
       "      <td>NaN</td>\n",
       "      <td>NaN</td>\n",
       "      <td>NaT</td>\n",
       "      <td>NaN</td>\n",
       "      <td>1026694.0</td>\n",
       "      <td>10000088304N0001</td>\n",
       "    </tr>\n",
       "  </tbody>\n",
       "</table>\n",
       "</div>"
      ],
      "text/plain": [
       "      ENTRYDATE INSP-DATE               Int/Ext               NAME  \\\n",
       "3694        NaT       NaT           V#32051675R                NaN   \n",
       "4764        NaT       NaT  V#32056489X/HT STORE                NaN   \n",
       "6905 1999-03-04       NaT                   NaN  LOSQUADRO ANTHONY   \n",
       "7863        NaT       NaT    BLR NOT REGISTERED                NaN   \n",
       "8468        NaT       NaT             110362937                NaN   \n",
       "\n",
       "     NYSCERTIFICATE REC-DATE     RESULTS  bin_number         boiler_id  \n",
       "3694            NaN      NaT         NaN   1041857.0  10000045096Y0001  \n",
       "4764            NaN      NaT         NaN   3038707.0  30000114129N0001  \n",
       "6905         O 4247      NaT  NO DEFECTS   3031852.0  30000070334Y0001  \n",
       "7863            NaN      NaT         NaN   1078847.0  10000078298Y0002  \n",
       "8468            NaN      NaT         NaN   1026694.0  10000088304N0001  "
      ]
     },
     "execution_count": 8,
     "metadata": {},
     "output_type": "execute_result"
    }
   ],
   "source": [
    "df[df['INSP-DATE'].isnull()].head()"
   ]
  },
  {
   "cell_type": "code",
   "execution_count": 9,
   "metadata": {},
   "outputs": [
    {
     "data": {
      "text/html": [
       "<div>\n",
       "<table border=\"1\" class=\"dataframe\">\n",
       "  <thead>\n",
       "    <tr style=\"text-align: right;\">\n",
       "      <th></th>\n",
       "      <th>ENTRYDATE</th>\n",
       "      <th>INSP-DATE</th>\n",
       "      <th>Int/Ext</th>\n",
       "      <th>NAME</th>\n",
       "      <th>NYSCERTIFICATE</th>\n",
       "      <th>REC-DATE</th>\n",
       "      <th>RESULTS</th>\n",
       "      <th>bin_number</th>\n",
       "      <th>boiler_id</th>\n",
       "    </tr>\n",
       "  </thead>\n",
       "  <tbody>\n",
       "    <tr>\n",
       "      <th>24</th>\n",
       "      <td>NaT</td>\n",
       "      <td>1999-06-30</td>\n",
       "      <td>INSURANCE CANCELLED</td>\n",
       "      <td>HARTFORD STEAM</td>\n",
       "      <td>NaN</td>\n",
       "      <td>NaT</td>\n",
       "      <td>NaN</td>\n",
       "      <td>1059945.0</td>\n",
       "      <td>10000008199Y0001</td>\n",
       "    </tr>\n",
       "    <tr>\n",
       "      <th>82</th>\n",
       "      <td>NaT</td>\n",
       "      <td>2008-11-12</td>\n",
       "      <td>F/T PASSED 110241827</td>\n",
       "      <td>ANTZ 2316 (GM)</td>\n",
       "      <td>NaN</td>\n",
       "      <td>NaT</td>\n",
       "      <td>NaN</td>\n",
       "      <td>1016116.0</td>\n",
       "      <td>10000017652Y0001</td>\n",
       "    </tr>\n",
       "    <tr>\n",
       "      <th>83</th>\n",
       "      <td>NaT</td>\n",
       "      <td>2008-10-21</td>\n",
       "      <td>FAILED F/T 110241827</td>\n",
       "      <td>ANTZ 2316 (GM)</td>\n",
       "      <td>NaN</td>\n",
       "      <td>NaT</td>\n",
       "      <td>NaN</td>\n",
       "      <td>1016116.0</td>\n",
       "      <td>10000017652Y0001</td>\n",
       "    </tr>\n",
       "    <tr>\n",
       "      <th>103</th>\n",
       "      <td>NaT</td>\n",
       "      <td>2018-04-27</td>\n",
       "      <td>FAILED F/T 122323262</td>\n",
       "      <td>ORTIZ ALGUER 2867</td>\n",
       "      <td>NaN</td>\n",
       "      <td>NaT</td>\n",
       "      <td>NaN</td>\n",
       "      <td>1006432.0</td>\n",
       "      <td>10000018251Y0001</td>\n",
       "    </tr>\n",
       "    <tr>\n",
       "      <th>104</th>\n",
       "      <td>NaT</td>\n",
       "      <td>2018-02-07</td>\n",
       "      <td>FAILED F/T 122323262</td>\n",
       "      <td>HAFFEY KEVIN 2731</td>\n",
       "      <td>NaN</td>\n",
       "      <td>NaT</td>\n",
       "      <td>NaN</td>\n",
       "      <td>1006432.0</td>\n",
       "      <td>10000018251Y0001</td>\n",
       "    </tr>\n",
       "  </tbody>\n",
       "</table>\n",
       "</div>"
      ],
      "text/plain": [
       "    ENTRYDATE  INSP-DATE               Int/Ext               NAME  \\\n",
       "24        NaT 1999-06-30   INSURANCE CANCELLED     HARTFORD STEAM   \n",
       "82        NaT 2008-11-12  F/T PASSED 110241827     ANTZ 2316 (GM)   \n",
       "83        NaT 2008-10-21  FAILED F/T 110241827     ANTZ 2316 (GM)   \n",
       "103       NaT 2018-04-27  FAILED F/T 122323262  ORTIZ ALGUER 2867   \n",
       "104       NaT 2018-02-07  FAILED F/T 122323262  HAFFEY KEVIN 2731   \n",
       "\n",
       "    NYSCERTIFICATE REC-DATE RESULTS  bin_number         boiler_id  \n",
       "24             NaN      NaT     NaN   1059945.0  10000008199Y0001  \n",
       "82             NaN      NaT     NaN   1016116.0  10000017652Y0001  \n",
       "83             NaN      NaT     NaN   1016116.0  10000017652Y0001  \n",
       "103            NaN      NaT     NaN   1006432.0  10000018251Y0001  \n",
       "104            NaN      NaT     NaN   1006432.0  10000018251Y0001  "
      ]
     },
     "execution_count": 9,
     "metadata": {},
     "output_type": "execute_result"
    }
   ],
   "source": [
    "df[df['ENTRYDATE'].isnull()].head()"
   ]
  },
  {
   "cell_type": "markdown",
   "metadata": {},
   "source": [
    "Some rows seem to be annotations instead of actual inspections, droping those."
   ]
  },
  {
   "cell_type": "code",
   "execution_count": 10,
   "metadata": {},
   "outputs": [
    {
     "data": {
      "text/plain": [
       "ENTRYDATE               0\n",
       "INSP-DATE               0\n",
       "Int/Ext           1741067\n",
       "NAME                  123\n",
       "NYSCERTIFICATE          0\n",
       "REC-DATE            79446\n",
       "RESULTS                 0\n",
       "bin_number              0\n",
       "boiler_id               0\n",
       "dtype: int64"
      ]
     },
     "execution_count": 10,
     "metadata": {},
     "output_type": "execute_result"
    }
   ],
   "source": [
    "df_clean = df.loc[~df['INSP-DATE'].isnull() & ~df['ENTRYDATE'].isnull() & ~df['RESULTS'].isnull()].copy()\n",
    "df_clean.isnull().sum()"
   ]
  },
  {
   "cell_type": "code",
   "execution_count": 11,
   "metadata": {},
   "outputs": [
    {
     "data": {
      "text/plain": [
       "90304"
      ]
     },
     "execution_count": 11,
     "metadata": {},
     "output_type": "execute_result"
    }
   ],
   "source": [
    "df_clean.boiler_id.nunique()"
   ]
  },
  {
   "cell_type": "markdown",
   "metadata": {},
   "source": [
    "~5k boilers with no data."
   ]
  },
  {
   "cell_type": "code",
   "execution_count": 12,
   "metadata": {},
   "outputs": [
    {
     "data": {
      "text/plain": [
       "1517375   1905-09-19\n",
       "352915    1908-05-01\n",
       "1177039   1966-06-18\n",
       "834667    1991-01-31\n",
       "593825    1991-04-21\n",
       "Name: INSP-DATE, dtype: datetime64[ns]"
      ]
     },
     "execution_count": 12,
     "metadata": {},
     "output_type": "execute_result"
    }
   ],
   "source": [
    "df_clean['INSP-DATE'].sort_values().head()"
   ]
  },
  {
   "cell_type": "code",
   "execution_count": 13,
   "metadata": {},
   "outputs": [
    {
     "data": {
      "text/plain": [
       "NO DEFECTS                   1533246\n",
       "DEFECTS EXIST                 195699\n",
       "DEFECTS CORRECTED              21791\n",
       "NO DEFECTS - LATE FILING        4605\n",
       "DEFECTS CORRECTED - LATE        2697\n",
       "DEFECTS EXIST - LATE FILI        490\n",
       "EXTENSION GRANTED                 69\n",
       "4 - UNKNOWN                       10\n",
       "y - UNKNOWN                       10\n",
       "5 - UNKNOWN                        2\n",
       "7 - UNKNOWN                        1\n",
       "n - UNKNOWN                        1\n",
       "I - UNKNOWN                        1\n",
       "Name: RESULTS, dtype: int64"
      ]
     },
     "execution_count": 13,
     "metadata": {},
     "output_type": "execute_result"
    }
   ],
   "source": [
    "df_clean.RESULTS.value_counts()"
   ]
  },
  {
   "cell_type": "code",
   "execution_count": 14,
   "metadata": {},
   "outputs": [],
   "source": [
    "def defects_exist(series):\n",
    "    return int(any('DEFECTS EXIST' in result for result in series))"
   ]
  },
  {
   "cell_type": "code",
   "execution_count": 15,
   "metadata": {},
   "outputs": [
    {
     "data": {
      "text/html": [
       "<div>\n",
       "<table border=\"1\" class=\"dataframe\">\n",
       "  <thead>\n",
       "    <tr style=\"text-align: right;\">\n",
       "      <th></th>\n",
       "      <th>boiler_id</th>\n",
       "      <th>inspection_year</th>\n",
       "      <th>bin_number</th>\n",
       "      <th>defects_exist</th>\n",
       "    </tr>\n",
       "  </thead>\n",
       "  <tbody>\n",
       "    <tr>\n",
       "      <th>0</th>\n",
       "      <td>10000000027N0001</td>\n",
       "      <td>1993</td>\n",
       "      <td>1080776</td>\n",
       "      <td>0</td>\n",
       "    </tr>\n",
       "    <tr>\n",
       "      <th>1</th>\n",
       "      <td>10000000027N0001</td>\n",
       "      <td>1994</td>\n",
       "      <td>1080776</td>\n",
       "      <td>0</td>\n",
       "    </tr>\n",
       "    <tr>\n",
       "      <th>2</th>\n",
       "      <td>10000000027N0001</td>\n",
       "      <td>1995</td>\n",
       "      <td>1080776</td>\n",
       "      <td>0</td>\n",
       "    </tr>\n",
       "    <tr>\n",
       "      <th>3</th>\n",
       "      <td>10000000027N0001</td>\n",
       "      <td>1996</td>\n",
       "      <td>1080776</td>\n",
       "      <td>0</td>\n",
       "    </tr>\n",
       "    <tr>\n",
       "      <th>4</th>\n",
       "      <td>10000000027N0001</td>\n",
       "      <td>1997</td>\n",
       "      <td>1080776</td>\n",
       "      <td>0</td>\n",
       "    </tr>\n",
       "  </tbody>\n",
       "</table>\n",
       "</div>"
      ],
      "text/plain": [
       "          boiler_id  inspection_year  bin_number  defects_exist\n",
       "0  10000000027N0001             1993     1080776              0\n",
       "1  10000000027N0001             1994     1080776              0\n",
       "2  10000000027N0001             1995     1080776              0\n",
       "3  10000000027N0001             1996     1080776              0\n",
       "4  10000000027N0001             1997     1080776              0"
      ]
     },
     "execution_count": 15,
     "metadata": {},
     "output_type": "execute_result"
    }
   ],
   "source": [
    "df_clean.loc[:,'inspection_year'] = df_clean['INSP-DATE'].dt.year\n",
    "\n",
    "#Group by boiler_id and year, get dummy if defects existed in each year\n",
    "bis_boiler_year = df_clean.groupby(['boiler_id', 'inspection_year'])\\\n",
    "                            .agg({'RESULTS': defects_exist, 'bin_number': min})\\\n",
    "                            .rename(columns={'RESULTS':'defects_exist'})\n",
    "bis_boiler_year.reset_index(inplace = True)\n",
    "\n",
    "#Bin number to int\n",
    "bis_boiler_year['bin_number'] = bis_boiler_year['bin_number'].astype(int, errors='coerce')\n",
    "\n",
    "bis_boiler_year.head()"
   ]
  },
  {
   "cell_type": "markdown",
   "metadata": {},
   "source": [
    "### DOB Now Boiler Inspections"
   ]
  },
  {
   "cell_type": "code",
   "execution_count": 16,
   "metadata": {},
   "outputs": [
    {
     "data": {
      "text/html": [
       "<div>\n",
       "<table border=\"1\" class=\"dataframe\">\n",
       "  <thead>\n",
       "    <tr style=\"text-align: right;\">\n",
       "      <th></th>\n",
       "      <th>Tracking Number</th>\n",
       "      <th>Boiler ID</th>\n",
       "      <th>Report Type</th>\n",
       "      <th>ApplicantFirst Name</th>\n",
       "      <th>Applicant Last Name</th>\n",
       "      <th>Applicant License Type</th>\n",
       "      <th>Applicant License Number</th>\n",
       "      <th>Owner First Name</th>\n",
       "      <th>Owner Last Name</th>\n",
       "      <th>Boiler Make</th>\n",
       "      <th>...</th>\n",
       "      <th>Pressure Type</th>\n",
       "      <th>Inspection Type</th>\n",
       "      <th>Inspection Date</th>\n",
       "      <th>Defects Exist</th>\n",
       "      <th>LFF (45 Days)</th>\n",
       "      <th>LFF (180 Days)</th>\n",
       "      <th>Filing Fee</th>\n",
       "      <th>Total Amount Paid</th>\n",
       "      <th>Report Status</th>\n",
       "      <th>Bin Number</th>\n",
       "    </tr>\n",
       "  </thead>\n",
       "  <tbody>\n",
       "    <tr>\n",
       "      <th>0</th>\n",
       "      <td>2017-10000008199Y0001-24915</td>\n",
       "      <td>10000008199Y0001</td>\n",
       "      <td>Initial</td>\n",
       "      <td>DREW</td>\n",
       "      <td>THOMAS</td>\n",
       "      <td>BB</td>\n",
       "      <td>5468.0</td>\n",
       "      <td>BARBARA</td>\n",
       "      <td>KAMMERER</td>\n",
       "      <td>ROCKMILLS STE</td>\n",
       "      <td>...</td>\n",
       "      <td>Low Pressure</td>\n",
       "      <td>External</td>\n",
       "      <td>2017-11-17</td>\n",
       "      <td>No</td>\n",
       "      <td>0</td>\n",
       "      <td>0</td>\n",
       "      <td>30</td>\n",
       "      <td>30</td>\n",
       "      <td>Accepted</td>\n",
       "      <td>1059945</td>\n",
       "    </tr>\n",
       "    <tr>\n",
       "      <th>1</th>\n",
       "      <td>2017-10000017650Y0001-24577</td>\n",
       "      <td>10000017650Y0001</td>\n",
       "      <td>Initial</td>\n",
       "      <td>BENJAMIN</td>\n",
       "      <td>WAGNER</td>\n",
       "      <td>BB</td>\n",
       "      <td>5469.0</td>\n",
       "      <td>LINDA</td>\n",
       "      <td>BALIDEMAJ</td>\n",
       "      <td>ROCKMILLS</td>\n",
       "      <td>...</td>\n",
       "      <td>Low Pressure</td>\n",
       "      <td>External</td>\n",
       "      <td>2017-11-15</td>\n",
       "      <td>No</td>\n",
       "      <td>0</td>\n",
       "      <td>0</td>\n",
       "      <td>30</td>\n",
       "      <td>30</td>\n",
       "      <td>Accepted</td>\n",
       "      <td>1017834</td>\n",
       "    </tr>\n",
       "    <tr>\n",
       "      <th>2</th>\n",
       "      <td>2017-10000017652Y0001-24652</td>\n",
       "      <td>10000017652Y0001</td>\n",
       "      <td>Initial</td>\n",
       "      <td>JOHN</td>\n",
       "      <td>KNIEF</td>\n",
       "      <td>O</td>\n",
       "      <td>5317.0</td>\n",
       "      <td>CHRISTINA</td>\n",
       "      <td>RIVERA</td>\n",
       "      <td>H.B. SMITH</td>\n",
       "      <td>...</td>\n",
       "      <td>Low Pressure</td>\n",
       "      <td>External</td>\n",
       "      <td>2017-11-14</td>\n",
       "      <td>No</td>\n",
       "      <td>0</td>\n",
       "      <td>0</td>\n",
       "      <td>30</td>\n",
       "      <td>30</td>\n",
       "      <td>Accepted</td>\n",
       "      <td>1016116</td>\n",
       "    </tr>\n",
       "    <tr>\n",
       "      <th>3</th>\n",
       "      <td>2017-10000018251Y0001-24562</td>\n",
       "      <td>10000018251Y0001</td>\n",
       "      <td>Initial</td>\n",
       "      <td>BENJAMIN</td>\n",
       "      <td>WAGNER</td>\n",
       "      <td>BB</td>\n",
       "      <td>5469.0</td>\n",
       "      <td>NATE</td>\n",
       "      <td>KLEIN</td>\n",
       "      <td>PEERLESS</td>\n",
       "      <td>...</td>\n",
       "      <td>Low Pressure</td>\n",
       "      <td>External</td>\n",
       "      <td>2017-11-15</td>\n",
       "      <td>No</td>\n",
       "      <td>0</td>\n",
       "      <td>0</td>\n",
       "      <td>30</td>\n",
       "      <td>30</td>\n",
       "      <td>Accepted</td>\n",
       "      <td>1006432</td>\n",
       "    </tr>\n",
       "    <tr>\n",
       "      <th>4</th>\n",
       "      <td>2017-10000018279Y0001-24631</td>\n",
       "      <td>10000018279Y0001</td>\n",
       "      <td>Initial</td>\n",
       "      <td>EDWIN</td>\n",
       "      <td>VAZQUEZ</td>\n",
       "      <td>P</td>\n",
       "      <td>1526.0</td>\n",
       "      <td>LEONARD</td>\n",
       "      <td>EIS</td>\n",
       "      <td>CROTTY</td>\n",
       "      <td>...</td>\n",
       "      <td>Low Pressure</td>\n",
       "      <td>External</td>\n",
       "      <td>2017-11-17</td>\n",
       "      <td>No</td>\n",
       "      <td>0</td>\n",
       "      <td>0</td>\n",
       "      <td>30</td>\n",
       "      <td>30</td>\n",
       "      <td>Accepted</td>\n",
       "      <td>1006285</td>\n",
       "    </tr>\n",
       "  </tbody>\n",
       "</table>\n",
       "<p>5 rows × 21 columns</p>\n",
       "</div>"
      ],
      "text/plain": [
       "               Tracking Number         Boiler ID Report Type  \\\n",
       "0  2017-10000008199Y0001-24915  10000008199Y0001     Initial   \n",
       "1  2017-10000017650Y0001-24577  10000017650Y0001     Initial   \n",
       "2  2017-10000017652Y0001-24652  10000017652Y0001     Initial   \n",
       "3  2017-10000018251Y0001-24562  10000018251Y0001     Initial   \n",
       "4  2017-10000018279Y0001-24631  10000018279Y0001     Initial   \n",
       "\n",
       "  ApplicantFirst Name Applicant Last Name Applicant License Type  \\\n",
       "0                DREW              THOMAS                     BB   \n",
       "1            BENJAMIN              WAGNER                     BB   \n",
       "2                JOHN               KNIEF                      O   \n",
       "3            BENJAMIN              WAGNER                     BB   \n",
       "4               EDWIN             VAZQUEZ                      P   \n",
       "\n",
       "   Applicant License Number Owner First Name Owner Last Name    Boiler Make  \\\n",
       "0                    5468.0          BARBARA        KAMMERER  ROCKMILLS STE   \n",
       "1                    5469.0            LINDA       BALIDEMAJ      ROCKMILLS   \n",
       "2                    5317.0        CHRISTINA          RIVERA     H.B. SMITH   \n",
       "3                    5469.0             NATE           KLEIN       PEERLESS   \n",
       "4                    1526.0          LEONARD             EIS         CROTTY   \n",
       "\n",
       "     ...     Pressure Type Inspection Type Inspection Date Defects Exist  \\\n",
       "0    ...      Low Pressure        External      2017-11-17            No   \n",
       "1    ...      Low Pressure        External      2017-11-15            No   \n",
       "2    ...      Low Pressure        External      2017-11-14            No   \n",
       "3    ...      Low Pressure        External      2017-11-15            No   \n",
       "4    ...      Low Pressure        External      2017-11-17            No   \n",
       "\n",
       "  LFF (45 Days)  LFF (180 Days)  Filing Fee  Total Amount Paid  Report Status  \\\n",
       "0             0               0          30                 30       Accepted   \n",
       "1             0               0          30                 30       Accepted   \n",
       "2             0               0          30                 30       Accepted   \n",
       "3             0               0          30                 30       Accepted   \n",
       "4             0               0          30                 30       Accepted   \n",
       "\n",
       "  Bin Number  \n",
       "0    1059945  \n",
       "1    1017834  \n",
       "2    1016116  \n",
       "3    1006432  \n",
       "4    1006285  \n",
       "\n",
       "[5 rows x 21 columns]"
      ]
     },
     "execution_count": 16,
     "metadata": {},
     "output_type": "execute_result"
    }
   ],
   "source": [
    "dob_now = pd.read_csv('data/DOB_NOW__Safety_Boiler.csv', parse_dates=[-8], infer_datetime_format=True)\n",
    "dob_now.head()"
   ]
  },
  {
   "cell_type": "code",
   "execution_count": 17,
   "metadata": {},
   "outputs": [
    {
     "data": {
      "text/plain": [
       "No     154457\n",
       "Yes     13704\n",
       "Name: Defects Exist, dtype: int64"
      ]
     },
     "execution_count": 17,
     "metadata": {},
     "output_type": "execute_result"
    }
   ],
   "source": [
    "dob_now['Defects Exist'].value_counts()"
   ]
  },
  {
   "cell_type": "code",
   "execution_count": 18,
   "metadata": {},
   "outputs": [],
   "source": [
    "def defects_exist_dnow(series):\n",
    "    return int('Yes' in series.values)"
   ]
  },
  {
   "cell_type": "code",
   "execution_count": 19,
   "metadata": {},
   "outputs": [
    {
     "data": {
      "text/html": [
       "<div>\n",
       "<table border=\"1\" class=\"dataframe\">\n",
       "  <thead>\n",
       "    <tr style=\"text-align: right;\">\n",
       "      <th></th>\n",
       "      <th>boiler_id</th>\n",
       "      <th>inspection_year</th>\n",
       "      <th>bin_number</th>\n",
       "      <th>defects_exist</th>\n",
       "    </tr>\n",
       "  </thead>\n",
       "  <tbody>\n",
       "    <tr>\n",
       "      <th>6</th>\n",
       "      <td>10000000000N0000</td>\n",
       "      <td>2017</td>\n",
       "      <td>1059499</td>\n",
       "      <td>0</td>\n",
       "    </tr>\n",
       "    <tr>\n",
       "      <th>7</th>\n",
       "      <td>10000000000N0000</td>\n",
       "      <td>2018</td>\n",
       "      <td>1082350</td>\n",
       "      <td>0</td>\n",
       "    </tr>\n",
       "    <tr>\n",
       "      <th>8</th>\n",
       "      <td>10000000000N0001</td>\n",
       "      <td>2017</td>\n",
       "      <td>1005806</td>\n",
       "      <td>0</td>\n",
       "    </tr>\n",
       "    <tr>\n",
       "      <th>9</th>\n",
       "      <td>10000000000N0002</td>\n",
       "      <td>2017</td>\n",
       "      <td>1005806</td>\n",
       "      <td>0</td>\n",
       "    </tr>\n",
       "    <tr>\n",
       "      <th>10</th>\n",
       "      <td>10000000000Y0000</td>\n",
       "      <td>2017</td>\n",
       "      <td>1057373</td>\n",
       "      <td>0</td>\n",
       "    </tr>\n",
       "  </tbody>\n",
       "</table>\n",
       "</div>"
      ],
      "text/plain": [
       "           boiler_id  inspection_year  bin_number  defects_exist\n",
       "6   10000000000N0000             2017     1059499              0\n",
       "7   10000000000N0000             2018     1082350              0\n",
       "8   10000000000N0001             2017     1005806              0\n",
       "9   10000000000N0002             2017     1005806              0\n",
       "10  10000000000Y0000             2017     1057373              0"
      ]
     },
     "execution_count": 19,
     "metadata": {},
     "output_type": "execute_result"
    }
   ],
   "source": [
    "dob_now.loc[:,'inspection_year'] = dob_now['Inspection Date'].dt.year\n",
    "\n",
    "#Group by boiler_id and year, get dummy for if defects existed in each year\n",
    "dnow_boiler_year = dob_now.groupby(['Boiler ID', 'inspection_year'])\\\n",
    "                            .agg({'Defects Exist': defects_exist_dnow, 'Bin Number': min})\n",
    "\n",
    "dnow_boiler_year.reset_index(inplace = True)\n",
    "\n",
    "dnow_boiler_year.rename(columns={'Boiler ID':'boiler_id',\n",
    "                                     'Defects Exist':'defects_exist',\n",
    "                                     'Bin Number': 'bin_number'},\n",
    "                            inplace=True)\n",
    "\n",
    "#Bin number to int\n",
    "dnow_boiler_year['bin_number'] = dnow_boiler_year['bin_number'].astype(int, errors='coerce')\n",
    "\n",
    "#Drop bad boiler ids\n",
    "dnow_boiler_year = dnow_boiler_year.loc[(dnow_boiler_year.boiler_id.apply(lambda x: str(x)[0].isdigit()))\n",
    "                                               & (dnow_boiler_year.boiler_id.apply(lambda x: str(x)[1:11].isdigit()))\n",
    "                                               & (dnow_boiler_year.boiler_id.apply(lambda x: str(x)[12:].isdigit()))].copy()\n",
    "dnow_boiler_year = dnow_boiler_year.loc[dnow_boiler_year.boiler_id.apply(lambda x: int(x[0]) > 0)].copy()\n",
    "\n",
    "dnow_boiler_year.head()"
   ]
  },
  {
   "cell_type": "code",
   "execution_count": 20,
   "metadata": {},
   "outputs": [
    {
     "data": {
      "text/plain": [
       "95708"
      ]
     },
     "execution_count": 20,
     "metadata": {},
     "output_type": "execute_result"
    }
   ],
   "source": [
    "dnow_boiler_year.boiler_id.nunique()"
   ]
  },
  {
   "cell_type": "markdown",
   "metadata": {},
   "source": [
    "## Join and get stats\n",
    "\n",
    "Have to decide what to do with boilers where there is no data on the old system. We could drop them or assume they where installed in 2017.\n",
    "\n",
    "**Dropping for now as we need to check on the historical website what's going on with the ones we couldn't get.**"
   ]
  },
  {
   "cell_type": "code",
   "execution_count": 21,
   "metadata": {},
   "outputs": [],
   "source": [
    "dnow_boiler_year = dnow_boiler_year.loc[dnow_boiler_year.boiler_id.isin(bis_boiler_year.boiler_id)].copy()"
   ]
  },
  {
   "cell_type": "code",
   "execution_count": 22,
   "metadata": {},
   "outputs": [
    {
     "data": {
      "text/html": [
       "<div>\n",
       "<table border=\"1\" class=\"dataframe\">\n",
       "  <thead>\n",
       "    <tr style=\"text-align: right;\">\n",
       "      <th></th>\n",
       "      <th>boiler_id</th>\n",
       "      <th>inspection_year</th>\n",
       "      <th>bin_number</th>\n",
       "      <th>defects_exist</th>\n",
       "    </tr>\n",
       "  </thead>\n",
       "  <tbody>\n",
       "    <tr>\n",
       "      <th>0</th>\n",
       "      <td>10000000027N0001</td>\n",
       "      <td>1993</td>\n",
       "      <td>1080776</td>\n",
       "      <td>0</td>\n",
       "    </tr>\n",
       "    <tr>\n",
       "      <th>1</th>\n",
       "      <td>10000000027N0001</td>\n",
       "      <td>1994</td>\n",
       "      <td>1080776</td>\n",
       "      <td>0</td>\n",
       "    </tr>\n",
       "    <tr>\n",
       "      <th>2</th>\n",
       "      <td>10000000027N0001</td>\n",
       "      <td>1995</td>\n",
       "      <td>1080776</td>\n",
       "      <td>0</td>\n",
       "    </tr>\n",
       "    <tr>\n",
       "      <th>3</th>\n",
       "      <td>10000000027N0001</td>\n",
       "      <td>1996</td>\n",
       "      <td>1080776</td>\n",
       "      <td>0</td>\n",
       "    </tr>\n",
       "    <tr>\n",
       "      <th>4</th>\n",
       "      <td>10000000027N0001</td>\n",
       "      <td>1997</td>\n",
       "      <td>1080776</td>\n",
       "      <td>0</td>\n",
       "    </tr>\n",
       "  </tbody>\n",
       "</table>\n",
       "</div>"
      ],
      "text/plain": [
       "          boiler_id  inspection_year  bin_number  defects_exist\n",
       "0  10000000027N0001             1993     1080776              0\n",
       "1  10000000027N0001             1994     1080776              0\n",
       "2  10000000027N0001             1995     1080776              0\n",
       "3  10000000027N0001             1996     1080776              0\n",
       "4  10000000027N0001             1997     1080776              0"
      ]
     },
     "execution_count": 22,
     "metadata": {},
     "output_type": "execute_result"
    }
   ],
   "source": [
    "all_boiler_year = pd.concat([bis_boiler_year, dnow_boiler_year], ignore_index=True)\n",
    "all_boiler_year.sort_values(['boiler_id', 'inspection_year'], inplace=True)\n",
    "all_boiler_year.reset_index(drop=True, inplace=True)\n",
    "all_boiler_year.head()"
   ]
  },
  {
   "cell_type": "code",
   "execution_count": 23,
   "metadata": {},
   "outputs": [
    {
     "data": {
      "text/plain": [
       "2017    88798\n",
       "2018    85329\n",
       "2015    80262\n",
       "2016    79398\n",
       "2014    78146\n",
       "2013    75300\n",
       "2011    70229\n",
       "2009    69209\n",
       "2010    68919\n",
       "2008    67502\n",
       "2007    66596\n",
       "2006    65434\n",
       "2005    64594\n",
       "2004    62993\n",
       "2012    62284\n",
       "2003    60727\n",
       "2002    59805\n",
       "2001    57637\n",
       "2000    55715\n",
       "1999    55385\n",
       "1998    53842\n",
       "1997    51052\n",
       "1996    50053\n",
       "1995    46103\n",
       "1994    44133\n",
       "1993    43116\n",
       "1992    36392\n",
       "2019    27424\n",
       "1991       29\n",
       "1900       19\n",
       "1966        1\n",
       "1908        1\n",
       "1905        1\n",
       "2207        1\n",
       "2099        1\n",
       "Name: inspection_year, dtype: int64"
      ]
     },
     "execution_count": 23,
     "metadata": {},
     "output_type": "execute_result"
    }
   ],
   "source": [
    "all_boiler_year.inspection_year.value_counts()"
   ]
  },
  {
   "cell_type": "code",
   "execution_count": 24,
   "metadata": {},
   "outputs": [],
   "source": [
    "#Remove bad years\n",
    "all_boiler_year = all_boiler_year.loc[(all_boiler_year.inspection_year > 1991) & (all_boiler_year.inspection_year <= 2019)].copy()"
   ]
  },
  {
   "cell_type": "code",
   "execution_count": 25,
   "metadata": {},
   "outputs": [
    {
     "data": {
      "text/plain": [
       "boiler_id\n",
       "10000000027N0001    1993\n",
       "10000000027N0002    1993\n",
       "10000000027N0003    2009\n",
       "10000000027N0004    2009\n",
       "10000000027N0005    2009\n",
       "Name: inspection_year, dtype: int64"
      ]
     },
     "execution_count": 25,
     "metadata": {},
     "output_type": "execute_result"
    }
   ],
   "source": [
    "#First inspection for each boiler\n",
    "boiler_first_insp = all_boiler_year.groupby('boiler_id')['inspection_year'].min()\n",
    "boiler_first_insp.head()"
   ]
  },
  {
   "cell_type": "code",
   "execution_count": 26,
   "metadata": {},
   "outputs": [
    {
     "data": {
      "text/html": [
       "<div>\n",
       "<table border=\"1\" class=\"dataframe\">\n",
       "  <thead>\n",
       "    <tr style=\"text-align: right;\">\n",
       "      <th></th>\n",
       "      <th>boiler_id</th>\n",
       "      <th>inspection_year</th>\n",
       "      <th>bin_number</th>\n",
       "      <th>defects_exist</th>\n",
       "      <th>first_inspection</th>\n",
       "      <th>boiler_age</th>\n",
       "    </tr>\n",
       "  </thead>\n",
       "  <tbody>\n",
       "    <tr>\n",
       "      <th>0</th>\n",
       "      <td>10000000027N0001</td>\n",
       "      <td>1993</td>\n",
       "      <td>1080776</td>\n",
       "      <td>0</td>\n",
       "      <td>1993</td>\n",
       "      <td>0</td>\n",
       "    </tr>\n",
       "    <tr>\n",
       "      <th>1</th>\n",
       "      <td>10000000027N0001</td>\n",
       "      <td>1994</td>\n",
       "      <td>1080776</td>\n",
       "      <td>0</td>\n",
       "      <td>1993</td>\n",
       "      <td>1</td>\n",
       "    </tr>\n",
       "    <tr>\n",
       "      <th>2</th>\n",
       "      <td>10000000027N0001</td>\n",
       "      <td>1995</td>\n",
       "      <td>1080776</td>\n",
       "      <td>0</td>\n",
       "      <td>1993</td>\n",
       "      <td>2</td>\n",
       "    </tr>\n",
       "    <tr>\n",
       "      <th>3</th>\n",
       "      <td>10000000027N0001</td>\n",
       "      <td>1996</td>\n",
       "      <td>1080776</td>\n",
       "      <td>0</td>\n",
       "      <td>1993</td>\n",
       "      <td>3</td>\n",
       "    </tr>\n",
       "    <tr>\n",
       "      <th>4</th>\n",
       "      <td>10000000027N0001</td>\n",
       "      <td>1997</td>\n",
       "      <td>1080776</td>\n",
       "      <td>0</td>\n",
       "      <td>1993</td>\n",
       "      <td>4</td>\n",
       "    </tr>\n",
       "  </tbody>\n",
       "</table>\n",
       "</div>"
      ],
      "text/plain": [
       "          boiler_id  inspection_year  bin_number  defects_exist  \\\n",
       "0  10000000027N0001             1993     1080776              0   \n",
       "1  10000000027N0001             1994     1080776              0   \n",
       "2  10000000027N0001             1995     1080776              0   \n",
       "3  10000000027N0001             1996     1080776              0   \n",
       "4  10000000027N0001             1997     1080776              0   \n",
       "\n",
       "   first_inspection  boiler_age  \n",
       "0              1993           0  \n",
       "1              1993           1  \n",
       "2              1993           2  \n",
       "3              1993           3  \n",
       "4              1993           4  "
      ]
     },
     "execution_count": 26,
     "metadata": {},
     "output_type": "execute_result"
    }
   ],
   "source": [
    "#Add year of first inspection\n",
    "all_boiler_year['first_inspection'] = all_boiler_year['boiler_id'].apply(lambda x: boiler_first_insp[x])\n",
    "#Calculate boiler age (years from first inspection)\n",
    "all_boiler_year['boiler_age'] = all_boiler_year.apply(lambda x: int(x['inspection_year'] - x['first_inspection']), axis=1)\n",
    "\n",
    "all_boiler_year.head()"
   ]
  },
  {
   "cell_type": "code",
   "execution_count": 27,
   "metadata": {},
   "outputs": [
    {
     "data": {
      "text/html": [
       "<div>\n",
       "<table border=\"1\" class=\"dataframe\">\n",
       "  <thead>\n",
       "    <tr style=\"text-align: right;\">\n",
       "      <th></th>\n",
       "      <th>boiler_id</th>\n",
       "      <th>inspection_year</th>\n",
       "      <th>bin_number</th>\n",
       "      <th>defects_exist</th>\n",
       "      <th>first_inspection</th>\n",
       "      <th>boiler_age</th>\n",
       "      <th>years_since_last_defects</th>\n",
       "    </tr>\n",
       "  </thead>\n",
       "  <tbody>\n",
       "    <tr>\n",
       "      <th>0</th>\n",
       "      <td>10000000027N0001</td>\n",
       "      <td>1993</td>\n",
       "      <td>1080776</td>\n",
       "      <td>0</td>\n",
       "      <td>1993</td>\n",
       "      <td>0</td>\n",
       "      <td>NaN</td>\n",
       "    </tr>\n",
       "    <tr>\n",
       "      <th>1</th>\n",
       "      <td>10000000027N0001</td>\n",
       "      <td>1994</td>\n",
       "      <td>1080776</td>\n",
       "      <td>0</td>\n",
       "      <td>1993</td>\n",
       "      <td>1</td>\n",
       "      <td>NaN</td>\n",
       "    </tr>\n",
       "    <tr>\n",
       "      <th>2</th>\n",
       "      <td>10000000027N0001</td>\n",
       "      <td>1995</td>\n",
       "      <td>1080776</td>\n",
       "      <td>0</td>\n",
       "      <td>1993</td>\n",
       "      <td>2</td>\n",
       "      <td>NaN</td>\n",
       "    </tr>\n",
       "    <tr>\n",
       "      <th>3</th>\n",
       "      <td>10000000027N0001</td>\n",
       "      <td>1996</td>\n",
       "      <td>1080776</td>\n",
       "      <td>0</td>\n",
       "      <td>1993</td>\n",
       "      <td>3</td>\n",
       "      <td>NaN</td>\n",
       "    </tr>\n",
       "    <tr>\n",
       "      <th>4</th>\n",
       "      <td>10000000027N0001</td>\n",
       "      <td>1997</td>\n",
       "      <td>1080776</td>\n",
       "      <td>0</td>\n",
       "      <td>1993</td>\n",
       "      <td>4</td>\n",
       "      <td>NaN</td>\n",
       "    </tr>\n",
       "    <tr>\n",
       "      <th>5</th>\n",
       "      <td>10000000027N0001</td>\n",
       "      <td>1998</td>\n",
       "      <td>1080776</td>\n",
       "      <td>0</td>\n",
       "      <td>1993</td>\n",
       "      <td>5</td>\n",
       "      <td>NaN</td>\n",
       "    </tr>\n",
       "    <tr>\n",
       "      <th>6</th>\n",
       "      <td>10000000027N0001</td>\n",
       "      <td>2000</td>\n",
       "      <td>1080776</td>\n",
       "      <td>0</td>\n",
       "      <td>1993</td>\n",
       "      <td>7</td>\n",
       "      <td>NaN</td>\n",
       "    </tr>\n",
       "    <tr>\n",
       "      <th>7</th>\n",
       "      <td>10000000027N0001</td>\n",
       "      <td>2002</td>\n",
       "      <td>1080776</td>\n",
       "      <td>0</td>\n",
       "      <td>1993</td>\n",
       "      <td>9</td>\n",
       "      <td>NaN</td>\n",
       "    </tr>\n",
       "    <tr>\n",
       "      <th>8</th>\n",
       "      <td>10000000027N0001</td>\n",
       "      <td>2003</td>\n",
       "      <td>1080776</td>\n",
       "      <td>0</td>\n",
       "      <td>1993</td>\n",
       "      <td>10</td>\n",
       "      <td>NaN</td>\n",
       "    </tr>\n",
       "    <tr>\n",
       "      <th>9</th>\n",
       "      <td>10000000027N0001</td>\n",
       "      <td>2004</td>\n",
       "      <td>1080776</td>\n",
       "      <td>0</td>\n",
       "      <td>1993</td>\n",
       "      <td>11</td>\n",
       "      <td>NaN</td>\n",
       "    </tr>\n",
       "    <tr>\n",
       "      <th>10</th>\n",
       "      <td>10000000027N0001</td>\n",
       "      <td>2005</td>\n",
       "      <td>1080776</td>\n",
       "      <td>1</td>\n",
       "      <td>1993</td>\n",
       "      <td>12</td>\n",
       "      <td>NaN</td>\n",
       "    </tr>\n",
       "    <tr>\n",
       "      <th>11</th>\n",
       "      <td>10000000027N0001</td>\n",
       "      <td>2006</td>\n",
       "      <td>1080776</td>\n",
       "      <td>0</td>\n",
       "      <td>1993</td>\n",
       "      <td>13</td>\n",
       "      <td>1.0</td>\n",
       "    </tr>\n",
       "    <tr>\n",
       "      <th>12</th>\n",
       "      <td>10000000027N0001</td>\n",
       "      <td>2007</td>\n",
       "      <td>1080776</td>\n",
       "      <td>0</td>\n",
       "      <td>1993</td>\n",
       "      <td>14</td>\n",
       "      <td>2.0</td>\n",
       "    </tr>\n",
       "    <tr>\n",
       "      <th>13</th>\n",
       "      <td>10000000027N0001</td>\n",
       "      <td>2008</td>\n",
       "      <td>1080776</td>\n",
       "      <td>0</td>\n",
       "      <td>1993</td>\n",
       "      <td>15</td>\n",
       "      <td>3.0</td>\n",
       "    </tr>\n",
       "    <tr>\n",
       "      <th>14</th>\n",
       "      <td>10000000027N0001</td>\n",
       "      <td>2009</td>\n",
       "      <td>1080776</td>\n",
       "      <td>1</td>\n",
       "      <td>1993</td>\n",
       "      <td>16</td>\n",
       "      <td>4.0</td>\n",
       "    </tr>\n",
       "    <tr>\n",
       "      <th>15</th>\n",
       "      <td>10000000027N0001</td>\n",
       "      <td>2010</td>\n",
       "      <td>1080776</td>\n",
       "      <td>0</td>\n",
       "      <td>1993</td>\n",
       "      <td>17</td>\n",
       "      <td>1.0</td>\n",
       "    </tr>\n",
       "    <tr>\n",
       "      <th>16</th>\n",
       "      <td>10000000027N0001</td>\n",
       "      <td>2012</td>\n",
       "      <td>1080776</td>\n",
       "      <td>0</td>\n",
       "      <td>1993</td>\n",
       "      <td>19</td>\n",
       "      <td>3.0</td>\n",
       "    </tr>\n",
       "    <tr>\n",
       "      <th>17</th>\n",
       "      <td>10000000027N0001</td>\n",
       "      <td>2013</td>\n",
       "      <td>1080776</td>\n",
       "      <td>1</td>\n",
       "      <td>1993</td>\n",
       "      <td>20</td>\n",
       "      <td>4.0</td>\n",
       "    </tr>\n",
       "    <tr>\n",
       "      <th>18</th>\n",
       "      <td>10000000027N0001</td>\n",
       "      <td>2014</td>\n",
       "      <td>1080776</td>\n",
       "      <td>1</td>\n",
       "      <td>1993</td>\n",
       "      <td>21</td>\n",
       "      <td>1.0</td>\n",
       "    </tr>\n",
       "    <tr>\n",
       "      <th>19</th>\n",
       "      <td>10000000027N0001</td>\n",
       "      <td>2016</td>\n",
       "      <td>1080776</td>\n",
       "      <td>0</td>\n",
       "      <td>1993</td>\n",
       "      <td>23</td>\n",
       "      <td>2.0</td>\n",
       "    </tr>\n",
       "    <tr>\n",
       "      <th>20</th>\n",
       "      <td>10000000027N0001</td>\n",
       "      <td>2017</td>\n",
       "      <td>1080776</td>\n",
       "      <td>0</td>\n",
       "      <td>1993</td>\n",
       "      <td>24</td>\n",
       "      <td>3.0</td>\n",
       "    </tr>\n",
       "    <tr>\n",
       "      <th>21</th>\n",
       "      <td>10000000027N0001</td>\n",
       "      <td>2018</td>\n",
       "      <td>1080776</td>\n",
       "      <td>0</td>\n",
       "      <td>1993</td>\n",
       "      <td>25</td>\n",
       "      <td>4.0</td>\n",
       "    </tr>\n",
       "    <tr>\n",
       "      <th>22</th>\n",
       "      <td>10000000027N0002</td>\n",
       "      <td>1993</td>\n",
       "      <td>1080776</td>\n",
       "      <td>0</td>\n",
       "      <td>1993</td>\n",
       "      <td>0</td>\n",
       "      <td>NaN</td>\n",
       "    </tr>\n",
       "    <tr>\n",
       "      <th>23</th>\n",
       "      <td>10000000027N0002</td>\n",
       "      <td>1994</td>\n",
       "      <td>1080776</td>\n",
       "      <td>0</td>\n",
       "      <td>1993</td>\n",
       "      <td>1</td>\n",
       "      <td>NaN</td>\n",
       "    </tr>\n",
       "    <tr>\n",
       "      <th>24</th>\n",
       "      <td>10000000027N0002</td>\n",
       "      <td>1995</td>\n",
       "      <td>1080776</td>\n",
       "      <td>0</td>\n",
       "      <td>1993</td>\n",
       "      <td>2</td>\n",
       "      <td>NaN</td>\n",
       "    </tr>\n",
       "    <tr>\n",
       "      <th>25</th>\n",
       "      <td>10000000027N0002</td>\n",
       "      <td>1996</td>\n",
       "      <td>1080776</td>\n",
       "      <td>0</td>\n",
       "      <td>1993</td>\n",
       "      <td>3</td>\n",
       "      <td>NaN</td>\n",
       "    </tr>\n",
       "    <tr>\n",
       "      <th>26</th>\n",
       "      <td>10000000027N0002</td>\n",
       "      <td>1997</td>\n",
       "      <td>1080776</td>\n",
       "      <td>0</td>\n",
       "      <td>1993</td>\n",
       "      <td>4</td>\n",
       "      <td>NaN</td>\n",
       "    </tr>\n",
       "    <tr>\n",
       "      <th>27</th>\n",
       "      <td>10000000027N0002</td>\n",
       "      <td>1998</td>\n",
       "      <td>1080776</td>\n",
       "      <td>0</td>\n",
       "      <td>1993</td>\n",
       "      <td>5</td>\n",
       "      <td>NaN</td>\n",
       "    </tr>\n",
       "    <tr>\n",
       "      <th>28</th>\n",
       "      <td>10000000027N0002</td>\n",
       "      <td>2000</td>\n",
       "      <td>1080776</td>\n",
       "      <td>0</td>\n",
       "      <td>1993</td>\n",
       "      <td>7</td>\n",
       "      <td>NaN</td>\n",
       "    </tr>\n",
       "    <tr>\n",
       "      <th>29</th>\n",
       "      <td>10000000027N0002</td>\n",
       "      <td>2002</td>\n",
       "      <td>1080776</td>\n",
       "      <td>0</td>\n",
       "      <td>1993</td>\n",
       "      <td>9</td>\n",
       "      <td>NaN</td>\n",
       "    </tr>\n",
       "  </tbody>\n",
       "</table>\n",
       "</div>"
      ],
      "text/plain": [
       "           boiler_id  inspection_year  bin_number  defects_exist  \\\n",
       "0   10000000027N0001             1993     1080776              0   \n",
       "1   10000000027N0001             1994     1080776              0   \n",
       "2   10000000027N0001             1995     1080776              0   \n",
       "3   10000000027N0001             1996     1080776              0   \n",
       "4   10000000027N0001             1997     1080776              0   \n",
       "5   10000000027N0001             1998     1080776              0   \n",
       "6   10000000027N0001             2000     1080776              0   \n",
       "7   10000000027N0001             2002     1080776              0   \n",
       "8   10000000027N0001             2003     1080776              0   \n",
       "9   10000000027N0001             2004     1080776              0   \n",
       "10  10000000027N0001             2005     1080776              1   \n",
       "11  10000000027N0001             2006     1080776              0   \n",
       "12  10000000027N0001             2007     1080776              0   \n",
       "13  10000000027N0001             2008     1080776              0   \n",
       "14  10000000027N0001             2009     1080776              1   \n",
       "15  10000000027N0001             2010     1080776              0   \n",
       "16  10000000027N0001             2012     1080776              0   \n",
       "17  10000000027N0001             2013     1080776              1   \n",
       "18  10000000027N0001             2014     1080776              1   \n",
       "19  10000000027N0001             2016     1080776              0   \n",
       "20  10000000027N0001             2017     1080776              0   \n",
       "21  10000000027N0001             2018     1080776              0   \n",
       "22  10000000027N0002             1993     1080776              0   \n",
       "23  10000000027N0002             1994     1080776              0   \n",
       "24  10000000027N0002             1995     1080776              0   \n",
       "25  10000000027N0002             1996     1080776              0   \n",
       "26  10000000027N0002             1997     1080776              0   \n",
       "27  10000000027N0002             1998     1080776              0   \n",
       "28  10000000027N0002             2000     1080776              0   \n",
       "29  10000000027N0002             2002     1080776              0   \n",
       "\n",
       "    first_inspection  boiler_age  years_since_last_defects  \n",
       "0               1993           0                       NaN  \n",
       "1               1993           1                       NaN  \n",
       "2               1993           2                       NaN  \n",
       "3               1993           3                       NaN  \n",
       "4               1993           4                       NaN  \n",
       "5               1993           5                       NaN  \n",
       "6               1993           7                       NaN  \n",
       "7               1993           9                       NaN  \n",
       "8               1993          10                       NaN  \n",
       "9               1993          11                       NaN  \n",
       "10              1993          12                       NaN  \n",
       "11              1993          13                       1.0  \n",
       "12              1993          14                       2.0  \n",
       "13              1993          15                       3.0  \n",
       "14              1993          16                       4.0  \n",
       "15              1993          17                       1.0  \n",
       "16              1993          19                       3.0  \n",
       "17              1993          20                       4.0  \n",
       "18              1993          21                       1.0  \n",
       "19              1993          23                       2.0  \n",
       "20              1993          24                       3.0  \n",
       "21              1993          25                       4.0  \n",
       "22              1993           0                       NaN  \n",
       "23              1993           1                       NaN  \n",
       "24              1993           2                       NaN  \n",
       "25              1993           3                       NaN  \n",
       "26              1993           4                       NaN  \n",
       "27              1993           5                       NaN  \n",
       "28              1993           7                       NaN  \n",
       "29              1993           9                       NaN  "
      ]
     },
     "execution_count": 27,
     "metadata": {},
     "output_type": "execute_result"
    }
   ],
   "source": [
    "#Mark change of boiler id\n",
    "all_boiler_year['boiler_change'] = (all_boiler_year.boiler_id.shift(-1) != all_boiler_year.boiler_id).apply(lambda x: -1 if x else None)\n",
    "\n",
    "#Add year if there is defects\n",
    "all_boiler_year['years_since_last_defects'] = all_boiler_year.apply(\n",
    "    lambda x: x['inspection_year'] if (x['defects_exist'] == 1) & (x['boiler_change'] != -1) else x['boiler_change'], axis=1).shift(1)\n",
    "\n",
    "#Drop change of boiler id\n",
    "all_boiler_year.drop('boiler_change', axis=1, inplace=True)\n",
    "\n",
    "#Front fill\n",
    "all_boiler_year.years_since_last_defects.fillna(method='ffill', inplace=True)\n",
    "\n",
    "#Replace -1 to NaN (No defects found before)\n",
    "all_boiler_year.years_since_last_defects.replace(-1, np.nan, inplace=True)\n",
    "\n",
    "#Get time in years\n",
    "all_boiler_year.years_since_last_defects = all_boiler_year.inspection_year - all_boiler_year.years_since_last_defects\n",
    "\n",
    "all_boiler_year.head(30)"
   ]
  },
  {
   "cell_type": "markdown",
   "metadata": {},
   "source": [
    "### Add DOB Now Boiler Data"
   ]
  },
  {
   "cell_type": "code",
   "execution_count": 28,
   "metadata": {},
   "outputs": [
    {
     "data": {
      "text/plain": [
       "Index(['Tracking Number', 'Boiler ID', 'Report Type', 'ApplicantFirst Name',\n",
       "       'Applicant Last Name', 'Applicant License Type',\n",
       "       'Applicant License Number', 'Owner First Name', 'Owner Last Name',\n",
       "       'Boiler Make', 'Boiler Model', 'Pressure Type', 'Inspection Type',\n",
       "       'Inspection Date', 'Defects Exist', 'LFF (45 Days)', 'LFF (180 Days)',\n",
       "       'Filing Fee', 'Total Amount Paid', 'Report Status', 'Bin Number',\n",
       "       'inspection_year'],\n",
       "      dtype='object')"
      ]
     },
     "execution_count": 28,
     "metadata": {},
     "output_type": "execute_result"
    }
   ],
   "source": [
    "dob_now.columns"
   ]
  },
  {
   "cell_type": "code",
   "execution_count": 29,
   "metadata": {},
   "outputs": [
    {
     "data": {
      "text/html": [
       "<div>\n",
       "<table border=\"1\" class=\"dataframe\">\n",
       "  <thead>\n",
       "    <tr style=\"text-align: right;\">\n",
       "      <th></th>\n",
       "      <th>Boiler Make</th>\n",
       "      <th>Boiler Model</th>\n",
       "      <th>Pressure Type</th>\n",
       "    </tr>\n",
       "    <tr>\n",
       "      <th>Boiler ID</th>\n",
       "      <th></th>\n",
       "      <th></th>\n",
       "      <th></th>\n",
       "    </tr>\n",
       "  </thead>\n",
       "  <tbody>\n",
       "    <tr>\n",
       "      <th>0000000000000000</th>\n",
       "      <td>Slant Fin</td>\n",
       "      <td>EG-75</td>\n",
       "      <td>Low Pressure</td>\n",
       "    </tr>\n",
       "    <tr>\n",
       "      <th>000000000BNR0000</th>\n",
       "      <td>Slant Fin</td>\n",
       "      <td>GG375</td>\n",
       "      <td>Low Pressure</td>\n",
       "    </tr>\n",
       "    <tr>\n",
       "      <th>0000000016492301</th>\n",
       "      <td>BURNHAM</td>\n",
       "      <td>5008N</td>\n",
       "      <td>Low Pressure</td>\n",
       "    </tr>\n",
       "    <tr>\n",
       "      <th>00000000BNRN0000</th>\n",
       "      <td>Slant Fin</td>\n",
       "      <td>GG375</td>\n",
       "      <td>Low Pressure</td>\n",
       "    </tr>\n",
       "    <tr>\n",
       "      <th>00000000BNRN0003</th>\n",
       "      <td>AO SMITH</td>\n",
       "      <td>HW-670</td>\n",
       "      <td>Low Pressure</td>\n",
       "    </tr>\n",
       "  </tbody>\n",
       "</table>\n",
       "</div>"
      ],
      "text/plain": [
       "                 Boiler Make Boiler Model Pressure Type\n",
       "Boiler ID                                              \n",
       "0000000000000000   Slant Fin        EG-75  Low Pressure\n",
       "000000000BNR0000   Slant Fin        GG375  Low Pressure\n",
       "0000000016492301     BURNHAM        5008N  Low Pressure\n",
       "00000000BNRN0000   Slant Fin        GG375  Low Pressure\n",
       "00000000BNRN0003    AO SMITH       HW-670  Low Pressure"
      ]
     },
     "execution_count": 29,
     "metadata": {},
     "output_type": "execute_result"
    }
   ],
   "source": [
    "dob_now_boiler_data = dob_now.groupby('Boiler ID')['Boiler Make', 'Boiler Model', 'Pressure Type'].min()\n",
    "dob_now_boiler_data.head()"
   ]
  },
  {
   "cell_type": "code",
   "execution_count": 30,
   "metadata": {},
   "outputs": [
    {
     "data": {
      "text/html": [
       "<div>\n",
       "<table border=\"1\" class=\"dataframe\">\n",
       "  <thead>\n",
       "    <tr style=\"text-align: right;\">\n",
       "      <th></th>\n",
       "      <th>boiler_id</th>\n",
       "      <th>inspection_year</th>\n",
       "      <th>bin_number</th>\n",
       "      <th>defects_exist</th>\n",
       "      <th>first_inspection</th>\n",
       "      <th>boiler_age</th>\n",
       "      <th>years_since_last_defects</th>\n",
       "      <th>boiler_make</th>\n",
       "      <th>boiler_model</th>\n",
       "      <th>boiler_pressure_type</th>\n",
       "    </tr>\n",
       "  </thead>\n",
       "  <tbody>\n",
       "    <tr>\n",
       "      <th>0</th>\n",
       "      <td>10000000027N0001</td>\n",
       "      <td>1993</td>\n",
       "      <td>1080776</td>\n",
       "      <td>0</td>\n",
       "      <td>1993</td>\n",
       "      <td>0</td>\n",
       "      <td>NaN</td>\n",
       "      <td>SLANTFIN</td>\n",
       "      <td>GG-399</td>\n",
       "      <td>Low Pressure</td>\n",
       "    </tr>\n",
       "    <tr>\n",
       "      <th>1</th>\n",
       "      <td>10000000027N0001</td>\n",
       "      <td>1994</td>\n",
       "      <td>1080776</td>\n",
       "      <td>0</td>\n",
       "      <td>1993</td>\n",
       "      <td>1</td>\n",
       "      <td>NaN</td>\n",
       "      <td>SLANTFIN</td>\n",
       "      <td>GG-399</td>\n",
       "      <td>Low Pressure</td>\n",
       "    </tr>\n",
       "    <tr>\n",
       "      <th>2</th>\n",
       "      <td>10000000027N0001</td>\n",
       "      <td>1995</td>\n",
       "      <td>1080776</td>\n",
       "      <td>0</td>\n",
       "      <td>1993</td>\n",
       "      <td>2</td>\n",
       "      <td>NaN</td>\n",
       "      <td>SLANTFIN</td>\n",
       "      <td>GG-399</td>\n",
       "      <td>Low Pressure</td>\n",
       "    </tr>\n",
       "    <tr>\n",
       "      <th>3</th>\n",
       "      <td>10000000027N0001</td>\n",
       "      <td>1996</td>\n",
       "      <td>1080776</td>\n",
       "      <td>0</td>\n",
       "      <td>1993</td>\n",
       "      <td>3</td>\n",
       "      <td>NaN</td>\n",
       "      <td>SLANTFIN</td>\n",
       "      <td>GG-399</td>\n",
       "      <td>Low Pressure</td>\n",
       "    </tr>\n",
       "    <tr>\n",
       "      <th>4</th>\n",
       "      <td>10000000027N0001</td>\n",
       "      <td>1997</td>\n",
       "      <td>1080776</td>\n",
       "      <td>0</td>\n",
       "      <td>1993</td>\n",
       "      <td>4</td>\n",
       "      <td>NaN</td>\n",
       "      <td>SLANTFIN</td>\n",
       "      <td>GG-399</td>\n",
       "      <td>Low Pressure</td>\n",
       "    </tr>\n",
       "  </tbody>\n",
       "</table>\n",
       "</div>"
      ],
      "text/plain": [
       "          boiler_id  inspection_year  bin_number  defects_exist  \\\n",
       "0  10000000027N0001             1993     1080776              0   \n",
       "1  10000000027N0001             1994     1080776              0   \n",
       "2  10000000027N0001             1995     1080776              0   \n",
       "3  10000000027N0001             1996     1080776              0   \n",
       "4  10000000027N0001             1997     1080776              0   \n",
       "\n",
       "   first_inspection  boiler_age  years_since_last_defects boiler_make  \\\n",
       "0              1993           0                       NaN    SLANTFIN   \n",
       "1              1993           1                       NaN    SLANTFIN   \n",
       "2              1993           2                       NaN    SLANTFIN   \n",
       "3              1993           3                       NaN    SLANTFIN   \n",
       "4              1993           4                       NaN    SLANTFIN   \n",
       "\n",
       "  boiler_model boiler_pressure_type  \n",
       "0       GG-399         Low Pressure  \n",
       "1       GG-399         Low Pressure  \n",
       "2       GG-399         Low Pressure  \n",
       "3       GG-399         Low Pressure  \n",
       "4       GG-399         Low Pressure  "
      ]
     },
     "execution_count": 30,
     "metadata": {},
     "output_type": "execute_result"
    }
   ],
   "source": [
    "all_boiler_year[['boiler_make', 'boiler_model', 'boiler_pressure_type']] = all_boiler_year['boiler_id'].apply(\n",
    "    lambda x: dob_now_boiler_data.loc[x])\n",
    "all_boiler_year.head()"
   ]
  },
  {
   "cell_type": "code",
   "execution_count": 344,
   "metadata": {},
   "outputs": [],
   "source": [
    "all_boiler_year.to_csv('data/all_boiler_year_data.csv', index=False)"
   ]
  },
  {
   "cell_type": "markdown",
   "metadata": {},
   "source": [
    "### Check the data"
   ]
  },
  {
   "cell_type": "code",
   "execution_count": 31,
   "metadata": {},
   "outputs": [
    {
     "data": {
      "text/plain": [
       "Index(['boiler_id', 'inspection_year', 'bin_number', 'defects_exist',\n",
       "       'first_inspection', 'boiler_age', 'years_since_last_defects',\n",
       "       'boiler_make', 'boiler_model', 'boiler_pressure_type'],\n",
       "      dtype='object')"
      ]
     },
     "execution_count": 31,
     "metadata": {},
     "output_type": "execute_result"
    }
   ],
   "source": [
    "all_boiler_year.columns"
   ]
  },
  {
   "cell_type": "code",
   "execution_count": 32,
   "metadata": {},
   "outputs": [
    {
     "data": {
      "text/plain": [
       "(1726377, 10)"
      ]
     },
     "execution_count": 32,
     "metadata": {},
     "output_type": "execute_result"
    }
   ],
   "source": [
    "all_boiler_year.shape"
   ]
  },
  {
   "cell_type": "code",
   "execution_count": 33,
   "metadata": {},
   "outputs": [
    {
     "data": {
      "text/plain": [
       "90304"
      ]
     },
     "execution_count": 33,
     "metadata": {},
     "output_type": "execute_result"
    }
   ],
   "source": [
    "all_boiler_year.boiler_id.nunique()"
   ]
  },
  {
   "cell_type": "code",
   "execution_count": 34,
   "metadata": {},
   "outputs": [
    {
     "data": {
      "text/plain": [
       "19.117392363571934"
      ]
     },
     "execution_count": 34,
     "metadata": {},
     "output_type": "execute_result"
    }
   ],
   "source": [
    "#Average years per boiler in the data\n",
    "len(all_boiler_year)/all_boiler_year.boiler_id.nunique()"
   ]
  },
  {
   "cell_type": "code",
   "execution_count": 35,
   "metadata": {},
   "outputs": [
    {
     "data": {
      "text/plain": [
       "0    88.279095\n",
       "1    11.720905\n",
       "Name: defects_exist, dtype: float64"
      ]
     },
     "execution_count": 35,
     "metadata": {},
     "output_type": "execute_result"
    }
   ],
   "source": [
    "#Percentage of times defects are found\n",
    "all_boiler_year.defects_exist.value_counts()/len(all_boiler_year)*100"
   ]
  },
  {
   "cell_type": "code",
   "execution_count": 36,
   "metadata": {},
   "outputs": [
    {
     "name": "stderr",
     "output_type": "stream",
     "text": [
      "/usr/local/Anaconda3-5.0.0-Linux-x86_64/envs/PUI2016_Python3/lib/python3.5/site-packages/numpy/lib/function_base.py:3403: RuntimeWarning: Invalid value encountered in median\n",
      "  RuntimeWarning)\n"
     ]
    },
    {
     "data": {
      "text/html": [
       "<div>\n",
       "<table border=\"1\" class=\"dataframe\">\n",
       "  <thead>\n",
       "    <tr style=\"text-align: right;\">\n",
       "      <th></th>\n",
       "      <th>inspection_year</th>\n",
       "      <th>bin_number</th>\n",
       "      <th>defects_exist</th>\n",
       "      <th>first_inspection</th>\n",
       "      <th>boiler_age</th>\n",
       "      <th>years_since_last_defects</th>\n",
       "    </tr>\n",
       "  </thead>\n",
       "  <tbody>\n",
       "    <tr>\n",
       "      <th>count</th>\n",
       "      <td>1.726377e+06</td>\n",
       "      <td>1.726377e+06</td>\n",
       "      <td>1.726377e+06</td>\n",
       "      <td>1.726377e+06</td>\n",
       "      <td>1.726377e+06</td>\n",
       "      <td>684814.000000</td>\n",
       "    </tr>\n",
       "    <tr>\n",
       "      <th>mean</th>\n",
       "      <td>2.006762e+03</td>\n",
       "      <td>2.598319e+06</td>\n",
       "      <td>1.172090e-01</td>\n",
       "      <td>1.994959e+03</td>\n",
       "      <td>1.180362e+01</td>\n",
       "      <td>4.616589</td>\n",
       "    </tr>\n",
       "    <tr>\n",
       "      <th>std</th>\n",
       "      <td>7.715736e+00</td>\n",
       "      <td>1.247971e+06</td>\n",
       "      <td>3.216693e-01</td>\n",
       "      <td>5.356786e+00</td>\n",
       "      <td>7.723902e+00</td>\n",
       "      <td>3.861418</td>\n",
       "    </tr>\n",
       "    <tr>\n",
       "      <th>min</th>\n",
       "      <td>1.992000e+03</td>\n",
       "      <td>1.000008e+06</td>\n",
       "      <td>0.000000e+00</td>\n",
       "      <td>1.992000e+03</td>\n",
       "      <td>0.000000e+00</td>\n",
       "      <td>0.000000</td>\n",
       "    </tr>\n",
       "    <tr>\n",
       "      <th>25%</th>\n",
       "      <td>2.000000e+03</td>\n",
       "      <td>1.062925e+06</td>\n",
       "      <td>0.000000e+00</td>\n",
       "      <td>1.992000e+03</td>\n",
       "      <td>5.000000e+00</td>\n",
       "      <td>NaN</td>\n",
       "    </tr>\n",
       "    <tr>\n",
       "      <th>50%</th>\n",
       "      <td>2.007000e+03</td>\n",
       "      <td>3.032887e+06</td>\n",
       "      <td>0.000000e+00</td>\n",
       "      <td>1.992000e+03</td>\n",
       "      <td>1.100000e+01</td>\n",
       "      <td>NaN</td>\n",
       "    </tr>\n",
       "    <tr>\n",
       "      <th>75%</th>\n",
       "      <td>2.014000e+03</td>\n",
       "      <td>3.343114e+06</td>\n",
       "      <td>0.000000e+00</td>\n",
       "      <td>1.995000e+03</td>\n",
       "      <td>1.800000e+01</td>\n",
       "      <td>NaN</td>\n",
       "    </tr>\n",
       "    <tr>\n",
       "      <th>max</th>\n",
       "      <td>2.019000e+03</td>\n",
       "      <td>5.863593e+06</td>\n",
       "      <td>1.000000e+00</td>\n",
       "      <td>2.017000e+03</td>\n",
       "      <td>2.700000e+01</td>\n",
       "      <td>27.000000</td>\n",
       "    </tr>\n",
       "  </tbody>\n",
       "</table>\n",
       "</div>"
      ],
      "text/plain": [
       "       inspection_year    bin_number  defects_exist  first_inspection  \\\n",
       "count     1.726377e+06  1.726377e+06   1.726377e+06      1.726377e+06   \n",
       "mean      2.006762e+03  2.598319e+06   1.172090e-01      1.994959e+03   \n",
       "std       7.715736e+00  1.247971e+06   3.216693e-01      5.356786e+00   \n",
       "min       1.992000e+03  1.000008e+06   0.000000e+00      1.992000e+03   \n",
       "25%       2.000000e+03  1.062925e+06   0.000000e+00      1.992000e+03   \n",
       "50%       2.007000e+03  3.032887e+06   0.000000e+00      1.992000e+03   \n",
       "75%       2.014000e+03  3.343114e+06   0.000000e+00      1.995000e+03   \n",
       "max       2.019000e+03  5.863593e+06   1.000000e+00      2.017000e+03   \n",
       "\n",
       "         boiler_age  years_since_last_defects  \n",
       "count  1.726377e+06             684814.000000  \n",
       "mean   1.180362e+01                  4.616589  \n",
       "std    7.723902e+00                  3.861418  \n",
       "min    0.000000e+00                  0.000000  \n",
       "25%    5.000000e+00                       NaN  \n",
       "50%    1.100000e+01                       NaN  \n",
       "75%    1.800000e+01                       NaN  \n",
       "max    2.700000e+01                 27.000000  "
      ]
     },
     "execution_count": 36,
     "metadata": {},
     "output_type": "execute_result"
    }
   ],
   "source": [
    "all_boiler_year.describe()"
   ]
  },
  {
   "cell_type": "code",
   "execution_count": 37,
   "metadata": {},
   "outputs": [
    {
     "data": {
      "text/plain": [
       "<matplotlib.axes._subplots.AxesSubplot at 0x7fdfa743bda0>"
      ]
     },
     "execution_count": 37,
     "metadata": {},
     "output_type": "execute_result"
    },
    {
     "data": {
      "image/png": "[encoded data removed]",
      "text/plain": [
       "<matplotlib.figure.Figure at 0x7fdfa7bd49b0>"
      ]
     },
     "metadata": {},
     "output_type": "display_data"
    }
   ],
   "source": [
    "all_boiler_year.groupby('boiler_id')['inspection_year'].count().plot.hist()"
   ]
  },
  {
   "cell_type": "code",
   "execution_count": 41,
   "metadata": {},
   "outputs": [
    {
     "data": {
      "text/plain": [
       "1.0     176222\n",
       "2.0      96652\n",
       "3.0      73997\n",
       "4.0      61461\n",
       "5.0      50639\n",
       "6.0      43309\n",
       "7.0      37997\n",
       "8.0      32922\n",
       "9.0      28006\n",
       "10.0     22170\n",
       "11.0     16878\n",
       "12.0     12505\n",
       "13.0      9308\n",
       "14.0      6850\n",
       "15.0      4718\n",
       "16.0      3099\n",
       "17.0      1834\n",
       "0.0       1217\n",
       "18.0      1171\n",
       "19.0       880\n",
       "20.0       710\n",
       "21.0       609\n",
       "22.0       506\n",
       "23.0       412\n",
       "24.0       312\n",
       "25.0       249\n",
       "26.0       163\n",
       "27.0        18\n",
       "Name: years_since_last_defects, dtype: int64"
      ]
     },
     "execution_count": 41,
     "metadata": {},
     "output_type": "execute_result"
    }
   ],
   "source": [
    "all_boiler_year.years_since_last_defects.value_counts()"
   ]
  },
  {
   "cell_type": "code",
   "execution_count": 38,
   "metadata": {},
   "outputs": [
    {
     "data": {
      "text/plain": [
       "<matplotlib.axes._subplots.AxesSubplot at 0x7fdfa6b83cf8>"
      ]
     },
     "execution_count": 38,
     "metadata": {},
     "output_type": "execute_result"
    },
    {
     "data": {
      "image/png": "[encoded data removed]",
      "text/plain": [
       "<matplotlib.figure.Figure at 0x7fdfad2f61d0>"
      ]
     },
     "metadata": {},
     "output_type": "display_data"
    }
   ],
   "source": [
    "all_boiler_year.groupby('inspection_year')['boiler_id'].count().plot()"
   ]
  },
  {
   "cell_type": "code",
   "execution_count": 39,
   "metadata": {},
   "outputs": [
    {
     "data": {
      "text/plain": [
       "<matplotlib.axes._subplots.AxesSubplot at 0x7fdfad2f63c8>"
      ]
     },
     "execution_count": 39,
     "metadata": {},
     "output_type": "execute_result"
    },
    {
     "data": {
      "image/png": "[encoded data removed]",
      "text/plain": [
       "<matplotlib.figure.Figure at 0x7fdfa9fc7668>"
      ]
     },
     "metadata": {},
     "output_type": "display_data"
    }
   ],
   "source": [
    "all_boiler_year.drop_duplicates('boiler_id').groupby('first_inspection')['boiler_id'].count().plot()"
   ]
  },
  {
   "cell_type": "code",
   "execution_count": 45,
   "metadata": {},
   "outputs": [
    {
     "data": {
      "text/plain": [
       "1.0     176222\n",
       "2.0      96652\n",
       "3.0      73997\n",
       "4.0      61461\n",
       "5.0      50639\n",
       "6.0      43309\n",
       "7.0      37997\n",
       "8.0      32922\n",
       "9.0      28006\n",
       "10.0     22170\n",
       "11.0     16878\n",
       "12.0     12505\n",
       "13.0      9308\n",
       "14.0      6850\n",
       "15.0      4718\n",
       "16.0      3099\n",
       "17.0      1834\n",
       "0.0       1217\n",
       "18.0      1171\n",
       "19.0       880\n",
       "20.0       710\n",
       "21.0       609\n",
       "22.0       506\n",
       "23.0       412\n",
       "24.0       312\n",
       "25.0       249\n",
       "26.0       163\n",
       "27.0        18\n",
       "Name: years_since_last_defects, dtype: int64"
      ]
     },
     "execution_count": 45,
     "metadata": {},
     "output_type": "execute_result"
    }
   ],
   "source": [
    "all_boiler_year.years_since_last_defects.value_counts()"
   ]
  },
  {
   "cell_type": "code",
   "execution_count": 46,
   "metadata": {},
   "outputs": [
    {
     "data": {
      "text/plain": [
       "years_since_last_defects\n",
       "0.0     0.986031\n",
       "1.0     0.457179\n",
       "2.0     0.214812\n",
       "3.0     0.140316\n",
       "4.0     0.119067\n",
       "5.0     0.103122\n",
       "6.0     0.091644\n",
       "7.0     0.078322\n",
       "8.0     0.073507\n",
       "9.0     0.068985\n",
       "10.0    0.067524\n",
       "11.0    0.065885\n",
       "12.0    0.067573\n",
       "13.0    0.060700\n",
       "14.0    0.055036\n",
       "15.0    0.059983\n",
       "16.0    0.050984\n",
       "17.0    0.060523\n",
       "18.0    0.046114\n",
       "19.0    0.062500\n",
       "20.0    0.040845\n",
       "21.0    0.057471\n",
       "22.0    0.049407\n",
       "23.0    0.048544\n",
       "24.0    0.044872\n",
       "25.0    0.068273\n",
       "26.0    0.085890\n",
       "27.0    0.000000\n",
       "Name: defects_exist, dtype: float64"
      ]
     },
     "execution_count": 46,
     "metadata": {},
     "output_type": "execute_result"
    }
   ],
   "source": [
    "all_boiler_year.groupby('years_since_last_defects')['defects_exist'].mean()"
   ]
  }
 ],
 "metadata": {
  "kernelspec": {
   "display_name": "PUI2016_Python3",
   "language": "python",
   "name": "pui2016_python3"
  },
  "language_info": {
   "codemirror_mode": {
    "name": "ipython",
    "version": 3
   },
   "file_extension": ".py",
   "mimetype": "text/x-python",
   "name": "python",
   "nbconvert_exporter": "python",
   "pygments_lexer": "ipython3",
   "version": "3.5.4"
  }
 },
 "nbformat": 4,
 "nbformat_minor": 2
}
